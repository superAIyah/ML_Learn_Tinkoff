{
 "cells": [
  {
   "cell_type": "markdown",
   "metadata": {
    "id": "EADmNKm_ucFI"
   },
   "source": [
    "## Homework"
   ]
  },
  {
   "cell_type": "code",
   "execution_count": 1,
   "metadata": {
    "colab": {
     "base_uri": "https://localhost:8080/"
    },
    "id": "wjurpt4KJmCh",
    "outputId": "962ab30f-f319-4207-b729-47ad94d41d01"
   },
   "outputs": [
    {
     "name": "stdout",
     "output_type": "stream",
     "text": [
      "--2022-02-19 07:31:11--  https://docs.google.com/uc?export=download&id=1OKFSv2GpuUFDphO0r8LdM7bl6MAWwBfX\n",
      "Resolving docs.google.com (docs.google.com)... 74.125.124.139, 74.125.124.100, 74.125.124.113, ...\n",
      "Connecting to docs.google.com (docs.google.com)|74.125.124.139|:443... connected.\n",
      "HTTP request sent, awaiting response... 303 See Other\n",
      "Location: https://doc-04-ak-docs.googleusercontent.com/docs/securesc/ha0ro937gcuc7l7deffksulhg5h7mbp1/msvaed2k552t88j2dur5t8jfqv7rj89l/1645255800000/03856158561714992485/*/1OKFSv2GpuUFDphO0r8LdM7bl6MAWwBfX?e=download [following]\n",
      "Warning: wildcards not supported in HTTP.\n",
      "--2022-02-19 07:31:13--  https://doc-04-ak-docs.googleusercontent.com/docs/securesc/ha0ro937gcuc7l7deffksulhg5h7mbp1/msvaed2k552t88j2dur5t8jfqv7rj89l/1645255800000/03856158561714992485/*/1OKFSv2GpuUFDphO0r8LdM7bl6MAWwBfX?e=download\n",
      "Resolving doc-04-ak-docs.googleusercontent.com (doc-04-ak-docs.googleusercontent.com)... 74.125.70.132, 2607:f8b0:4001:c02::84\n",
      "Connecting to doc-04-ak-docs.googleusercontent.com (doc-04-ak-docs.googleusercontent.com)|74.125.70.132|:443... connected.\n",
      "HTTP request sent, awaiting response... 200 OK\n",
      "Length: 33322228 (32M) [text/csv]\n",
      "Saving to: ‘data.csv’\n",
      "\n",
      "data.csv            100%[===================>]  31.78M  89.7MB/s    in 0.4s    \n",
      "\n",
      "2022-02-19 07:31:13 (89.7 MB/s) - ‘data.csv’ saved [33322228/33322228]\n",
      "\n"
     ]
    }
   ],
   "source": [
    "!wget --no-check-certificate 'https://docs.google.com/uc?export=download&id=1OKFSv2GpuUFDphO0r8LdM7bl6MAWwBfX' -O data.csv"
   ]
  },
  {
   "cell_type": "markdown",
   "metadata": {
    "id": "UBAI5LS2xBSm"
   },
   "source": [
    "В этой домашней работе вы будете предсказывать стоимость домов по их характеристикам.\n",
    "\n",
    "Метрика качества: `RMSE`\n",
    "\n",
    "Оценивание:\n",
    "* Baseline - 2 балла\n",
    "* Feature Engineering - 2 балла\n",
    "* Model Selection - 3 балла\n",
    "* Ensemble v.1 - 3 балла\n",
    "* (*) Ensemble v.2 - дополнительно, 2 балла"
   ]
  },
  {
   "cell_type": "markdown",
   "metadata": {
    "id": "aBZhr_dw6HAn"
   },
   "source": [
    "### Описание датасета\n",
    "\n",
    "Короткое описание данных:\n",
    "```\n",
    "price: sale price (this is the target variable)\n",
    "id: transaction id\n",
    "timestamp: date of transaction\n",
    "full_sq: total area in square meters, including loggias, balconies and other non-residential areas\n",
    "life_sq: living area in square meters, excluding loggias, balconies and other non-residential areas\n",
    "floor: for apartments, floor of the building\n",
    "max_floor: number of floors in the building\n",
    "material: wall material\n",
    "build_year: year built\n",
    "num_room: number of living rooms\n",
    "kitch_sq: kitchen area\n",
    "state: apartment condition\n",
    "product_type: owner-occupier purchase or investment\n",
    "sub_area: name of the district\n",
    "\n",
    "The dataset also includes a collection of features about each property's surrounding neighbourhood, and some features that are constant across each sub area (known as a Raion). Most of the feature names are self explanatory, with the following notes. See below for a complete list.\n",
    "\n",
    "full_all: subarea population\n",
    "male_f, female_f: subarea population by gender\n",
    "young_*: population younger than working age\n",
    "work_*: working-age population\n",
    "ekder_*: retirement-age population\n",
    "n_m_{all|male|female}: population between n and m years old\n",
    "build_count_*: buildings in the subarea by construction type or year\n",
    "x_count_500: the number of x within 500m of the property\n",
    "x_part_500: the share of x within 500m of the property\n",
    "_sqm_: square meters\n",
    "cafe_count_d_price_p: number of cafes within d meters of the property that have an average bill under p RUB\n",
    "trc_: shopping malls\n",
    "prom_: industrial zones\n",
    "green_: green zones\n",
    "metro_: subway\n",
    "_avto_: distances by car\n",
    "mkad_: Moscow Circle Auto Road\n",
    "ttk_: Third Transport Ring\n",
    "sadovoe_: Garden Ring\n",
    "bulvar_ring_: Boulevard Ring\n",
    "kremlin_: City center\n",
    "zd_vokzaly_: Train station\n",
    "oil_chemistry_: Dirty industry\n",
    "ts_: Power plant\n",
    "```"
   ]
  },
  {
   "cell_type": "markdown",
   "metadata": {
    "id": "TOPtM_06uyqv"
   },
   "source": [
    "### Setup"
   ]
  },
  {
   "cell_type": "code",
   "execution_count": 158,
   "metadata": {
    "id": "9TpHMcn3u0MV"
   },
   "outputs": [],
   "source": [
    "from sklearn.model_selection import train_test_split\n",
    "import seaborn as sns\n",
    "import matplotlib.pyplot as plt\n",
    "import numpy as np\n",
    "import pandas as pd\n",
    "from tqdm import tqdm\n",
    "import warnings\n",
    "warnings.filterwarnings(\"ignore\")\n",
    "\n",
    "#ML algorithms\n",
    "from sklearn.model_selection import KFold\n",
    "from sklearn.impute import SimpleImputer\n",
    "from sklearn.linear_model import LinearRegression\n",
    "from sklearn.metrics import mean_squared_error\n",
    "from sklearn.metrics import mean_absolute_error\n",
    "from sklearn.tree import DecisionTreeRegressor\n",
    "from sklearn.linear_model import Lasso\n",
    "from sklearn.linear_model import HuberRegressor\n",
    "from sklearn import preprocessing\n",
    "from sklearn.preprocessing import StandardScaler\n",
    "from sklearn.ensemble import RandomForestRegressor\n",
    "from catboost import CatBoostRegressor\n",
    "import xgboost\n",
    "import lightgbm"
   ]
  },
  {
   "cell_type": "code",
   "execution_count": 4,
   "metadata": {
    "id": "-TLkVG3EwJzj"
   },
   "outputs": [],
   "source": [
    "df = pd.read_csv(\"data.csv\", parse_dates=[\"timestamp\"])"
   ]
  },
  {
   "cell_type": "markdown",
   "metadata": {
    "id": "znjwH9_mx3fZ"
   },
   "source": [
    "Разделите имеющиеся у вас данные на обучающую и тестовую выборки. В качестве обучающей выборки возьмите первые 80% данных, последние 20% - тестовая выборка."
   ]
  },
  {
   "cell_type": "code",
   "execution_count": 5,
   "metadata": {
    "colab": {
     "base_uri": "https://localhost:8080/",
     "height": 316
    },
    "id": "vIGjhB7--Sb7",
    "outputId": "2d3283e1-e570-47d4-b9a9-239c9d6dc05a"
   },
   "outputs": [
    {
     "data": {
      "text/html": [
       "\n",
       "  <div id=\"df-9dd9f0dc-ca0e-4008-823f-99161d15cc17\">\n",
       "    <div class=\"colab-df-container\">\n",
       "      <div>\n",
       "<style scoped>\n",
       "    .dataframe tbody tr th:only-of-type {\n",
       "        vertical-align: middle;\n",
       "    }\n",
       "\n",
       "    .dataframe tbody tr th {\n",
       "        vertical-align: top;\n",
       "    }\n",
       "\n",
       "    .dataframe thead th {\n",
       "        text-align: right;\n",
       "    }\n",
       "</style>\n",
       "<table border=\"1\" class=\"dataframe\">\n",
       "  <thead>\n",
       "    <tr style=\"text-align: right;\">\n",
       "      <th></th>\n",
       "      <th>id</th>\n",
       "      <th>timestamp</th>\n",
       "      <th>full_sq</th>\n",
       "      <th>life_sq</th>\n",
       "      <th>floor</th>\n",
       "      <th>max_floor</th>\n",
       "      <th>material</th>\n",
       "      <th>build_year</th>\n",
       "      <th>num_room</th>\n",
       "      <th>kitch_sq</th>\n",
       "      <th>state</th>\n",
       "      <th>product_type</th>\n",
       "      <th>sub_area</th>\n",
       "      <th>area_m</th>\n",
       "      <th>raion_popul</th>\n",
       "      <th>green_zone_part</th>\n",
       "      <th>indust_part</th>\n",
       "      <th>children_preschool</th>\n",
       "      <th>preschool_quota</th>\n",
       "      <th>preschool_education_centers_raion</th>\n",
       "      <th>children_school</th>\n",
       "      <th>school_quota</th>\n",
       "      <th>school_education_centers_raion</th>\n",
       "      <th>school_education_centers_top_20_raion</th>\n",
       "      <th>hospital_beds_raion</th>\n",
       "      <th>healthcare_centers_raion</th>\n",
       "      <th>university_top_20_raion</th>\n",
       "      <th>sport_objects_raion</th>\n",
       "      <th>additional_education_raion</th>\n",
       "      <th>culture_objects_top_25</th>\n",
       "      <th>culture_objects_top_25_raion</th>\n",
       "      <th>shopping_centers_raion</th>\n",
       "      <th>office_raion</th>\n",
       "      <th>thermal_power_plant_raion</th>\n",
       "      <th>incineration_raion</th>\n",
       "      <th>oil_chemistry_raion</th>\n",
       "      <th>radiation_raion</th>\n",
       "      <th>railroad_terminal_raion</th>\n",
       "      <th>big_market_raion</th>\n",
       "      <th>nuclear_reactor_raion</th>\n",
       "      <th>...</th>\n",
       "      <th>cafe_sum_3000_min_price_avg</th>\n",
       "      <th>cafe_sum_3000_max_price_avg</th>\n",
       "      <th>cafe_avg_price_3000</th>\n",
       "      <th>cafe_count_3000_na_price</th>\n",
       "      <th>cafe_count_3000_price_500</th>\n",
       "      <th>cafe_count_3000_price_1000</th>\n",
       "      <th>cafe_count_3000_price_1500</th>\n",
       "      <th>cafe_count_3000_price_2500</th>\n",
       "      <th>cafe_count_3000_price_4000</th>\n",
       "      <th>cafe_count_3000_price_high</th>\n",
       "      <th>big_church_count_3000</th>\n",
       "      <th>church_count_3000</th>\n",
       "      <th>mosque_count_3000</th>\n",
       "      <th>leisure_count_3000</th>\n",
       "      <th>sport_count_3000</th>\n",
       "      <th>market_count_3000</th>\n",
       "      <th>green_part_5000</th>\n",
       "      <th>prom_part_5000</th>\n",
       "      <th>office_count_5000</th>\n",
       "      <th>office_sqm_5000</th>\n",
       "      <th>trc_count_5000</th>\n",
       "      <th>trc_sqm_5000</th>\n",
       "      <th>cafe_count_5000</th>\n",
       "      <th>cafe_sum_5000_min_price_avg</th>\n",
       "      <th>cafe_sum_5000_max_price_avg</th>\n",
       "      <th>cafe_avg_price_5000</th>\n",
       "      <th>cafe_count_5000_na_price</th>\n",
       "      <th>cafe_count_5000_price_500</th>\n",
       "      <th>cafe_count_5000_price_1000</th>\n",
       "      <th>cafe_count_5000_price_1500</th>\n",
       "      <th>cafe_count_5000_price_2500</th>\n",
       "      <th>cafe_count_5000_price_4000</th>\n",
       "      <th>cafe_count_5000_price_high</th>\n",
       "      <th>big_church_count_5000</th>\n",
       "      <th>church_count_5000</th>\n",
       "      <th>mosque_count_5000</th>\n",
       "      <th>leisure_count_5000</th>\n",
       "      <th>sport_count_5000</th>\n",
       "      <th>market_count_5000</th>\n",
       "      <th>price</th>\n",
       "    </tr>\n",
       "  </thead>\n",
       "  <tbody>\n",
       "    <tr>\n",
       "      <th>0</th>\n",
       "      <td>0</td>\n",
       "      <td>2014-12-26</td>\n",
       "      <td>1</td>\n",
       "      <td>1.0</td>\n",
       "      <td>1.0</td>\n",
       "      <td>1.0</td>\n",
       "      <td>1.0</td>\n",
       "      <td>1.0</td>\n",
       "      <td>1.0</td>\n",
       "      <td>1.0</td>\n",
       "      <td>1.0</td>\n",
       "      <td>OwnerOccupier</td>\n",
       "      <td>Nagornoe</td>\n",
       "      <td>5.293465e+06</td>\n",
       "      <td>77878</td>\n",
       "      <td>0.023464</td>\n",
       "      <td>0.195781</td>\n",
       "      <td>4713</td>\n",
       "      <td>2279.0</td>\n",
       "      <td>4</td>\n",
       "      <td>5212</td>\n",
       "      <td>10027.0</td>\n",
       "      <td>8</td>\n",
       "      <td>1</td>\n",
       "      <td>NaN</td>\n",
       "      <td>3</td>\n",
       "      <td>0</td>\n",
       "      <td>2</td>\n",
       "      <td>2</td>\n",
       "      <td>no</td>\n",
       "      <td>0</td>\n",
       "      <td>2</td>\n",
       "      <td>6</td>\n",
       "      <td>no</td>\n",
       "      <td>no</td>\n",
       "      <td>no</td>\n",
       "      <td>no</td>\n",
       "      <td>no</td>\n",
       "      <td>no</td>\n",
       "      <td>no</td>\n",
       "      <td>...</td>\n",
       "      <td>705.32</td>\n",
       "      <td>1186.17</td>\n",
       "      <td>945.74</td>\n",
       "      <td>6</td>\n",
       "      <td>26</td>\n",
       "      <td>32</td>\n",
       "      <td>25</td>\n",
       "      <td>10</td>\n",
       "      <td>1</td>\n",
       "      <td>0</td>\n",
       "      <td>4</td>\n",
       "      <td>12</td>\n",
       "      <td>1</td>\n",
       "      <td>4</td>\n",
       "      <td>31</td>\n",
       "      <td>8</td>\n",
       "      <td>15.19</td>\n",
       "      <td>19.83</td>\n",
       "      <td>92</td>\n",
       "      <td>3478168</td>\n",
       "      <td>49</td>\n",
       "      <td>2235425</td>\n",
       "      <td>348</td>\n",
       "      <td>755.99</td>\n",
       "      <td>1263.47</td>\n",
       "      <td>1009.73</td>\n",
       "      <td>14</td>\n",
       "      <td>85</td>\n",
       "      <td>113</td>\n",
       "      <td>91</td>\n",
       "      <td>36</td>\n",
       "      <td>7</td>\n",
       "      <td>2</td>\n",
       "      <td>15</td>\n",
       "      <td>33</td>\n",
       "      <td>1</td>\n",
       "      <td>12</td>\n",
       "      <td>75</td>\n",
       "      <td>10</td>\n",
       "      <td>15318960</td>\n",
       "    </tr>\n",
       "    <tr>\n",
       "      <th>1</th>\n",
       "      <td>1</td>\n",
       "      <td>2012-10-04</td>\n",
       "      <td>64</td>\n",
       "      <td>64.0</td>\n",
       "      <td>16.0</td>\n",
       "      <td>NaN</td>\n",
       "      <td>NaN</td>\n",
       "      <td>NaN</td>\n",
       "      <td>NaN</td>\n",
       "      <td>NaN</td>\n",
       "      <td>NaN</td>\n",
       "      <td>OwnerOccupier</td>\n",
       "      <td>Poselenie Sosenskoe</td>\n",
       "      <td>6.677245e+07</td>\n",
       "      <td>9553</td>\n",
       "      <td>0.336177</td>\n",
       "      <td>0.072158</td>\n",
       "      <td>656</td>\n",
       "      <td>NaN</td>\n",
       "      <td>0</td>\n",
       "      <td>629</td>\n",
       "      <td>NaN</td>\n",
       "      <td>0</td>\n",
       "      <td>0</td>\n",
       "      <td>NaN</td>\n",
       "      <td>0</td>\n",
       "      <td>0</td>\n",
       "      <td>1</td>\n",
       "      <td>0</td>\n",
       "      <td>no</td>\n",
       "      <td>0</td>\n",
       "      <td>0</td>\n",
       "      <td>1</td>\n",
       "      <td>no</td>\n",
       "      <td>no</td>\n",
       "      <td>no</td>\n",
       "      <td>no</td>\n",
       "      <td>no</td>\n",
       "      <td>yes</td>\n",
       "      <td>no</td>\n",
       "      <td>...</td>\n",
       "      <td>1750.00</td>\n",
       "      <td>2875.00</td>\n",
       "      <td>2312.50</td>\n",
       "      <td>0</td>\n",
       "      <td>0</td>\n",
       "      <td>1</td>\n",
       "      <td>0</td>\n",
       "      <td>1</td>\n",
       "      <td>2</td>\n",
       "      <td>0</td>\n",
       "      <td>0</td>\n",
       "      <td>4</td>\n",
       "      <td>0</td>\n",
       "      <td>0</td>\n",
       "      <td>1</td>\n",
       "      <td>0</td>\n",
       "      <td>34.01</td>\n",
       "      <td>8.70</td>\n",
       "      <td>1</td>\n",
       "      <td>85159</td>\n",
       "      <td>1</td>\n",
       "      <td>189076</td>\n",
       "      <td>14</td>\n",
       "      <td>1108.33</td>\n",
       "      <td>1833.33</td>\n",
       "      <td>1470.83</td>\n",
       "      <td>2</td>\n",
       "      <td>1</td>\n",
       "      <td>4</td>\n",
       "      <td>3</td>\n",
       "      <td>2</td>\n",
       "      <td>2</td>\n",
       "      <td>0</td>\n",
       "      <td>0</td>\n",
       "      <td>13</td>\n",
       "      <td>1</td>\n",
       "      <td>0</td>\n",
       "      <td>6</td>\n",
       "      <td>1</td>\n",
       "      <td>6080000</td>\n",
       "    </tr>\n",
       "    <tr>\n",
       "      <th>2</th>\n",
       "      <td>2</td>\n",
       "      <td>2014-02-05</td>\n",
       "      <td>83</td>\n",
       "      <td>44.0</td>\n",
       "      <td>9.0</td>\n",
       "      <td>17.0</td>\n",
       "      <td>1.0</td>\n",
       "      <td>1985.0</td>\n",
       "      <td>3.0</td>\n",
       "      <td>10.0</td>\n",
       "      <td>3.0</td>\n",
       "      <td>Investment</td>\n",
       "      <td>Krylatskoe</td>\n",
       "      <td>1.216448e+07</td>\n",
       "      <td>78507</td>\n",
       "      <td>0.297166</td>\n",
       "      <td>0.000000</td>\n",
       "      <td>4611</td>\n",
       "      <td>3092.0</td>\n",
       "      <td>7</td>\n",
       "      <td>5067</td>\n",
       "      <td>7478.0</td>\n",
       "      <td>7</td>\n",
       "      <td>0</td>\n",
       "      <td>NaN</td>\n",
       "      <td>2</td>\n",
       "      <td>0</td>\n",
       "      <td>14</td>\n",
       "      <td>1</td>\n",
       "      <td>no</td>\n",
       "      <td>0</td>\n",
       "      <td>6</td>\n",
       "      <td>4</td>\n",
       "      <td>no</td>\n",
       "      <td>no</td>\n",
       "      <td>no</td>\n",
       "      <td>no</td>\n",
       "      <td>no</td>\n",
       "      <td>no</td>\n",
       "      <td>no</td>\n",
       "      <td>...</td>\n",
       "      <td>987.50</td>\n",
       "      <td>1645.83</td>\n",
       "      <td>1316.67</td>\n",
       "      <td>7</td>\n",
       "      <td>8</td>\n",
       "      <td>18</td>\n",
       "      <td>9</td>\n",
       "      <td>7</td>\n",
       "      <td>5</td>\n",
       "      <td>1</td>\n",
       "      <td>2</td>\n",
       "      <td>8</td>\n",
       "      <td>0</td>\n",
       "      <td>0</td>\n",
       "      <td>17</td>\n",
       "      <td>0</td>\n",
       "      <td>35.23</td>\n",
       "      <td>4.58</td>\n",
       "      <td>19</td>\n",
       "      <td>755824</td>\n",
       "      <td>19</td>\n",
       "      <td>1015107</td>\n",
       "      <td>95</td>\n",
       "      <td>923.26</td>\n",
       "      <td>1523.26</td>\n",
       "      <td>1223.26</td>\n",
       "      <td>9</td>\n",
       "      <td>18</td>\n",
       "      <td>25</td>\n",
       "      <td>23</td>\n",
       "      <td>13</td>\n",
       "      <td>6</td>\n",
       "      <td>1</td>\n",
       "      <td>8</td>\n",
       "      <td>18</td>\n",
       "      <td>0</td>\n",
       "      <td>1</td>\n",
       "      <td>52</td>\n",
       "      <td>0</td>\n",
       "      <td>17000000</td>\n",
       "    </tr>\n",
       "    <tr>\n",
       "      <th>3</th>\n",
       "      <td>3</td>\n",
       "      <td>2012-07-26</td>\n",
       "      <td>71</td>\n",
       "      <td>49.0</td>\n",
       "      <td>2.0</td>\n",
       "      <td>NaN</td>\n",
       "      <td>NaN</td>\n",
       "      <td>NaN</td>\n",
       "      <td>NaN</td>\n",
       "      <td>NaN</td>\n",
       "      <td>NaN</td>\n",
       "      <td>Investment</td>\n",
       "      <td>Matushkino</td>\n",
       "      <td>4.708040e+06</td>\n",
       "      <td>38075</td>\n",
       "      <td>0.271702</td>\n",
       "      <td>0.310199</td>\n",
       "      <td>2448</td>\n",
       "      <td>2080.0</td>\n",
       "      <td>3</td>\n",
       "      <td>2748</td>\n",
       "      <td>3885.0</td>\n",
       "      <td>4</td>\n",
       "      <td>0</td>\n",
       "      <td>NaN</td>\n",
       "      <td>0</td>\n",
       "      <td>0</td>\n",
       "      <td>0</td>\n",
       "      <td>0</td>\n",
       "      <td>no</td>\n",
       "      <td>0</td>\n",
       "      <td>0</td>\n",
       "      <td>1</td>\n",
       "      <td>no</td>\n",
       "      <td>no</td>\n",
       "      <td>no</td>\n",
       "      <td>no</td>\n",
       "      <td>no</td>\n",
       "      <td>no</td>\n",
       "      <td>no</td>\n",
       "      <td>...</td>\n",
       "      <td>500.00</td>\n",
       "      <td>850.00</td>\n",
       "      <td>675.00</td>\n",
       "      <td>0</td>\n",
       "      <td>5</td>\n",
       "      <td>3</td>\n",
       "      <td>2</td>\n",
       "      <td>0</td>\n",
       "      <td>0</td>\n",
       "      <td>0</td>\n",
       "      <td>1</td>\n",
       "      <td>2</td>\n",
       "      <td>0</td>\n",
       "      <td>1</td>\n",
       "      <td>4</td>\n",
       "      <td>1</td>\n",
       "      <td>20.84</td>\n",
       "      <td>7.28</td>\n",
       "      <td>3</td>\n",
       "      <td>51038</td>\n",
       "      <td>7</td>\n",
       "      <td>49700</td>\n",
       "      <td>14</td>\n",
       "      <td>507.14</td>\n",
       "      <td>857.14</td>\n",
       "      <td>682.14</td>\n",
       "      <td>0</td>\n",
       "      <td>7</td>\n",
       "      <td>4</td>\n",
       "      <td>3</td>\n",
       "      <td>0</td>\n",
       "      <td>0</td>\n",
       "      <td>0</td>\n",
       "      <td>1</td>\n",
       "      <td>3</td>\n",
       "      <td>0</td>\n",
       "      <td>2</td>\n",
       "      <td>8</td>\n",
       "      <td>2</td>\n",
       "      <td>990000</td>\n",
       "    </tr>\n",
       "    <tr>\n",
       "      <th>4</th>\n",
       "      <td>4</td>\n",
       "      <td>2014-10-29</td>\n",
       "      <td>60</td>\n",
       "      <td>42.0</td>\n",
       "      <td>9.0</td>\n",
       "      <td>9.0</td>\n",
       "      <td>1.0</td>\n",
       "      <td>1970.0</td>\n",
       "      <td>3.0</td>\n",
       "      <td>6.0</td>\n",
       "      <td>2.0</td>\n",
       "      <td>Investment</td>\n",
       "      <td>Gol'janovo</td>\n",
       "      <td>1.428699e+07</td>\n",
       "      <td>157010</td>\n",
       "      <td>0.389354</td>\n",
       "      <td>0.194489</td>\n",
       "      <td>7751</td>\n",
       "      <td>5041.0</td>\n",
       "      <td>6</td>\n",
       "      <td>8004</td>\n",
       "      <td>11081.0</td>\n",
       "      <td>7</td>\n",
       "      <td>0</td>\n",
       "      <td>125.0</td>\n",
       "      <td>3</td>\n",
       "      <td>0</td>\n",
       "      <td>5</td>\n",
       "      <td>3</td>\n",
       "      <td>no</td>\n",
       "      <td>0</td>\n",
       "      <td>5</td>\n",
       "      <td>3</td>\n",
       "      <td>no</td>\n",
       "      <td>no</td>\n",
       "      <td>no</td>\n",
       "      <td>yes</td>\n",
       "      <td>no</td>\n",
       "      <td>no</td>\n",
       "      <td>no</td>\n",
       "      <td>...</td>\n",
       "      <td>608.33</td>\n",
       "      <td>1020.83</td>\n",
       "      <td>814.58</td>\n",
       "      <td>2</td>\n",
       "      <td>7</td>\n",
       "      <td>9</td>\n",
       "      <td>8</td>\n",
       "      <td>0</td>\n",
       "      <td>0</td>\n",
       "      <td>0</td>\n",
       "      <td>3</td>\n",
       "      <td>3</td>\n",
       "      <td>0</td>\n",
       "      <td>0</td>\n",
       "      <td>13</td>\n",
       "      <td>2</td>\n",
       "      <td>36.40</td>\n",
       "      <td>9.08</td>\n",
       "      <td>11</td>\n",
       "      <td>300476</td>\n",
       "      <td>16</td>\n",
       "      <td>509176</td>\n",
       "      <td>54</td>\n",
       "      <td>656.00</td>\n",
       "      <td>1110.00</td>\n",
       "      <td>883.00</td>\n",
       "      <td>4</td>\n",
       "      <td>16</td>\n",
       "      <td>18</td>\n",
       "      <td>12</td>\n",
       "      <td>3</td>\n",
       "      <td>1</td>\n",
       "      <td>0</td>\n",
       "      <td>5</td>\n",
       "      <td>8</td>\n",
       "      <td>0</td>\n",
       "      <td>1</td>\n",
       "      <td>34</td>\n",
       "      <td>5</td>\n",
       "      <td>7900000</td>\n",
       "    </tr>\n",
       "  </tbody>\n",
       "</table>\n",
       "<p>5 rows × 292 columns</p>\n",
       "</div>\n",
       "      <button class=\"colab-df-convert\" onclick=\"convertToInteractive('df-9dd9f0dc-ca0e-4008-823f-99161d15cc17')\"\n",
       "              title=\"Convert this dataframe to an interactive table.\"\n",
       "              style=\"display:none;\">\n",
       "        \n",
       "  <svg xmlns=\"http://www.w3.org/2000/svg\" height=\"24px\"viewBox=\"0 0 24 24\"\n",
       "       width=\"24px\">\n",
       "    <path d=\"M0 0h24v24H0V0z\" fill=\"none\"/>\n",
       "    <path d=\"M18.56 5.44l.94 2.06.94-2.06 2.06-.94-2.06-.94-.94-2.06-.94 2.06-2.06.94zm-11 1L8.5 8.5l.94-2.06 2.06-.94-2.06-.94L8.5 2.5l-.94 2.06-2.06.94zm10 10l.94 2.06.94-2.06 2.06-.94-2.06-.94-.94-2.06-.94 2.06-2.06.94z\"/><path d=\"M17.41 7.96l-1.37-1.37c-.4-.4-.92-.59-1.43-.59-.52 0-1.04.2-1.43.59L10.3 9.45l-7.72 7.72c-.78.78-.78 2.05 0 2.83L4 21.41c.39.39.9.59 1.41.59.51 0 1.02-.2 1.41-.59l7.78-7.78 2.81-2.81c.8-.78.8-2.07 0-2.86zM5.41 20L4 18.59l7.72-7.72 1.47 1.35L5.41 20z\"/>\n",
       "  </svg>\n",
       "      </button>\n",
       "      \n",
       "  <style>\n",
       "    .colab-df-container {\n",
       "      display:flex;\n",
       "      flex-wrap:wrap;\n",
       "      gap: 12px;\n",
       "    }\n",
       "\n",
       "    .colab-df-convert {\n",
       "      background-color: #E8F0FE;\n",
       "      border: none;\n",
       "      border-radius: 50%;\n",
       "      cursor: pointer;\n",
       "      display: none;\n",
       "      fill: #1967D2;\n",
       "      height: 32px;\n",
       "      padding: 0 0 0 0;\n",
       "      width: 32px;\n",
       "    }\n",
       "\n",
       "    .colab-df-convert:hover {\n",
       "      background-color: #E2EBFA;\n",
       "      box-shadow: 0px 1px 2px rgba(60, 64, 67, 0.3), 0px 1px 3px 1px rgba(60, 64, 67, 0.15);\n",
       "      fill: #174EA6;\n",
       "    }\n",
       "\n",
       "    [theme=dark] .colab-df-convert {\n",
       "      background-color: #3B4455;\n",
       "      fill: #D2E3FC;\n",
       "    }\n",
       "\n",
       "    [theme=dark] .colab-df-convert:hover {\n",
       "      background-color: #434B5C;\n",
       "      box-shadow: 0px 1px 3px 1px rgba(0, 0, 0, 0.15);\n",
       "      filter: drop-shadow(0px 1px 2px rgba(0, 0, 0, 0.3));\n",
       "      fill: #FFFFFF;\n",
       "    }\n",
       "  </style>\n",
       "\n",
       "      <script>\n",
       "        const buttonEl =\n",
       "          document.querySelector('#df-9dd9f0dc-ca0e-4008-823f-99161d15cc17 button.colab-df-convert');\n",
       "        buttonEl.style.display =\n",
       "          google.colab.kernel.accessAllowed ? 'block' : 'none';\n",
       "\n",
       "        async function convertToInteractive(key) {\n",
       "          const element = document.querySelector('#df-9dd9f0dc-ca0e-4008-823f-99161d15cc17');\n",
       "          const dataTable =\n",
       "            await google.colab.kernel.invokeFunction('convertToInteractive',\n",
       "                                                     [key], {});\n",
       "          if (!dataTable) return;\n",
       "\n",
       "          const docLinkHtml = 'Like what you see? Visit the ' +\n",
       "            '<a target=\"_blank\" href=https://colab.research.google.com/notebooks/data_table.ipynb>data table notebook</a>'\n",
       "            + ' to learn more about interactive tables.';\n",
       "          element.innerHTML = '';\n",
       "          dataTable['output_type'] = 'display_data';\n",
       "          await google.colab.output.renderOutput(dataTable, element);\n",
       "          const docLink = document.createElement('div');\n",
       "          docLink.innerHTML = docLinkHtml;\n",
       "          element.appendChild(docLink);\n",
       "        }\n",
       "      </script>\n",
       "    </div>\n",
       "  </div>\n",
       "  "
      ],
      "text/plain": [
       "   id  timestamp  full_sq  ...  sport_count_5000  market_count_5000     price\n",
       "0   0 2014-12-26        1  ...                75                 10  15318960\n",
       "1   1 2012-10-04       64  ...                 6                  1   6080000\n",
       "2   2 2014-02-05       83  ...                52                  0  17000000\n",
       "3   3 2012-07-26       71  ...                 8                  2    990000\n",
       "4   4 2014-10-29       60  ...                34                  5   7900000\n",
       "\n",
       "[5 rows x 292 columns]"
      ]
     },
     "execution_count": 5,
     "metadata": {},
     "output_type": "execute_result"
    }
   ],
   "source": [
    "df.head()"
   ]
  },
  {
   "cell_type": "code",
   "execution_count": 6,
   "metadata": {
    "id": "dDu8IyF--h-4"
   },
   "outputs": [],
   "source": [
    "X = df.drop(columns='price')\n",
    "y = df['price']"
   ]
  },
  {
   "cell_type": "code",
   "execution_count": 7,
   "metadata": {
    "id": "NWicsd46A2cA"
   },
   "outputs": [],
   "source": [
    "X_train, X_test, y_train, y_test = train_test_split(X, y, test_size=0.2, random_state=42)\n",
    "X_TRAIN = X_train.copy() # сохраним исходные данные\n",
    "X_TEST = X_test.copy()"
   ]
  },
  {
   "cell_type": "markdown",
   "metadata": {
    "id": "pL4dJJwZP86w"
   },
   "source": [
    "Возможно в ваших моделях вам придется указывать, какие колонки являются категориальными (например, в бустингах). Для упрощения предлагается разделить колонки по следующему принципу:\n",
    "```\n",
    "drop_columns = [\n",
    "    'id',           # May leak information\n",
    "    'timestamp',    # May leak information\n",
    "]\n",
    "cat_columns = [\n",
    "    'product_type',              #\n",
    "    'material',                  # Material of the wall\n",
    "    'state',                     # Satisfaction level\n",
    "    'sub_area',                  # District name\n",
    "    'culture_objects_top_25',    #\n",
    "    'thermal_power_plant_raion', #\n",
    "    'incineration_raion',        #\n",
    "    'oil_chemistry_raion',       #\n",
    "    'radiation_raion',           #\n",
    "    'railroad_terminal_raion',   #\n",
    "    'big_market_raion',          #\n",
    "    'nuclear_reactor_raion',     #\n",
    "    'detention_facility_raion',  #\n",
    "    'ID_metro',                  #\n",
    "    'ID_railroad_station_walk',  #\n",
    "    'ID_railroad_station_avto',  #\n",
    "    'water_1line',               #\n",
    "    'ID_big_road1',              #\n",
    "    'big_road1_1line',           #\n",
    "    'ID_big_road2',              #\n",
    "    'railroad_1line',            #\n",
    "    'ID_railroad_terminal',      #\n",
    "    'ID_bus_terminal',           #\n",
    "    'ecology',                   #\n",
    "]\n",
    "num_columns = list(set(df.columns).difference(set(cat_columns + drop_columns)))\n",
    "```"
   ]
  },
  {
   "cell_type": "code",
   "execution_count": 8,
   "metadata": {
    "id": "vZfM1a4W_9ZY"
   },
   "outputs": [],
   "source": [
    "drop_columns = [\n",
    "    'id',           # May leak information\n",
    "    'timestamp',    # May leak information\n",
    "]\n",
    "cat_columns = [\n",
    "    'product_type',              #\n",
    "    'material',                  # Material of the wall\n",
    "    'state',                     # Satisfaction level\n",
    "    'sub_area',                  # District name\n",
    "    'culture_objects_top_25',    #\n",
    "    'thermal_power_plant_raion', #\n",
    "    'incineration_raion',        #\n",
    "    'oil_chemistry_raion',       #\n",
    "    'radiation_raion',           #\n",
    "    'railroad_terminal_raion',   #\n",
    "    'big_market_raion',          #\n",
    "    'nuclear_reactor_raion',     #\n",
    "    'detention_facility_raion',  #\n",
    "    'ID_metro',                  #\n",
    "    'ID_railroad_station_walk',  #\n",
    "    'ID_railroad_station_avto',  #\n",
    "    'water_1line',               #\n",
    "    'ID_big_road1',              #\n",
    "    'big_road1_1line',           #\n",
    "    'ID_big_road2',              #\n",
    "    'railroad_1line',            #\n",
    "    'ID_railroad_terminal',      #\n",
    "    'ID_bus_terminal',           #\n",
    "    'ecology',                   #\n",
    "]\n",
    "num_columns = list(set(X_train.columns).difference(set(cat_columns + drop_columns)))"
   ]
  },
  {
   "cell_type": "markdown",
   "metadata": {
    "id": "oiOby6hNu92W"
   },
   "source": [
    "### Baseline (2 балла)\n",
    "\n",
    "В качестве Baseline обучите `DecisionTreeRegressor` из `sklearn`."
   ]
  },
  {
   "cell_type": "markdown",
   "metadata": {
    "id": "5rhi6ZC5FXVy"
   },
   "source": [
    "### Preparing dataset: пропуски"
   ]
  },
  {
   "cell_type": "code",
   "execution_count": 9,
   "metadata": {
    "colab": {
     "base_uri": "https://localhost:8080/"
    },
    "id": "r4fD1LgSGkP7",
    "outputId": "af153423-d072-491b-c10e-685ba1d9b2e3"
   },
   "outputs": [
    {
     "name": "stdout",
     "output_type": "stream",
     "text": [
      "(20000, 291)\n"
     ]
    }
   ],
   "source": [
    "print(X.shape)"
   ]
  },
  {
   "cell_type": "code",
   "execution_count": 10,
   "metadata": {
    "colab": {
     "base_uri": "https://localhost:8080/"
    },
    "id": "gJIDf3kn1Wfv",
    "outputId": "c7f648bd-78fb-47b5-b166-c9e1b14d4b9a"
   },
   "outputs": [
    {
     "data": {
      "text/plain": [
       "51"
      ]
     },
     "execution_count": 10,
     "metadata": {},
     "output_type": "execute_result"
    }
   ],
   "source": [
    "X.isna().any().sum(axis = 0) #  сколько признаков содержат неизвестные значения"
   ]
  },
  {
   "cell_type": "code",
   "execution_count": 11,
   "metadata": {
    "colab": {
     "base_uri": "https://localhost:8080/"
    },
    "id": "9yGRmnweFhkB",
    "outputId": "ba528674-ce72-4767-932c-e6a126a54d31"
   },
   "outputs": [
    {
     "data": {
      "text/plain": [
       "hospital_beds_raion                      9404\n",
       "state                                    8907\n",
       "build_year                               8905\n",
       "cafe_avg_price_500                       8778\n",
       "cafe_sum_500_max_price_avg               8778\n",
       "cafe_sum_500_min_price_avg               8778\n",
       "max_floor                                6303\n",
       "material                                 6303\n",
       "num_room                                 6303\n",
       "kitch_sq                                 6303\n",
       "cafe_sum_1000_max_price_avg              4285\n",
       "cafe_avg_price_1000                      4285\n",
       "cafe_sum_1000_min_price_avg              4285\n",
       "preschool_quota                          4279\n",
       "school_quota                             4277\n",
       "life_sq                                  4103\n",
       "build_count_foam                         3175\n",
       "build_count_wood                         3175\n",
       "build_count_frame                        3175\n",
       "build_count_brick                        3175\n",
       "build_count_monolith                     3175\n",
       "build_count_panel                        3175\n",
       "build_count_1971-1995                    3175\n",
       "build_count_slag                         3175\n",
       "build_count_mix                          3175\n",
       "raion_build_count_with_builddate_info    3175\n",
       "build_count_before_1920                  3175\n",
       "build_count_1921-1945                    3175\n",
       "raion_build_count_with_material_info     3175\n",
       "build_count_after_1995                   3175\n",
       "build_count_block                        3175\n",
       "build_count_1946-1970                    3175\n",
       "cafe_sum_1500_min_price_avg              2769\n",
       "cafe_sum_1500_max_price_avg              2769\n",
       "cafe_avg_price_1500                      2769\n",
       "cafe_avg_price_2000                      1134\n",
       "cafe_sum_2000_min_price_avg              1134\n",
       "cafe_sum_2000_max_price_avg              1134\n",
       "cafe_avg_price_3000                       641\n",
       "cafe_sum_3000_min_price_avg               641\n",
       "cafe_sum_3000_max_price_avg               641\n",
       "cafe_sum_5000_min_price_avg               196\n",
       "cafe_sum_5000_max_price_avg               196\n",
       "cafe_avg_price_5000                       196\n",
       "prom_part_5000                            118\n",
       "floor                                     113\n",
       "metro_min_walk                             16\n",
       "metro_km_walk                              16\n",
       "railroad_station_walk_km                   16\n",
       "railroad_station_walk_min                  16\n",
       "ID_railroad_station_walk                   16\n",
       "dtype: int64"
      ]
     },
     "execution_count": 11,
     "metadata": {},
     "output_type": "execute_result"
    }
   ],
   "source": [
    "X.isna().sum().sort_values(ascending=False)[:51]"
   ]
  },
  {
   "cell_type": "code",
   "execution_count": 12,
   "metadata": {
    "id": "VKNE5UH_Ic2S"
   },
   "outputs": [],
   "source": [
    "columns_nan = X.isna().sum().sort_values(ascending=False)[:51].index"
   ]
  },
  {
   "cell_type": "code",
   "execution_count": 13,
   "metadata": {
    "id": "94ByVz3kIcyB"
   },
   "outputs": [],
   "source": [
    "cols_nan_num = set(columns_nan) & set(num_columns)"
   ]
  },
  {
   "cell_type": "code",
   "execution_count": 14,
   "metadata": {
    "colab": {
     "base_uri": "https://localhost:8080/"
    },
    "id": "Lwe6FfY3Ictx",
    "outputId": "909898bc-0218-4493-e7dc-04904a83b9d3"
   },
   "outputs": [
    {
     "name": "stdout",
     "output_type": "stream",
     "text": [
      "48\n"
     ]
    }
   ],
   "source": [
    "print(len(cols_nan_num)) # пропуски в числовых признаках"
   ]
  },
  {
   "cell_type": "code",
   "execution_count": 15,
   "metadata": {
    "id": "HsSETJj2IcnC"
   },
   "outputs": [],
   "source": [
    "cols_nan_cat = set(columns_nan) & set(cat_columns)"
   ]
  },
  {
   "cell_type": "code",
   "execution_count": 16,
   "metadata": {
    "colab": {
     "base_uri": "https://localhost:8080/"
    },
    "id": "ficFP8S2Icgg",
    "outputId": "70a1ae99-5ed2-4347-d1b5-6e95f99c0805"
   },
   "outputs": [
    {
     "name": "stdout",
     "output_type": "stream",
     "text": [
      "3\n"
     ]
    }
   ],
   "source": [
    "print(len(cols_nan_cat)) # пропуски в категорилаьных признаках"
   ]
  },
  {
   "cell_type": "code",
   "execution_count": 17,
   "metadata": {
    "id": "LWTf6vXJUNQs"
   },
   "outputs": [],
   "source": [
    "X_train_num = X_train[cols_nan_num]"
   ]
  },
  {
   "cell_type": "code",
   "execution_count": 18,
   "metadata": {
    "id": "zxAGC_-xIb7r"
   },
   "outputs": [],
   "source": [
    "# разобьем данные на группы и в каждой группе заполним средним все числовые пропуски\n",
    "kf = KFold(n_splits=5)\n",
    "for other, idxs in kf.split(X_train_num):\n",
    "    selection = X_train_num.iloc[idxs] # берем часть данных\n",
    "    imp_mean = SimpleImputer(missing_values=np.nan, strategy='mean') # стратегия заполнения\n",
    "    clean = pd.DataFrame(imp_mean.fit_transform(selection), columns = selection.columns) # запоминаем очищенную выборку\n",
    "    X_train_num.iloc[idxs] = clean"
   ]
  },
  {
   "cell_type": "code",
   "execution_count": 19,
   "metadata": {
    "id": "pcilyDqaYJMG"
   },
   "outputs": [],
   "source": [
    "X_train[list(cols_nan_num)] = X_train_num # исправляем числовые пропуски в трейне"
   ]
  },
  {
   "cell_type": "code",
   "execution_count": 20,
   "metadata": {
    "colab": {
     "base_uri": "https://localhost:8080/"
    },
    "id": "2jK2hovJRQbO",
    "outputId": "fd10502a-9527-4140-e946-32a0bec3c57e"
   },
   "outputs": [
    {
     "data": {
      "text/plain": [
       "3"
      ]
     },
     "execution_count": 20,
     "metadata": {},
     "output_type": "execute_result"
    }
   ],
   "source": [
    "X_train.isna().any().sum(axis=0) # осталось три категориальных признака с NaN"
   ]
  },
  {
   "cell_type": "code",
   "execution_count": 21,
   "metadata": {
    "id": "UW1AEZ1tOeM3"
   },
   "outputs": [],
   "source": [
    "X_train_cat = X_train[cols_nan_cat]"
   ]
  },
  {
   "cell_type": "code",
   "execution_count": 22,
   "metadata": {
    "id": "SlUTYwQiOeDy"
   },
   "outputs": [],
   "source": [
    "kf = KFold(n_splits=5)\n",
    "for other, idxs in kf.split(X_train_cat): # заполним пропуски для категориальных данных\n",
    "    selection = X_train_cat.iloc[idxs] # берем часть данных\n",
    "    imp_mean = SimpleImputer(missing_values=np.nan, strategy='most_frequent') # стратегия заполнения\n",
    "    clean = pd.DataFrame(imp_mean.fit_transform(selection), columns = selection.columns) # запоминаем очищенную выборку\n",
    "    X_train_cat.iloc[idxs] = clean"
   ]
  },
  {
   "cell_type": "code",
   "execution_count": 23,
   "metadata": {
    "id": "MTH8wpnAOd39"
   },
   "outputs": [],
   "source": [
    "X_train[list(cols_nan_cat)] =  X_train_cat"
   ]
  },
  {
   "cell_type": "code",
   "execution_count": 24,
   "metadata": {
    "colab": {
     "base_uri": "https://localhost:8080/"
    },
    "id": "Jhc_o3PaOdOG",
    "outputId": "99b9db2c-7d88-4041-ef89-4e605742b736"
   },
   "outputs": [
    {
     "data": {
      "text/plain": [
       "0"
      ]
     },
     "execution_count": 24,
     "metadata": {},
     "output_type": "execute_result"
    }
   ],
   "source": [
    "X_train.isna().any().sum().sum()"
   ]
  },
  {
   "cell_type": "code",
   "execution_count": 25,
   "metadata": {
    "id": "gjTAGR36cIgr"
   },
   "outputs": [],
   "source": [
    "# убираем все категориальные признаки\n",
    "Xcat = X_train[cat_columns]\n",
    "X_train.drop(columns = cat_columns, inplace=True)"
   ]
  },
  {
   "cell_type": "code",
   "execution_count": 26,
   "metadata": {
    "colab": {
     "base_uri": "https://localhost:8080/"
    },
    "id": "nK5C-2y9cbWZ",
    "outputId": "3dd37204-d84c-4828-d204-c41272bfffcc"
   },
   "outputs": [
    {
     "name": "stdout",
     "output_type": "stream",
     "text": [
      "(16000, 24)\n",
      "(16000, 186)\n"
     ]
    }
   ],
   "source": [
    "X_cat = pd.get_dummies(Xcat)\n",
    "print(Xcat.shape) # было\n",
    "print(X_cat.shape) # one-hot encoding стало"
   ]
  },
  {
   "cell_type": "code",
   "execution_count": 27,
   "metadata": {
    "id": "qAhHk1pzdRqr"
   },
   "outputs": [],
   "source": [
    "X_train = pd.concat([X_train, X_cat], axis = 1)\n",
    "X_train.drop(columns = drop_columns, inplace=True)"
   ]
  },
  {
   "cell_type": "code",
   "execution_count": 28,
   "metadata": {
    "colab": {
     "base_uri": "https://localhost:8080/"
    },
    "id": "J_bAmr5zdcyU",
    "outputId": "00e549aa-33ef-47f2-e051-0f05ee650e74"
   },
   "outputs": [
    {
     "name": "stdout",
     "output_type": "stream",
     "text": [
      "(16000, 451)\n"
     ]
    }
   ],
   "source": [
    "print(X_train.shape)"
   ]
  },
  {
   "cell_type": "markdown",
   "metadata": {
    "id": "hb9pqgKbnGgh"
   },
   "source": [
    "### Сделаем тоже самое для тестовой выборки. Мемори лики будут отсутствовать."
   ]
  },
  {
   "cell_type": "code",
   "execution_count": 29,
   "metadata": {
    "colab": {
     "base_uri": "https://localhost:8080/"
    },
    "id": "i2KJJpN0nF8G",
    "outputId": "7c2575e4-a151-420e-a366-85fbfffddbcd"
   },
   "outputs": [
    {
     "name": "stdout",
     "output_type": "stream",
     "text": [
      "0\n"
     ]
    }
   ],
   "source": [
    "# разобьем данные на группы и в каждой группе заполним средним все числовые пропуски\n",
    "X_test_num = X_test[cols_nan_num]\n",
    "kf = KFold(n_splits=5)\n",
    "for other, idxs in kf.split(X_test_num):\n",
    "    selection = X_test_num.iloc[idxs] # берем часть данных\n",
    "    imp_mean = SimpleImputer(missing_values=np.nan, strategy='mean') # стратегия заполнения\n",
    "    clean = pd.DataFrame(imp_mean.fit_transform(selection), columns = selection.columns) # запоминаем очищенную выборку\n",
    "    X_test_num.iloc[idxs] = clean\n",
    "X_test[list(cols_nan_num)] = X_test_num # исправляем числовые пропуски в тесте\n",
    "\n",
    "X_test_cat = X_test[cols_nan_cat]\n",
    "kf = KFold(n_splits=5)\n",
    "for other, idxs in kf.split(X_test_cat): # заполним пропуски для категориальных данных\n",
    "    selection = X_test_cat.iloc[idxs] # берем часть данных\n",
    "    imp_mean = SimpleImputer(missing_values=np.nan, strategy='most_frequent') # стратегия заполнения\n",
    "    clean = pd.DataFrame(imp_mean.fit_transform(selection), columns = selection.columns) # запоминаем очищенную выборку\n",
    "    X_test_cat.iloc[idxs] = clean\n",
    "X_test[list(cols_nan_cat)] =  X_test_cat # исправляем числовые пропуски в тесте\n",
    "print(X_test.isna().any().sum().sum()) # должно остаться ноль пропусков\n",
    "\n",
    "# убираем все категориальные признаки\n",
    "Xcat = X_test[cat_columns]\n",
    "X_test.drop(columns = cat_columns, inplace=True)\n",
    "X_cat = pd.get_dummies(Xcat)\n",
    "X_test = pd.concat([X_test, X_cat], axis = 1)\n",
    "\n",
    "X_test.drop(columns = drop_columns, inplace=True) # убираем ненужные признаки"
   ]
  },
  {
   "cell_type": "markdown",
   "metadata": {
    "id": "Ae1hTItbp4KB"
   },
   "source": [
    "### Бейзлайн - линейная регрессия"
   ]
  },
  {
   "cell_type": "code",
   "execution_count": 30,
   "metadata": {
    "colab": {
     "base_uri": "https://localhost:8080/"
    },
    "id": "qpbnt6WJrkru",
    "outputId": "6a182446-d579-4892-b1f6-8b0cd3b50a3e"
   },
   "outputs": [
    {
     "data": {
      "text/plain": [
       "{'sub_area_Molzhaninovskoe',\n",
       " 'sub_area_Poselenie Kievskij',\n",
       " 'sub_area_Poselenie Klenovskoe',\n",
       " 'sub_area_Poselenie Mihajlovo-Jarcevskoe',\n",
       " 'sub_area_Poselenie Shhapovskoe',\n",
       " 'sub_area_Poselenie Voronovskoe',\n",
       " 'sub_area_Vostochnoe'}"
      ]
     },
     "execution_count": 30,
     "metadata": {},
     "output_type": "execute_result"
    }
   ],
   "source": [
    "res = set(X_train.columns) - set(X_test.columns)\n",
    "res # те колонки, которых нет в тестовой выбрке"
   ]
  },
  {
   "cell_type": "code",
   "execution_count": 31,
   "metadata": {
    "id": "Q1sDwqFRtz2l"
   },
   "outputs": [],
   "source": [
    "X_test[list(res)] = np.zeros((X_test.shape[0], len(res)))"
   ]
  },
  {
   "cell_type": "code",
   "execution_count": 32,
   "metadata": {
    "colab": {
     "base_uri": "https://localhost:8080/"
    },
    "id": "hvI_yL-iuXKe",
    "outputId": "440bcbdd-b6aa-4dd1-8eda-001ae137bc80"
   },
   "outputs": [
    {
     "data": {
      "text/plain": [
       "set()"
      ]
     },
     "execution_count": 32,
     "metadata": {},
     "output_type": "execute_result"
    }
   ],
   "source": [
    "res = set(X_test.columns) - set(X_train.columns)\n",
    "res # те колонки, которых нет в трейне"
   ]
  },
  {
   "cell_type": "code",
   "execution_count": 33,
   "metadata": {
    "id": "vU1EUYNzudwv"
   },
   "outputs": [],
   "source": [
    "X_train[list(res)] = np.zeros((X_train.shape[0], len(res)))"
   ]
  },
  {
   "cell_type": "code",
   "execution_count": 34,
   "metadata": {
    "colab": {
     "base_uri": "https://localhost:8080/"
    },
    "id": "suQ8BLUCrGAz",
    "outputId": "9de01bea-e558-47ac-d15a-f6af0ed7a544"
   },
   "outputs": [
    {
     "name": "stdout",
     "output_type": "stream",
     "text": [
      "(4000, 451)\n",
      "(16000, 451)\n"
     ]
    }
   ],
   "source": [
    "print(X_test.shape) # теперь shape у трейна и теста должен быть одинаковым\n",
    "print(X_train.shape)"
   ]
  },
  {
   "cell_type": "code",
   "execution_count": 35,
   "metadata": {
    "id": "kyMymwHN2DPh"
   },
   "outputs": [],
   "source": [
    "# расположим колонки в тесте в таком же порядке, как в трейне\n",
    "X_test = X_test.reindex(columns=X_train.columns)"
   ]
  },
  {
   "cell_type": "code",
   "execution_count": 36,
   "metadata": {
    "id": "dRrbkvzAP-S4"
   },
   "outputs": [],
   "source": [
    "def RMSE(y_test, y_pred):\n",
    "    return mean_squared_error(y_test, y_pred, squared=False)"
   ]
  },
  {
   "cell_type": "code",
   "execution_count": 37,
   "metadata": {
    "colab": {
     "base_uri": "https://localhost:8080/"
    },
    "id": "3NlLjKMypjGr",
    "outputId": "170e2d14-6976-403c-e459-2eef8aed1a25"
   },
   "outputs": [
    {
     "name": "stdout",
     "output_type": "stream",
     "text": [
      "3222702.329998895\n"
     ]
    }
   ],
   "source": [
    "lin_reg = LinearRegression()\n",
    "lin_reg.fit(X_train, y_train)\n",
    "y_pred = lin_reg.predict(X_test)\n",
    "print(RMSE(y_test, y_pred))"
   ]
  },
  {
   "cell_type": "markdown",
   "metadata": {
    "id": "_E18DATOfELv"
   },
   "source": [
    "### Обучение Decision Tree"
   ]
  },
  {
   "cell_type": "code",
   "execution_count": 38,
   "metadata": {
    "colab": {
     "base_uri": "https://localhost:8080/"
    },
    "id": "kiLxzPALfD3b",
    "outputId": "07218d38-c558-4730-9245-313ea902bb1c"
   },
   "outputs": [
    {
     "data": {
      "text/plain": [
       "DecisionTreeRegressor(random_state=42)"
      ]
     },
     "execution_count": 38,
     "metadata": {},
     "output_type": "execute_result"
    }
   ],
   "source": [
    "clf = DecisionTreeRegressor(random_state=42)\n",
    "clf.fit(X_train, y_train)"
   ]
  },
  {
   "cell_type": "code",
   "execution_count": 39,
   "metadata": {
    "colab": {
     "base_uri": "https://localhost:8080/"
    },
    "id": "U_Kl8D4ihs5X",
    "outputId": "b9fed77c-47e5-4969-a919-508d93ef7c08"
   },
   "outputs": [
    {
     "name": "stdout",
     "output_type": "stream",
     "text": [
      "3919562.231522684\n"
     ]
    }
   ],
   "source": [
    "y_pred = clf.predict(X_test)\n",
    "print(RMSE(y_test, y_pred))"
   ]
  },
  {
   "cell_type": "markdown",
   "metadata": {
    "id": "0qV0j3Qwwuuo"
   },
   "source": [
    "### Нормализация признаков"
   ]
  },
  {
   "cell_type": "code",
   "execution_count": 40,
   "metadata": {
    "colab": {
     "base_uri": "https://localhost:8080/",
     "height": 505
    },
    "id": "VyzrbhrTwxOo",
    "outputId": "83d33994-87dd-4b53-f663-47c24fe810cc"
   },
   "outputs": [
    {
     "data": {
      "text/html": [
       "\n",
       "  <div id=\"df-a9670fe3-2b1a-4805-83d5-c28bd9ce6480\">\n",
       "    <div class=\"colab-df-container\">\n",
       "      <div>\n",
       "<style scoped>\n",
       "    .dataframe tbody tr th:only-of-type {\n",
       "        vertical-align: middle;\n",
       "    }\n",
       "\n",
       "    .dataframe tbody tr th {\n",
       "        vertical-align: top;\n",
       "    }\n",
       "\n",
       "    .dataframe thead th {\n",
       "        text-align: right;\n",
       "    }\n",
       "</style>\n",
       "<table border=\"1\" class=\"dataframe\">\n",
       "  <thead>\n",
       "    <tr style=\"text-align: right;\">\n",
       "      <th></th>\n",
       "      <th>full_sq</th>\n",
       "      <th>life_sq</th>\n",
       "      <th>floor</th>\n",
       "      <th>max_floor</th>\n",
       "      <th>build_year</th>\n",
       "      <th>num_room</th>\n",
       "      <th>kitch_sq</th>\n",
       "      <th>area_m</th>\n",
       "      <th>raion_popul</th>\n",
       "      <th>green_zone_part</th>\n",
       "      <th>indust_part</th>\n",
       "      <th>children_preschool</th>\n",
       "      <th>preschool_quota</th>\n",
       "      <th>preschool_education_centers_raion</th>\n",
       "      <th>children_school</th>\n",
       "      <th>school_quota</th>\n",
       "      <th>school_education_centers_raion</th>\n",
       "      <th>school_education_centers_top_20_raion</th>\n",
       "      <th>hospital_beds_raion</th>\n",
       "      <th>healthcare_centers_raion</th>\n",
       "      <th>university_top_20_raion</th>\n",
       "      <th>sport_objects_raion</th>\n",
       "      <th>additional_education_raion</th>\n",
       "      <th>culture_objects_top_25_raion</th>\n",
       "      <th>shopping_centers_raion</th>\n",
       "      <th>office_raion</th>\n",
       "      <th>full_all</th>\n",
       "      <th>male_f</th>\n",
       "      <th>female_f</th>\n",
       "      <th>young_all</th>\n",
       "      <th>young_male</th>\n",
       "      <th>young_female</th>\n",
       "      <th>work_all</th>\n",
       "      <th>work_male</th>\n",
       "      <th>work_female</th>\n",
       "      <th>ekder_all</th>\n",
       "      <th>ekder_male</th>\n",
       "      <th>ekder_female</th>\n",
       "      <th>0_6_all</th>\n",
       "      <th>0_6_male</th>\n",
       "      <th>...</th>\n",
       "      <th>sub_area_Veshnjaki</th>\n",
       "      <th>sub_area_Vnukovo</th>\n",
       "      <th>sub_area_Vojkovskoe</th>\n",
       "      <th>sub_area_Vostochnoe</th>\n",
       "      <th>sub_area_Vostochnoe Degunino</th>\n",
       "      <th>sub_area_Vostochnoe Izmajlovo</th>\n",
       "      <th>sub_area_Vyhino-Zhulebino</th>\n",
       "      <th>sub_area_Zamoskvorech'e</th>\n",
       "      <th>sub_area_Zapadnoe Degunino</th>\n",
       "      <th>sub_area_Zjablikovo</th>\n",
       "      <th>sub_area_Zjuzino</th>\n",
       "      <th>culture_objects_top_25_no</th>\n",
       "      <th>culture_objects_top_25_yes</th>\n",
       "      <th>thermal_power_plant_raion_no</th>\n",
       "      <th>thermal_power_plant_raion_yes</th>\n",
       "      <th>incineration_raion_no</th>\n",
       "      <th>incineration_raion_yes</th>\n",
       "      <th>oil_chemistry_raion_no</th>\n",
       "      <th>oil_chemistry_raion_yes</th>\n",
       "      <th>radiation_raion_no</th>\n",
       "      <th>radiation_raion_yes</th>\n",
       "      <th>railroad_terminal_raion_no</th>\n",
       "      <th>railroad_terminal_raion_yes</th>\n",
       "      <th>big_market_raion_no</th>\n",
       "      <th>big_market_raion_yes</th>\n",
       "      <th>nuclear_reactor_raion_no</th>\n",
       "      <th>nuclear_reactor_raion_yes</th>\n",
       "      <th>detention_facility_raion_no</th>\n",
       "      <th>detention_facility_raion_yes</th>\n",
       "      <th>water_1line_no</th>\n",
       "      <th>water_1line_yes</th>\n",
       "      <th>big_road1_1line_no</th>\n",
       "      <th>big_road1_1line_yes</th>\n",
       "      <th>railroad_1line_no</th>\n",
       "      <th>railroad_1line_yes</th>\n",
       "      <th>ecology_excellent</th>\n",
       "      <th>ecology_good</th>\n",
       "      <th>ecology_no data</th>\n",
       "      <th>ecology_poor</th>\n",
       "      <th>ecology_satisfactory</th>\n",
       "    </tr>\n",
       "  </thead>\n",
       "  <tbody>\n",
       "    <tr>\n",
       "      <th>5894</th>\n",
       "      <td>96</td>\n",
       "      <td>96.000000</td>\n",
       "      <td>3.0</td>\n",
       "      <td>12.759690</td>\n",
       "      <td>1869.313165</td>\n",
       "      <td>1.914273</td>\n",
       "      <td>6.865937</td>\n",
       "      <td>7.307411e+06</td>\n",
       "      <td>75377</td>\n",
       "      <td>0.065444</td>\n",
       "      <td>0.000078</td>\n",
       "      <td>4237</td>\n",
       "      <td>1874.000000</td>\n",
       "      <td>4</td>\n",
       "      <td>6398</td>\n",
       "      <td>6772.000000</td>\n",
       "      <td>4</td>\n",
       "      <td>1</td>\n",
       "      <td>1046.000000</td>\n",
       "      <td>3</td>\n",
       "      <td>2</td>\n",
       "      <td>29</td>\n",
       "      <td>16</td>\n",
       "      <td>10</td>\n",
       "      <td>23</td>\n",
       "      <td>141</td>\n",
       "      <td>116742</td>\n",
       "      <td>52836</td>\n",
       "      <td>63906</td>\n",
       "      <td>11272</td>\n",
       "      <td>5470</td>\n",
       "      <td>5802</td>\n",
       "      <td>43921</td>\n",
       "      <td>21901</td>\n",
       "      <td>22020</td>\n",
       "      <td>20184</td>\n",
       "      <td>6644</td>\n",
       "      <td>13540</td>\n",
       "      <td>4237</td>\n",
       "      <td>2079</td>\n",
       "      <td>...</td>\n",
       "      <td>0</td>\n",
       "      <td>0</td>\n",
       "      <td>0</td>\n",
       "      <td>0</td>\n",
       "      <td>0</td>\n",
       "      <td>0</td>\n",
       "      <td>0</td>\n",
       "      <td>0</td>\n",
       "      <td>0</td>\n",
       "      <td>0</td>\n",
       "      <td>0</td>\n",
       "      <td>0</td>\n",
       "      <td>1</td>\n",
       "      <td>1</td>\n",
       "      <td>0</td>\n",
       "      <td>1</td>\n",
       "      <td>0</td>\n",
       "      <td>1</td>\n",
       "      <td>0</td>\n",
       "      <td>0</td>\n",
       "      <td>1</td>\n",
       "      <td>0</td>\n",
       "      <td>1</td>\n",
       "      <td>1</td>\n",
       "      <td>0</td>\n",
       "      <td>1</td>\n",
       "      <td>0</td>\n",
       "      <td>0</td>\n",
       "      <td>1</td>\n",
       "      <td>1</td>\n",
       "      <td>0</td>\n",
       "      <td>1</td>\n",
       "      <td>0</td>\n",
       "      <td>1</td>\n",
       "      <td>0</td>\n",
       "      <td>1</td>\n",
       "      <td>0</td>\n",
       "      <td>0</td>\n",
       "      <td>0</td>\n",
       "      <td>0</td>\n",
       "    </tr>\n",
       "    <tr>\n",
       "      <th>3728</th>\n",
       "      <td>64</td>\n",
       "      <td>33.000000</td>\n",
       "      <td>2.0</td>\n",
       "      <td>17.000000</td>\n",
       "      <td>2014.000000</td>\n",
       "      <td>2.000000</td>\n",
       "      <td>12.000000</td>\n",
       "      <td>3.879802e+06</td>\n",
       "      <td>81980</td>\n",
       "      <td>0.157332</td>\n",
       "      <td>0.232205</td>\n",
       "      <td>4926</td>\n",
       "      <td>2200.000000</td>\n",
       "      <td>4</td>\n",
       "      <td>4860</td>\n",
       "      <td>6476.000000</td>\n",
       "      <td>4</td>\n",
       "      <td>1</td>\n",
       "      <td>80.000000</td>\n",
       "      <td>0</td>\n",
       "      <td>0</td>\n",
       "      <td>4</td>\n",
       "      <td>2</td>\n",
       "      <td>0</td>\n",
       "      <td>3</td>\n",
       "      <td>1</td>\n",
       "      <td>27992</td>\n",
       "      <td>12961</td>\n",
       "      <td>15031</td>\n",
       "      <td>10412</td>\n",
       "      <td>5439</td>\n",
       "      <td>4973</td>\n",
       "      <td>52793</td>\n",
       "      <td>26701</td>\n",
       "      <td>26092</td>\n",
       "      <td>18775</td>\n",
       "      <td>5743</td>\n",
       "      <td>13032</td>\n",
       "      <td>4926</td>\n",
       "      <td>2565</td>\n",
       "      <td>...</td>\n",
       "      <td>0</td>\n",
       "      <td>0</td>\n",
       "      <td>0</td>\n",
       "      <td>0</td>\n",
       "      <td>0</td>\n",
       "      <td>0</td>\n",
       "      <td>0</td>\n",
       "      <td>0</td>\n",
       "      <td>0</td>\n",
       "      <td>0</td>\n",
       "      <td>0</td>\n",
       "      <td>1</td>\n",
       "      <td>0</td>\n",
       "      <td>1</td>\n",
       "      <td>0</td>\n",
       "      <td>1</td>\n",
       "      <td>0</td>\n",
       "      <td>1</td>\n",
       "      <td>0</td>\n",
       "      <td>1</td>\n",
       "      <td>0</td>\n",
       "      <td>1</td>\n",
       "      <td>0</td>\n",
       "      <td>1</td>\n",
       "      <td>0</td>\n",
       "      <td>1</td>\n",
       "      <td>0</td>\n",
       "      <td>0</td>\n",
       "      <td>1</td>\n",
       "      <td>1</td>\n",
       "      <td>0</td>\n",
       "      <td>1</td>\n",
       "      <td>0</td>\n",
       "      <td>1</td>\n",
       "      <td>0</td>\n",
       "      <td>0</td>\n",
       "      <td>1</td>\n",
       "      <td>0</td>\n",
       "      <td>0</td>\n",
       "      <td>0</td>\n",
       "    </tr>\n",
       "    <tr>\n",
       "      <th>8958</th>\n",
       "      <td>73</td>\n",
       "      <td>34.277756</td>\n",
       "      <td>17.0</td>\n",
       "      <td>17.000000</td>\n",
       "      <td>1869.313165</td>\n",
       "      <td>2.000000</td>\n",
       "      <td>1.000000</td>\n",
       "      <td>1.139168e+07</td>\n",
       "      <td>19940</td>\n",
       "      <td>0.055644</td>\n",
       "      <td>0.243205</td>\n",
       "      <td>1706</td>\n",
       "      <td>2395.000000</td>\n",
       "      <td>5</td>\n",
       "      <td>1564</td>\n",
       "      <td>7377.000000</td>\n",
       "      <td>5</td>\n",
       "      <td>0</td>\n",
       "      <td>540.000000</td>\n",
       "      <td>0</td>\n",
       "      <td>0</td>\n",
       "      <td>0</td>\n",
       "      <td>4</td>\n",
       "      <td>0</td>\n",
       "      <td>0</td>\n",
       "      <td>0</td>\n",
       "      <td>247469</td>\n",
       "      <td>112902</td>\n",
       "      <td>134567</td>\n",
       "      <td>3459</td>\n",
       "      <td>1782</td>\n",
       "      <td>1677</td>\n",
       "      <td>13331</td>\n",
       "      <td>6670</td>\n",
       "      <td>6661</td>\n",
       "      <td>3150</td>\n",
       "      <td>948</td>\n",
       "      <td>2202</td>\n",
       "      <td>1706</td>\n",
       "      <td>862</td>\n",
       "      <td>...</td>\n",
       "      <td>0</td>\n",
       "      <td>0</td>\n",
       "      <td>0</td>\n",
       "      <td>0</td>\n",
       "      <td>0</td>\n",
       "      <td>0</td>\n",
       "      <td>0</td>\n",
       "      <td>0</td>\n",
       "      <td>0</td>\n",
       "      <td>0</td>\n",
       "      <td>0</td>\n",
       "      <td>1</td>\n",
       "      <td>0</td>\n",
       "      <td>1</td>\n",
       "      <td>0</td>\n",
       "      <td>0</td>\n",
       "      <td>1</td>\n",
       "      <td>1</td>\n",
       "      <td>0</td>\n",
       "      <td>1</td>\n",
       "      <td>0</td>\n",
       "      <td>1</td>\n",
       "      <td>0</td>\n",
       "      <td>1</td>\n",
       "      <td>0</td>\n",
       "      <td>1</td>\n",
       "      <td>0</td>\n",
       "      <td>1</td>\n",
       "      <td>0</td>\n",
       "      <td>1</td>\n",
       "      <td>0</td>\n",
       "      <td>1</td>\n",
       "      <td>0</td>\n",
       "      <td>1</td>\n",
       "      <td>0</td>\n",
       "      <td>0</td>\n",
       "      <td>1</td>\n",
       "      <td>0</td>\n",
       "      <td>0</td>\n",
       "      <td>0</td>\n",
       "    </tr>\n",
       "    <tr>\n",
       "      <th>7671</th>\n",
       "      <td>60</td>\n",
       "      <td>34.277756</td>\n",
       "      <td>4.0</td>\n",
       "      <td>18.000000</td>\n",
       "      <td>1.000000</td>\n",
       "      <td>2.000000</td>\n",
       "      <td>1.000000</td>\n",
       "      <td>1.084231e+07</td>\n",
       "      <td>85219</td>\n",
       "      <td>0.062172</td>\n",
       "      <td>0.161532</td>\n",
       "      <td>5767</td>\n",
       "      <td>5278.000000</td>\n",
       "      <td>6</td>\n",
       "      <td>5648</td>\n",
       "      <td>10529.000000</td>\n",
       "      <td>6</td>\n",
       "      <td>0</td>\n",
       "      <td>30.000000</td>\n",
       "      <td>2</td>\n",
       "      <td>0</td>\n",
       "      <td>4</td>\n",
       "      <td>1</td>\n",
       "      <td>0</td>\n",
       "      <td>4</td>\n",
       "      <td>1</td>\n",
       "      <td>221709</td>\n",
       "      <td>101426</td>\n",
       "      <td>120283</td>\n",
       "      <td>12194</td>\n",
       "      <td>6155</td>\n",
       "      <td>6039</td>\n",
       "      <td>58114</td>\n",
       "      <td>28761</td>\n",
       "      <td>29353</td>\n",
       "      <td>14911</td>\n",
       "      <td>4222</td>\n",
       "      <td>10689</td>\n",
       "      <td>5767</td>\n",
       "      <td>2919</td>\n",
       "      <td>...</td>\n",
       "      <td>0</td>\n",
       "      <td>0</td>\n",
       "      <td>0</td>\n",
       "      <td>0</td>\n",
       "      <td>0</td>\n",
       "      <td>0</td>\n",
       "      <td>0</td>\n",
       "      <td>0</td>\n",
       "      <td>0</td>\n",
       "      <td>0</td>\n",
       "      <td>0</td>\n",
       "      <td>1</td>\n",
       "      <td>0</td>\n",
       "      <td>1</td>\n",
       "      <td>0</td>\n",
       "      <td>1</td>\n",
       "      <td>0</td>\n",
       "      <td>1</td>\n",
       "      <td>0</td>\n",
       "      <td>1</td>\n",
       "      <td>0</td>\n",
       "      <td>1</td>\n",
       "      <td>0</td>\n",
       "      <td>1</td>\n",
       "      <td>0</td>\n",
       "      <td>1</td>\n",
       "      <td>0</td>\n",
       "      <td>1</td>\n",
       "      <td>0</td>\n",
       "      <td>1</td>\n",
       "      <td>0</td>\n",
       "      <td>1</td>\n",
       "      <td>0</td>\n",
       "      <td>1</td>\n",
       "      <td>0</td>\n",
       "      <td>0</td>\n",
       "      <td>0</td>\n",
       "      <td>1</td>\n",
       "      <td>0</td>\n",
       "      <td>0</td>\n",
       "    </tr>\n",
       "    <tr>\n",
       "      <th>5999</th>\n",
       "      <td>40</td>\n",
       "      <td>34.277756</td>\n",
       "      <td>9.0</td>\n",
       "      <td>12.759690</td>\n",
       "      <td>1869.313165</td>\n",
       "      <td>1.914273</td>\n",
       "      <td>6.865937</td>\n",
       "      <td>1.139168e+07</td>\n",
       "      <td>19940</td>\n",
       "      <td>0.055644</td>\n",
       "      <td>0.243205</td>\n",
       "      <td>1706</td>\n",
       "      <td>2395.000000</td>\n",
       "      <td>5</td>\n",
       "      <td>1564</td>\n",
       "      <td>7377.000000</td>\n",
       "      <td>5</td>\n",
       "      <td>0</td>\n",
       "      <td>540.000000</td>\n",
       "      <td>0</td>\n",
       "      <td>0</td>\n",
       "      <td>0</td>\n",
       "      <td>4</td>\n",
       "      <td>0</td>\n",
       "      <td>0</td>\n",
       "      <td>0</td>\n",
       "      <td>247469</td>\n",
       "      <td>112902</td>\n",
       "      <td>134567</td>\n",
       "      <td>3459</td>\n",
       "      <td>1782</td>\n",
       "      <td>1677</td>\n",
       "      <td>13331</td>\n",
       "      <td>6670</td>\n",
       "      <td>6661</td>\n",
       "      <td>3150</td>\n",
       "      <td>948</td>\n",
       "      <td>2202</td>\n",
       "      <td>1706</td>\n",
       "      <td>862</td>\n",
       "      <td>...</td>\n",
       "      <td>0</td>\n",
       "      <td>0</td>\n",
       "      <td>0</td>\n",
       "      <td>0</td>\n",
       "      <td>0</td>\n",
       "      <td>0</td>\n",
       "      <td>0</td>\n",
       "      <td>0</td>\n",
       "      <td>0</td>\n",
       "      <td>0</td>\n",
       "      <td>0</td>\n",
       "      <td>1</td>\n",
       "      <td>0</td>\n",
       "      <td>1</td>\n",
       "      <td>0</td>\n",
       "      <td>0</td>\n",
       "      <td>1</td>\n",
       "      <td>1</td>\n",
       "      <td>0</td>\n",
       "      <td>1</td>\n",
       "      <td>0</td>\n",
       "      <td>1</td>\n",
       "      <td>0</td>\n",
       "      <td>1</td>\n",
       "      <td>0</td>\n",
       "      <td>1</td>\n",
       "      <td>0</td>\n",
       "      <td>1</td>\n",
       "      <td>0</td>\n",
       "      <td>1</td>\n",
       "      <td>0</td>\n",
       "      <td>1</td>\n",
       "      <td>0</td>\n",
       "      <td>1</td>\n",
       "      <td>0</td>\n",
       "      <td>0</td>\n",
       "      <td>1</td>\n",
       "      <td>0</td>\n",
       "      <td>0</td>\n",
       "      <td>0</td>\n",
       "    </tr>\n",
       "    <tr>\n",
       "      <th>...</th>\n",
       "      <td>...</td>\n",
       "      <td>...</td>\n",
       "      <td>...</td>\n",
       "      <td>...</td>\n",
       "      <td>...</td>\n",
       "      <td>...</td>\n",
       "      <td>...</td>\n",
       "      <td>...</td>\n",
       "      <td>...</td>\n",
       "      <td>...</td>\n",
       "      <td>...</td>\n",
       "      <td>...</td>\n",
       "      <td>...</td>\n",
       "      <td>...</td>\n",
       "      <td>...</td>\n",
       "      <td>...</td>\n",
       "      <td>...</td>\n",
       "      <td>...</td>\n",
       "      <td>...</td>\n",
       "      <td>...</td>\n",
       "      <td>...</td>\n",
       "      <td>...</td>\n",
       "      <td>...</td>\n",
       "      <td>...</td>\n",
       "      <td>...</td>\n",
       "      <td>...</td>\n",
       "      <td>...</td>\n",
       "      <td>...</td>\n",
       "      <td>...</td>\n",
       "      <td>...</td>\n",
       "      <td>...</td>\n",
       "      <td>...</td>\n",
       "      <td>...</td>\n",
       "      <td>...</td>\n",
       "      <td>...</td>\n",
       "      <td>...</td>\n",
       "      <td>...</td>\n",
       "      <td>...</td>\n",
       "      <td>...</td>\n",
       "      <td>...</td>\n",
       "      <td>...</td>\n",
       "      <td>...</td>\n",
       "      <td>...</td>\n",
       "      <td>...</td>\n",
       "      <td>...</td>\n",
       "      <td>...</td>\n",
       "      <td>...</td>\n",
       "      <td>...</td>\n",
       "      <td>...</td>\n",
       "      <td>...</td>\n",
       "      <td>...</td>\n",
       "      <td>...</td>\n",
       "      <td>...</td>\n",
       "      <td>...</td>\n",
       "      <td>...</td>\n",
       "      <td>...</td>\n",
       "      <td>...</td>\n",
       "      <td>...</td>\n",
       "      <td>...</td>\n",
       "      <td>...</td>\n",
       "      <td>...</td>\n",
       "      <td>...</td>\n",
       "      <td>...</td>\n",
       "      <td>...</td>\n",
       "      <td>...</td>\n",
       "      <td>...</td>\n",
       "      <td>...</td>\n",
       "      <td>...</td>\n",
       "      <td>...</td>\n",
       "      <td>...</td>\n",
       "      <td>...</td>\n",
       "      <td>...</td>\n",
       "      <td>...</td>\n",
       "      <td>...</td>\n",
       "      <td>...</td>\n",
       "      <td>...</td>\n",
       "      <td>...</td>\n",
       "      <td>...</td>\n",
       "      <td>...</td>\n",
       "      <td>...</td>\n",
       "      <td>...</td>\n",
       "    </tr>\n",
       "    <tr>\n",
       "      <th>11284</th>\n",
       "      <td>46</td>\n",
       "      <td>28.000000</td>\n",
       "      <td>4.0</td>\n",
       "      <td>12.000000</td>\n",
       "      <td>1972.000000</td>\n",
       "      <td>2.000000</td>\n",
       "      <td>9.000000</td>\n",
       "      <td>8.087656e+06</td>\n",
       "      <td>116742</td>\n",
       "      <td>0.048011</td>\n",
       "      <td>0.007659</td>\n",
       "      <td>6694</td>\n",
       "      <td>3318.000000</td>\n",
       "      <td>5</td>\n",
       "      <td>7077</td>\n",
       "      <td>9748.000000</td>\n",
       "      <td>10</td>\n",
       "      <td>0</td>\n",
       "      <td>2301.000000</td>\n",
       "      <td>3</td>\n",
       "      <td>1</td>\n",
       "      <td>24</td>\n",
       "      <td>1</td>\n",
       "      <td>1</td>\n",
       "      <td>19</td>\n",
       "      <td>56</td>\n",
       "      <td>123280</td>\n",
       "      <td>57224</td>\n",
       "      <td>66056</td>\n",
       "      <td>14715</td>\n",
       "      <td>7597</td>\n",
       "      <td>7118</td>\n",
       "      <td>71253</td>\n",
       "      <td>35672</td>\n",
       "      <td>35581</td>\n",
       "      <td>30774</td>\n",
       "      <td>9567</td>\n",
       "      <td>21207</td>\n",
       "      <td>6694</td>\n",
       "      <td>3466</td>\n",
       "      <td>...</td>\n",
       "      <td>0</td>\n",
       "      <td>0</td>\n",
       "      <td>0</td>\n",
       "      <td>0</td>\n",
       "      <td>0</td>\n",
       "      <td>0</td>\n",
       "      <td>0</td>\n",
       "      <td>0</td>\n",
       "      <td>0</td>\n",
       "      <td>0</td>\n",
       "      <td>0</td>\n",
       "      <td>0</td>\n",
       "      <td>1</td>\n",
       "      <td>1</td>\n",
       "      <td>0</td>\n",
       "      <td>1</td>\n",
       "      <td>0</td>\n",
       "      <td>1</td>\n",
       "      <td>0</td>\n",
       "      <td>0</td>\n",
       "      <td>1</td>\n",
       "      <td>1</td>\n",
       "      <td>0</td>\n",
       "      <td>1</td>\n",
       "      <td>0</td>\n",
       "      <td>1</td>\n",
       "      <td>0</td>\n",
       "      <td>1</td>\n",
       "      <td>0</td>\n",
       "      <td>1</td>\n",
       "      <td>0</td>\n",
       "      <td>1</td>\n",
       "      <td>0</td>\n",
       "      <td>1</td>\n",
       "      <td>0</td>\n",
       "      <td>1</td>\n",
       "      <td>0</td>\n",
       "      <td>0</td>\n",
       "      <td>0</td>\n",
       "      <td>0</td>\n",
       "    </tr>\n",
       "    <tr>\n",
       "      <th>11964</th>\n",
       "      <td>46</td>\n",
       "      <td>46.000000</td>\n",
       "      <td>10.0</td>\n",
       "      <td>12.429025</td>\n",
       "      <td>1879.667040</td>\n",
       "      <td>1.883447</td>\n",
       "      <td>5.908844</td>\n",
       "      <td>6.677245e+07</td>\n",
       "      <td>9553</td>\n",
       "      <td>0.336177</td>\n",
       "      <td>0.072158</td>\n",
       "      <td>656</td>\n",
       "      <td>3306.036364</td>\n",
       "      <td>0</td>\n",
       "      <td>629</td>\n",
       "      <td>8328.763636</td>\n",
       "      <td>0</td>\n",
       "      <td>0</td>\n",
       "      <td>1200.324667</td>\n",
       "      <td>0</td>\n",
       "      <td>0</td>\n",
       "      <td>1</td>\n",
       "      <td>0</td>\n",
       "      <td>0</td>\n",
       "      <td>0</td>\n",
       "      <td>1</td>\n",
       "      <td>13890</td>\n",
       "      <td>6584</td>\n",
       "      <td>7307</td>\n",
       "      <td>1370</td>\n",
       "      <td>709</td>\n",
       "      <td>661</td>\n",
       "      <td>6127</td>\n",
       "      <td>3237</td>\n",
       "      <td>2890</td>\n",
       "      <td>2056</td>\n",
       "      <td>583</td>\n",
       "      <td>1473</td>\n",
       "      <td>656</td>\n",
       "      <td>340</td>\n",
       "      <td>...</td>\n",
       "      <td>0</td>\n",
       "      <td>0</td>\n",
       "      <td>0</td>\n",
       "      <td>0</td>\n",
       "      <td>0</td>\n",
       "      <td>0</td>\n",
       "      <td>0</td>\n",
       "      <td>0</td>\n",
       "      <td>0</td>\n",
       "      <td>0</td>\n",
       "      <td>0</td>\n",
       "      <td>1</td>\n",
       "      <td>0</td>\n",
       "      <td>1</td>\n",
       "      <td>0</td>\n",
       "      <td>1</td>\n",
       "      <td>0</td>\n",
       "      <td>1</td>\n",
       "      <td>0</td>\n",
       "      <td>1</td>\n",
       "      <td>0</td>\n",
       "      <td>1</td>\n",
       "      <td>0</td>\n",
       "      <td>0</td>\n",
       "      <td>1</td>\n",
       "      <td>1</td>\n",
       "      <td>0</td>\n",
       "      <td>1</td>\n",
       "      <td>0</td>\n",
       "      <td>1</td>\n",
       "      <td>0</td>\n",
       "      <td>1</td>\n",
       "      <td>0</td>\n",
       "      <td>1</td>\n",
       "      <td>0</td>\n",
       "      <td>0</td>\n",
       "      <td>0</td>\n",
       "      <td>1</td>\n",
       "      <td>0</td>\n",
       "      <td>0</td>\n",
       "    </tr>\n",
       "    <tr>\n",
       "      <th>5390</th>\n",
       "      <td>72</td>\n",
       "      <td>72.000000</td>\n",
       "      <td>2.0</td>\n",
       "      <td>25.000000</td>\n",
       "      <td>2015.000000</td>\n",
       "      <td>2.000000</td>\n",
       "      <td>1.000000</td>\n",
       "      <td>1.163805e+07</td>\n",
       "      <td>123280</td>\n",
       "      <td>0.068202</td>\n",
       "      <td>0.042032</td>\n",
       "      <td>7125</td>\n",
       "      <td>3240.000000</td>\n",
       "      <td>7</td>\n",
       "      <td>6856</td>\n",
       "      <td>10602.000000</td>\n",
       "      <td>9</td>\n",
       "      <td>0</td>\n",
       "      <td>1940.000000</td>\n",
       "      <td>2</td>\n",
       "      <td>1</td>\n",
       "      <td>29</td>\n",
       "      <td>2</td>\n",
       "      <td>3</td>\n",
       "      <td>5</td>\n",
       "      <td>84</td>\n",
       "      <td>57999</td>\n",
       "      <td>25611</td>\n",
       "      <td>32388</td>\n",
       "      <td>14906</td>\n",
       "      <td>7789</td>\n",
       "      <td>7117</td>\n",
       "      <td>75357</td>\n",
       "      <td>38841</td>\n",
       "      <td>36516</td>\n",
       "      <td>33017</td>\n",
       "      <td>10594</td>\n",
       "      <td>22423</td>\n",
       "      <td>7125</td>\n",
       "      <td>3725</td>\n",
       "      <td>...</td>\n",
       "      <td>0</td>\n",
       "      <td>0</td>\n",
       "      <td>0</td>\n",
       "      <td>0</td>\n",
       "      <td>0</td>\n",
       "      <td>0</td>\n",
       "      <td>0</td>\n",
       "      <td>0</td>\n",
       "      <td>0</td>\n",
       "      <td>0</td>\n",
       "      <td>0</td>\n",
       "      <td>0</td>\n",
       "      <td>1</td>\n",
       "      <td>1</td>\n",
       "      <td>0</td>\n",
       "      <td>1</td>\n",
       "      <td>0</td>\n",
       "      <td>1</td>\n",
       "      <td>0</td>\n",
       "      <td>0</td>\n",
       "      <td>1</td>\n",
       "      <td>1</td>\n",
       "      <td>0</td>\n",
       "      <td>1</td>\n",
       "      <td>0</td>\n",
       "      <td>1</td>\n",
       "      <td>0</td>\n",
       "      <td>1</td>\n",
       "      <td>0</td>\n",
       "      <td>1</td>\n",
       "      <td>0</td>\n",
       "      <td>1</td>\n",
       "      <td>0</td>\n",
       "      <td>1</td>\n",
       "      <td>0</td>\n",
       "      <td>0</td>\n",
       "      <td>0</td>\n",
       "      <td>0</td>\n",
       "      <td>1</td>\n",
       "      <td>0</td>\n",
       "    </tr>\n",
       "    <tr>\n",
       "      <th>860</th>\n",
       "      <td>82</td>\n",
       "      <td>34.137147</td>\n",
       "      <td>8.0</td>\n",
       "      <td>12.429025</td>\n",
       "      <td>1879.667040</td>\n",
       "      <td>1.883447</td>\n",
       "      <td>5.908844</td>\n",
       "      <td>6.677245e+07</td>\n",
       "      <td>9553</td>\n",
       "      <td>0.336177</td>\n",
       "      <td>0.072158</td>\n",
       "      <td>656</td>\n",
       "      <td>3306.036364</td>\n",
       "      <td>0</td>\n",
       "      <td>629</td>\n",
       "      <td>8328.763636</td>\n",
       "      <td>0</td>\n",
       "      <td>0</td>\n",
       "      <td>1200.324667</td>\n",
       "      <td>0</td>\n",
       "      <td>0</td>\n",
       "      <td>1</td>\n",
       "      <td>0</td>\n",
       "      <td>0</td>\n",
       "      <td>0</td>\n",
       "      <td>1</td>\n",
       "      <td>13890</td>\n",
       "      <td>6584</td>\n",
       "      <td>7307</td>\n",
       "      <td>1370</td>\n",
       "      <td>709</td>\n",
       "      <td>661</td>\n",
       "      <td>6127</td>\n",
       "      <td>3237</td>\n",
       "      <td>2890</td>\n",
       "      <td>2056</td>\n",
       "      <td>583</td>\n",
       "      <td>1473</td>\n",
       "      <td>656</td>\n",
       "      <td>340</td>\n",
       "      <td>...</td>\n",
       "      <td>0</td>\n",
       "      <td>0</td>\n",
       "      <td>0</td>\n",
       "      <td>0</td>\n",
       "      <td>0</td>\n",
       "      <td>0</td>\n",
       "      <td>0</td>\n",
       "      <td>0</td>\n",
       "      <td>0</td>\n",
       "      <td>0</td>\n",
       "      <td>0</td>\n",
       "      <td>1</td>\n",
       "      <td>0</td>\n",
       "      <td>1</td>\n",
       "      <td>0</td>\n",
       "      <td>1</td>\n",
       "      <td>0</td>\n",
       "      <td>1</td>\n",
       "      <td>0</td>\n",
       "      <td>1</td>\n",
       "      <td>0</td>\n",
       "      <td>1</td>\n",
       "      <td>0</td>\n",
       "      <td>0</td>\n",
       "      <td>1</td>\n",
       "      <td>1</td>\n",
       "      <td>0</td>\n",
       "      <td>1</td>\n",
       "      <td>0</td>\n",
       "      <td>1</td>\n",
       "      <td>0</td>\n",
       "      <td>1</td>\n",
       "      <td>0</td>\n",
       "      <td>1</td>\n",
       "      <td>0</td>\n",
       "      <td>0</td>\n",
       "      <td>0</td>\n",
       "      <td>1</td>\n",
       "      <td>0</td>\n",
       "      <td>0</td>\n",
       "    </tr>\n",
       "    <tr>\n",
       "      <th>15795</th>\n",
       "      <td>38</td>\n",
       "      <td>19.000000</td>\n",
       "      <td>11.0</td>\n",
       "      <td>17.000000</td>\n",
       "      <td>1987.000000</td>\n",
       "      <td>1.000000</td>\n",
       "      <td>8.000000</td>\n",
       "      <td>1.216448e+07</td>\n",
       "      <td>78507</td>\n",
       "      <td>0.297166</td>\n",
       "      <td>0.000000</td>\n",
       "      <td>4611</td>\n",
       "      <td>3092.000000</td>\n",
       "      <td>7</td>\n",
       "      <td>5067</td>\n",
       "      <td>7478.000000</td>\n",
       "      <td>7</td>\n",
       "      <td>0</td>\n",
       "      <td>1200.324667</td>\n",
       "      <td>2</td>\n",
       "      <td>0</td>\n",
       "      <td>14</td>\n",
       "      <td>1</td>\n",
       "      <td>0</td>\n",
       "      <td>6</td>\n",
       "      <td>4</td>\n",
       "      <td>67710</td>\n",
       "      <td>33382</td>\n",
       "      <td>34328</td>\n",
       "      <td>10175</td>\n",
       "      <td>5105</td>\n",
       "      <td>5070</td>\n",
       "      <td>48620</td>\n",
       "      <td>25579</td>\n",
       "      <td>23041</td>\n",
       "      <td>19712</td>\n",
       "      <td>6368</td>\n",
       "      <td>13344</td>\n",
       "      <td>4611</td>\n",
       "      <td>2331</td>\n",
       "      <td>...</td>\n",
       "      <td>0</td>\n",
       "      <td>0</td>\n",
       "      <td>0</td>\n",
       "      <td>0</td>\n",
       "      <td>0</td>\n",
       "      <td>0</td>\n",
       "      <td>0</td>\n",
       "      <td>0</td>\n",
       "      <td>0</td>\n",
       "      <td>0</td>\n",
       "      <td>0</td>\n",
       "      <td>1</td>\n",
       "      <td>0</td>\n",
       "      <td>1</td>\n",
       "      <td>0</td>\n",
       "      <td>1</td>\n",
       "      <td>0</td>\n",
       "      <td>1</td>\n",
       "      <td>0</td>\n",
       "      <td>1</td>\n",
       "      <td>0</td>\n",
       "      <td>1</td>\n",
       "      <td>0</td>\n",
       "      <td>1</td>\n",
       "      <td>0</td>\n",
       "      <td>1</td>\n",
       "      <td>0</td>\n",
       "      <td>0</td>\n",
       "      <td>1</td>\n",
       "      <td>1</td>\n",
       "      <td>0</td>\n",
       "      <td>1</td>\n",
       "      <td>0</td>\n",
       "      <td>1</td>\n",
       "      <td>0</td>\n",
       "      <td>0</td>\n",
       "      <td>1</td>\n",
       "      <td>0</td>\n",
       "      <td>0</td>\n",
       "      <td>0</td>\n",
       "    </tr>\n",
       "  </tbody>\n",
       "</table>\n",
       "<p>16000 rows × 451 columns</p>\n",
       "</div>\n",
       "      <button class=\"colab-df-convert\" onclick=\"convertToInteractive('df-a9670fe3-2b1a-4805-83d5-c28bd9ce6480')\"\n",
       "              title=\"Convert this dataframe to an interactive table.\"\n",
       "              style=\"display:none;\">\n",
       "        \n",
       "  <svg xmlns=\"http://www.w3.org/2000/svg\" height=\"24px\"viewBox=\"0 0 24 24\"\n",
       "       width=\"24px\">\n",
       "    <path d=\"M0 0h24v24H0V0z\" fill=\"none\"/>\n",
       "    <path d=\"M18.56 5.44l.94 2.06.94-2.06 2.06-.94-2.06-.94-.94-2.06-.94 2.06-2.06.94zm-11 1L8.5 8.5l.94-2.06 2.06-.94-2.06-.94L8.5 2.5l-.94 2.06-2.06.94zm10 10l.94 2.06.94-2.06 2.06-.94-2.06-.94-.94-2.06-.94 2.06-2.06.94z\"/><path d=\"M17.41 7.96l-1.37-1.37c-.4-.4-.92-.59-1.43-.59-.52 0-1.04.2-1.43.59L10.3 9.45l-7.72 7.72c-.78.78-.78 2.05 0 2.83L4 21.41c.39.39.9.59 1.41.59.51 0 1.02-.2 1.41-.59l7.78-7.78 2.81-2.81c.8-.78.8-2.07 0-2.86zM5.41 20L4 18.59l7.72-7.72 1.47 1.35L5.41 20z\"/>\n",
       "  </svg>\n",
       "      </button>\n",
       "      \n",
       "  <style>\n",
       "    .colab-df-container {\n",
       "      display:flex;\n",
       "      flex-wrap:wrap;\n",
       "      gap: 12px;\n",
       "    }\n",
       "\n",
       "    .colab-df-convert {\n",
       "      background-color: #E8F0FE;\n",
       "      border: none;\n",
       "      border-radius: 50%;\n",
       "      cursor: pointer;\n",
       "      display: none;\n",
       "      fill: #1967D2;\n",
       "      height: 32px;\n",
       "      padding: 0 0 0 0;\n",
       "      width: 32px;\n",
       "    }\n",
       "\n",
       "    .colab-df-convert:hover {\n",
       "      background-color: #E2EBFA;\n",
       "      box-shadow: 0px 1px 2px rgba(60, 64, 67, 0.3), 0px 1px 3px 1px rgba(60, 64, 67, 0.15);\n",
       "      fill: #174EA6;\n",
       "    }\n",
       "\n",
       "    [theme=dark] .colab-df-convert {\n",
       "      background-color: #3B4455;\n",
       "      fill: #D2E3FC;\n",
       "    }\n",
       "\n",
       "    [theme=dark] .colab-df-convert:hover {\n",
       "      background-color: #434B5C;\n",
       "      box-shadow: 0px 1px 3px 1px rgba(0, 0, 0, 0.15);\n",
       "      filter: drop-shadow(0px 1px 2px rgba(0, 0, 0, 0.3));\n",
       "      fill: #FFFFFF;\n",
       "    }\n",
       "  </style>\n",
       "\n",
       "      <script>\n",
       "        const buttonEl =\n",
       "          document.querySelector('#df-a9670fe3-2b1a-4805-83d5-c28bd9ce6480 button.colab-df-convert');\n",
       "        buttonEl.style.display =\n",
       "          google.colab.kernel.accessAllowed ? 'block' : 'none';\n",
       "\n",
       "        async function convertToInteractive(key) {\n",
       "          const element = document.querySelector('#df-a9670fe3-2b1a-4805-83d5-c28bd9ce6480');\n",
       "          const dataTable =\n",
       "            await google.colab.kernel.invokeFunction('convertToInteractive',\n",
       "                                                     [key], {});\n",
       "          if (!dataTable) return;\n",
       "\n",
       "          const docLinkHtml = 'Like what you see? Visit the ' +\n",
       "            '<a target=\"_blank\" href=https://colab.research.google.com/notebooks/data_table.ipynb>data table notebook</a>'\n",
       "            + ' to learn more about interactive tables.';\n",
       "          element.innerHTML = '';\n",
       "          dataTable['output_type'] = 'display_data';\n",
       "          await google.colab.output.renderOutput(dataTable, element);\n",
       "          const docLink = document.createElement('div');\n",
       "          docLink.innerHTML = docLinkHtml;\n",
       "          element.appendChild(docLink);\n",
       "        }\n",
       "      </script>\n",
       "    </div>\n",
       "  </div>\n",
       "  "
      ],
      "text/plain": [
       "       full_sq    life_sq  ...  ecology_poor  ecology_satisfactory\n",
       "5894        96  96.000000  ...             0                     0\n",
       "3728        64  33.000000  ...             0                     0\n",
       "8958        73  34.277756  ...             0                     0\n",
       "7671        60  34.277756  ...             0                     0\n",
       "5999        40  34.277756  ...             0                     0\n",
       "...        ...        ...  ...           ...                   ...\n",
       "11284       46  28.000000  ...             0                     0\n",
       "11964       46  46.000000  ...             0                     0\n",
       "5390        72  72.000000  ...             1                     0\n",
       "860         82  34.137147  ...             0                     0\n",
       "15795       38  19.000000  ...             0                     0\n",
       "\n",
       "[16000 rows x 451 columns]"
      ]
     },
     "execution_count": 40,
     "metadata": {},
     "output_type": "execute_result"
    }
   ],
   "source": [
    "X_train"
   ]
  },
  {
   "cell_type": "code",
   "execution_count": 41,
   "metadata": {
    "id": "ZEWXv06wx7gw"
   },
   "outputs": [],
   "source": [
    "std = StandardScaler()\n",
    "std.fit(X_train[num_columns])\n",
    "X_train_norm = X_train.copy()\n",
    "X_train_norm[num_columns] = std.transform(X_train[num_columns])"
   ]
  },
  {
   "cell_type": "code",
   "execution_count": 42,
   "metadata": {
    "colab": {
     "base_uri": "https://localhost:8080/",
     "height": 505
    },
    "id": "9NtFmLXhxsyt",
    "outputId": "f90baed7-d317-460c-e1bf-cc367c48d8a4"
   },
   "outputs": [
    {
     "data": {
      "text/html": [
       "\n",
       "  <div id=\"df-ec27b79c-7ac3-4b7e-adc1-4dd63ae8c93a\">\n",
       "    <div class=\"colab-df-container\">\n",
       "      <div>\n",
       "<style scoped>\n",
       "    .dataframe tbody tr th:only-of-type {\n",
       "        vertical-align: middle;\n",
       "    }\n",
       "\n",
       "    .dataframe tbody tr th {\n",
       "        vertical-align: top;\n",
       "    }\n",
       "\n",
       "    .dataframe thead th {\n",
       "        text-align: right;\n",
       "    }\n",
       "</style>\n",
       "<table border=\"1\" class=\"dataframe\">\n",
       "  <thead>\n",
       "    <tr style=\"text-align: right;\">\n",
       "      <th></th>\n",
       "      <th>full_sq</th>\n",
       "      <th>life_sq</th>\n",
       "      <th>floor</th>\n",
       "      <th>max_floor</th>\n",
       "      <th>build_year</th>\n",
       "      <th>num_room</th>\n",
       "      <th>kitch_sq</th>\n",
       "      <th>area_m</th>\n",
       "      <th>raion_popul</th>\n",
       "      <th>green_zone_part</th>\n",
       "      <th>indust_part</th>\n",
       "      <th>children_preschool</th>\n",
       "      <th>preschool_quota</th>\n",
       "      <th>preschool_education_centers_raion</th>\n",
       "      <th>children_school</th>\n",
       "      <th>school_quota</th>\n",
       "      <th>school_education_centers_raion</th>\n",
       "      <th>school_education_centers_top_20_raion</th>\n",
       "      <th>hospital_beds_raion</th>\n",
       "      <th>healthcare_centers_raion</th>\n",
       "      <th>university_top_20_raion</th>\n",
       "      <th>sport_objects_raion</th>\n",
       "      <th>additional_education_raion</th>\n",
       "      <th>culture_objects_top_25_raion</th>\n",
       "      <th>shopping_centers_raion</th>\n",
       "      <th>office_raion</th>\n",
       "      <th>full_all</th>\n",
       "      <th>male_f</th>\n",
       "      <th>female_f</th>\n",
       "      <th>young_all</th>\n",
       "      <th>young_male</th>\n",
       "      <th>young_female</th>\n",
       "      <th>work_all</th>\n",
       "      <th>work_male</th>\n",
       "      <th>work_female</th>\n",
       "      <th>ekder_all</th>\n",
       "      <th>ekder_male</th>\n",
       "      <th>ekder_female</th>\n",
       "      <th>0_6_all</th>\n",
       "      <th>0_6_male</th>\n",
       "      <th>...</th>\n",
       "      <th>sub_area_Veshnjaki</th>\n",
       "      <th>sub_area_Vnukovo</th>\n",
       "      <th>sub_area_Vojkovskoe</th>\n",
       "      <th>sub_area_Vostochnoe</th>\n",
       "      <th>sub_area_Vostochnoe Degunino</th>\n",
       "      <th>sub_area_Vostochnoe Izmajlovo</th>\n",
       "      <th>sub_area_Vyhino-Zhulebino</th>\n",
       "      <th>sub_area_Zamoskvorech'e</th>\n",
       "      <th>sub_area_Zapadnoe Degunino</th>\n",
       "      <th>sub_area_Zjablikovo</th>\n",
       "      <th>sub_area_Zjuzino</th>\n",
       "      <th>culture_objects_top_25_no</th>\n",
       "      <th>culture_objects_top_25_yes</th>\n",
       "      <th>thermal_power_plant_raion_no</th>\n",
       "      <th>thermal_power_plant_raion_yes</th>\n",
       "      <th>incineration_raion_no</th>\n",
       "      <th>incineration_raion_yes</th>\n",
       "      <th>oil_chemistry_raion_no</th>\n",
       "      <th>oil_chemistry_raion_yes</th>\n",
       "      <th>radiation_raion_no</th>\n",
       "      <th>radiation_raion_yes</th>\n",
       "      <th>railroad_terminal_raion_no</th>\n",
       "      <th>railroad_terminal_raion_yes</th>\n",
       "      <th>big_market_raion_no</th>\n",
       "      <th>big_market_raion_yes</th>\n",
       "      <th>nuclear_reactor_raion_no</th>\n",
       "      <th>nuclear_reactor_raion_yes</th>\n",
       "      <th>detention_facility_raion_no</th>\n",
       "      <th>detention_facility_raion_yes</th>\n",
       "      <th>water_1line_no</th>\n",
       "      <th>water_1line_yes</th>\n",
       "      <th>big_road1_1line_no</th>\n",
       "      <th>big_road1_1line_yes</th>\n",
       "      <th>railroad_1line_no</th>\n",
       "      <th>railroad_1line_yes</th>\n",
       "      <th>ecology_excellent</th>\n",
       "      <th>ecology_good</th>\n",
       "      <th>ecology_no data</th>\n",
       "      <th>ecology_poor</th>\n",
       "      <th>ecology_satisfactory</th>\n",
       "    </tr>\n",
       "  </thead>\n",
       "  <tbody>\n",
       "    <tr>\n",
       "      <th>5894</th>\n",
       "      <td>0.876474</td>\n",
       "      <td>3.303707</td>\n",
       "      <td>-0.881160</td>\n",
       "      <td>0.023950</td>\n",
       "      <td>-0.014701</td>\n",
       "      <td>0.013531</td>\n",
       "      <td>0.010672</td>\n",
       "      <td>-0.493396</td>\n",
       "      <td>-0.157809</td>\n",
       "      <td>-0.875787</td>\n",
       "      <td>-0.998936</td>\n",
       "      <td>-0.243260</td>\n",
       "      <td>-0.733128</td>\n",
       "      <td>-0.028627</td>\n",
       "      <td>0.255336</td>\n",
       "      <td>-0.410886</td>\n",
       "      <td>-0.211393</td>\n",
       "      <td>2.664646</td>\n",
       "      <td>-0.190733</td>\n",
       "      <td>1.126597</td>\n",
       "      <td>4.200225</td>\n",
       "      <td>3.391975</td>\n",
       "      <td>3.964832</td>\n",
       "      <td>6.335651</td>\n",
       "      <td>3.931943</td>\n",
       "      <td>5.603774</td>\n",
       "      <td>-0.108992</td>\n",
       "      <td>-0.115512</td>\n",
       "      <td>-0.103470</td>\n",
       "      <td>0.004835</td>\n",
       "      <td>-0.065760</td>\n",
       "      <td>0.079915</td>\n",
       "      <td>-0.267853</td>\n",
       "      <td>-0.291055</td>\n",
       "      <td>-0.242816</td>\n",
       "      <td>0.065664</td>\n",
       "      <td>0.195514</td>\n",
       "      <td>0.007480</td>\n",
       "      <td>-0.243260</td>\n",
       "      <td>-0.286365</td>\n",
       "      <td>...</td>\n",
       "      <td>0</td>\n",
       "      <td>0</td>\n",
       "      <td>0</td>\n",
       "      <td>0</td>\n",
       "      <td>0</td>\n",
       "      <td>0</td>\n",
       "      <td>0</td>\n",
       "      <td>0</td>\n",
       "      <td>0</td>\n",
       "      <td>0</td>\n",
       "      <td>0</td>\n",
       "      <td>0</td>\n",
       "      <td>1</td>\n",
       "      <td>1</td>\n",
       "      <td>0</td>\n",
       "      <td>1</td>\n",
       "      <td>0</td>\n",
       "      <td>1</td>\n",
       "      <td>0</td>\n",
       "      <td>0</td>\n",
       "      <td>1</td>\n",
       "      <td>0</td>\n",
       "      <td>1</td>\n",
       "      <td>1</td>\n",
       "      <td>0</td>\n",
       "      <td>1</td>\n",
       "      <td>0</td>\n",
       "      <td>0</td>\n",
       "      <td>1</td>\n",
       "      <td>1</td>\n",
       "      <td>0</td>\n",
       "      <td>1</td>\n",
       "      <td>0</td>\n",
       "      <td>1</td>\n",
       "      <td>0</td>\n",
       "      <td>1</td>\n",
       "      <td>0</td>\n",
       "      <td>0</td>\n",
       "      <td>0</td>\n",
       "      <td>0</td>\n",
       "    </tr>\n",
       "    <tr>\n",
       "      <th>3728</th>\n",
       "      <td>0.204198</td>\n",
       "      <td>-0.063847</td>\n",
       "      <td>-1.070905</td>\n",
       "      <td>0.786055</td>\n",
       "      <td>-0.013789</td>\n",
       "      <td>0.137529</td>\n",
       "      <td>0.193906</td>\n",
       "      <td>-0.658102</td>\n",
       "      <td>-0.043610</td>\n",
       "      <td>-0.353380</td>\n",
       "      <td>0.953026</td>\n",
       "      <td>-0.062537</td>\n",
       "      <td>-0.562967</td>\n",
       "      <td>-0.028627</td>\n",
       "      <td>-0.130546</td>\n",
       "      <td>-0.488928</td>\n",
       "      <td>-0.211393</td>\n",
       "      <td>2.664646</td>\n",
       "      <td>-1.446110</td>\n",
       "      <td>-0.885184</td>\n",
       "      <td>-0.313416</td>\n",
       "      <td>-0.406365</td>\n",
       "      <td>-0.278953</td>\n",
       "      <td>-0.190397</td>\n",
       "      <td>-0.260453</td>\n",
       "      <td>-0.306701</td>\n",
       "      <td>-0.420745</td>\n",
       "      <td>-0.421913</td>\n",
       "      <td>-0.419626</td>\n",
       "      <td>-0.099042</td>\n",
       "      <td>-0.073017</td>\n",
       "      <td>-0.126548</td>\n",
       "      <td>-0.030924</td>\n",
       "      <td>-0.037435</td>\n",
       "      <td>-0.024144</td>\n",
       "      <td>-0.041247</td>\n",
       "      <td>-0.025541</td>\n",
       "      <td>-0.048055</td>\n",
       "      <td>-0.062537</td>\n",
       "      <td>-0.039841</td>\n",
       "      <td>...</td>\n",
       "      <td>0</td>\n",
       "      <td>0</td>\n",
       "      <td>0</td>\n",
       "      <td>0</td>\n",
       "      <td>0</td>\n",
       "      <td>0</td>\n",
       "      <td>0</td>\n",
       "      <td>0</td>\n",
       "      <td>0</td>\n",
       "      <td>0</td>\n",
       "      <td>0</td>\n",
       "      <td>1</td>\n",
       "      <td>0</td>\n",
       "      <td>1</td>\n",
       "      <td>0</td>\n",
       "      <td>1</td>\n",
       "      <td>0</td>\n",
       "      <td>1</td>\n",
       "      <td>0</td>\n",
       "      <td>1</td>\n",
       "      <td>0</td>\n",
       "      <td>1</td>\n",
       "      <td>0</td>\n",
       "      <td>1</td>\n",
       "      <td>0</td>\n",
       "      <td>1</td>\n",
       "      <td>0</td>\n",
       "      <td>0</td>\n",
       "      <td>1</td>\n",
       "      <td>1</td>\n",
       "      <td>0</td>\n",
       "      <td>1</td>\n",
       "      <td>0</td>\n",
       "      <td>1</td>\n",
       "      <td>0</td>\n",
       "      <td>0</td>\n",
       "      <td>1</td>\n",
       "      <td>0</td>\n",
       "      <td>0</td>\n",
       "      <td>0</td>\n",
       "    </tr>\n",
       "    <tr>\n",
       "      <th>8958</th>\n",
       "      <td>0.393276</td>\n",
       "      <td>0.004453</td>\n",
       "      <td>1.775269</td>\n",
       "      <td>0.786055</td>\n",
       "      <td>-0.014701</td>\n",
       "      <td>0.137529</td>\n",
       "      <td>-0.198682</td>\n",
       "      <td>-0.297134</td>\n",
       "      <td>-1.116587</td>\n",
       "      <td>-0.931507</td>\n",
       "      <td>1.045520</td>\n",
       "      <td>-0.907133</td>\n",
       "      <td>-0.461183</td>\n",
       "      <td>0.305707</td>\n",
       "      <td>-0.957509</td>\n",
       "      <td>-0.251375</td>\n",
       "      <td>0.079281</td>\n",
       "      <td>-0.333128</td>\n",
       "      <td>-0.848312</td>\n",
       "      <td>-0.885184</td>\n",
       "      <td>-0.313416</td>\n",
       "      <td>-1.014100</td>\n",
       "      <td>0.327302</td>\n",
       "      <td>-0.190397</td>\n",
       "      <td>-0.889312</td>\n",
       "      <td>-0.348919</td>\n",
       "      <td>0.350214</td>\n",
       "      <td>0.346039</td>\n",
       "      <td>0.353613</td>\n",
       "      <td>-0.938883</td>\n",
       "      <td>-0.929125</td>\n",
       "      <td>-0.947415</td>\n",
       "      <td>-1.084763</td>\n",
       "      <td>-1.095825</td>\n",
       "      <td>-1.067616</td>\n",
       "      <td>-1.226833</td>\n",
       "      <td>-1.201970</td>\n",
       "      <td>-1.232007</td>\n",
       "      <td>-0.907133</td>\n",
       "      <td>-0.903690</td>\n",
       "      <td>...</td>\n",
       "      <td>0</td>\n",
       "      <td>0</td>\n",
       "      <td>0</td>\n",
       "      <td>0</td>\n",
       "      <td>0</td>\n",
       "      <td>0</td>\n",
       "      <td>0</td>\n",
       "      <td>0</td>\n",
       "      <td>0</td>\n",
       "      <td>0</td>\n",
       "      <td>0</td>\n",
       "      <td>1</td>\n",
       "      <td>0</td>\n",
       "      <td>1</td>\n",
       "      <td>0</td>\n",
       "      <td>0</td>\n",
       "      <td>1</td>\n",
       "      <td>1</td>\n",
       "      <td>0</td>\n",
       "      <td>1</td>\n",
       "      <td>0</td>\n",
       "      <td>1</td>\n",
       "      <td>0</td>\n",
       "      <td>1</td>\n",
       "      <td>0</td>\n",
       "      <td>1</td>\n",
       "      <td>0</td>\n",
       "      <td>1</td>\n",
       "      <td>0</td>\n",
       "      <td>1</td>\n",
       "      <td>0</td>\n",
       "      <td>1</td>\n",
       "      <td>0</td>\n",
       "      <td>1</td>\n",
       "      <td>0</td>\n",
       "      <td>0</td>\n",
       "      <td>1</td>\n",
       "      <td>0</td>\n",
       "      <td>0</td>\n",
       "      <td>0</td>\n",
       "    </tr>\n",
       "    <tr>\n",
       "      <th>7671</th>\n",
       "      <td>0.120164</td>\n",
       "      <td>0.004453</td>\n",
       "      <td>-0.691415</td>\n",
       "      <td>0.965783</td>\n",
       "      <td>-0.026486</td>\n",
       "      <td>0.137529</td>\n",
       "      <td>-0.198682</td>\n",
       "      <td>-0.323533</td>\n",
       "      <td>0.012408</td>\n",
       "      <td>-0.894389</td>\n",
       "      <td>0.358732</td>\n",
       "      <td>0.158055</td>\n",
       "      <td>1.043649</td>\n",
       "      <td>0.640042</td>\n",
       "      <td>0.067162</td>\n",
       "      <td>0.579669</td>\n",
       "      <td>0.369956</td>\n",
       "      <td>-0.333128</td>\n",
       "      <td>-1.511088</td>\n",
       "      <td>0.456004</td>\n",
       "      <td>-0.313416</td>\n",
       "      <td>-0.406365</td>\n",
       "      <td>-0.582081</td>\n",
       "      <td>-0.190397</td>\n",
       "      <td>-0.050833</td>\n",
       "      <td>-0.306701</td>\n",
       "      <td>0.259727</td>\n",
       "      <td>0.257856</td>\n",
       "      <td>0.261214</td>\n",
       "      <td>0.116202</td>\n",
       "      <td>0.094599</td>\n",
       "      <td>0.138939</td>\n",
       "      <td>0.111174</td>\n",
       "      <td>0.071410</td>\n",
       "      <td>0.150977</td>\n",
       "      <td>-0.334438</td>\n",
       "      <td>-0.398711</td>\n",
       "      <td>-0.304195</td>\n",
       "      <td>0.158055</td>\n",
       "      <td>0.139726</td>\n",
       "      <td>...</td>\n",
       "      <td>0</td>\n",
       "      <td>0</td>\n",
       "      <td>0</td>\n",
       "      <td>0</td>\n",
       "      <td>0</td>\n",
       "      <td>0</td>\n",
       "      <td>0</td>\n",
       "      <td>0</td>\n",
       "      <td>0</td>\n",
       "      <td>0</td>\n",
       "      <td>0</td>\n",
       "      <td>1</td>\n",
       "      <td>0</td>\n",
       "      <td>1</td>\n",
       "      <td>0</td>\n",
       "      <td>1</td>\n",
       "      <td>0</td>\n",
       "      <td>1</td>\n",
       "      <td>0</td>\n",
       "      <td>1</td>\n",
       "      <td>0</td>\n",
       "      <td>1</td>\n",
       "      <td>0</td>\n",
       "      <td>1</td>\n",
       "      <td>0</td>\n",
       "      <td>1</td>\n",
       "      <td>0</td>\n",
       "      <td>1</td>\n",
       "      <td>0</td>\n",
       "      <td>1</td>\n",
       "      <td>0</td>\n",
       "      <td>1</td>\n",
       "      <td>0</td>\n",
       "      <td>1</td>\n",
       "      <td>0</td>\n",
       "      <td>0</td>\n",
       "      <td>0</td>\n",
       "      <td>1</td>\n",
       "      <td>0</td>\n",
       "      <td>0</td>\n",
       "    </tr>\n",
       "    <tr>\n",
       "      <th>5999</th>\n",
       "      <td>-0.300008</td>\n",
       "      <td>0.004453</td>\n",
       "      <td>0.257310</td>\n",
       "      <td>0.023950</td>\n",
       "      <td>-0.014701</td>\n",
       "      <td>0.013531</td>\n",
       "      <td>0.010672</td>\n",
       "      <td>-0.297134</td>\n",
       "      <td>-1.116587</td>\n",
       "      <td>-0.931507</td>\n",
       "      <td>1.045520</td>\n",
       "      <td>-0.907133</td>\n",
       "      <td>-0.461183</td>\n",
       "      <td>0.305707</td>\n",
       "      <td>-0.957509</td>\n",
       "      <td>-0.251375</td>\n",
       "      <td>0.079281</td>\n",
       "      <td>-0.333128</td>\n",
       "      <td>-0.848312</td>\n",
       "      <td>-0.885184</td>\n",
       "      <td>-0.313416</td>\n",
       "      <td>-1.014100</td>\n",
       "      <td>0.327302</td>\n",
       "      <td>-0.190397</td>\n",
       "      <td>-0.889312</td>\n",
       "      <td>-0.348919</td>\n",
       "      <td>0.350214</td>\n",
       "      <td>0.346039</td>\n",
       "      <td>0.353613</td>\n",
       "      <td>-0.938883</td>\n",
       "      <td>-0.929125</td>\n",
       "      <td>-0.947415</td>\n",
       "      <td>-1.084763</td>\n",
       "      <td>-1.095825</td>\n",
       "      <td>-1.067616</td>\n",
       "      <td>-1.226833</td>\n",
       "      <td>-1.201970</td>\n",
       "      <td>-1.232007</td>\n",
       "      <td>-0.907133</td>\n",
       "      <td>-0.903690</td>\n",
       "      <td>...</td>\n",
       "      <td>0</td>\n",
       "      <td>0</td>\n",
       "      <td>0</td>\n",
       "      <td>0</td>\n",
       "      <td>0</td>\n",
       "      <td>0</td>\n",
       "      <td>0</td>\n",
       "      <td>0</td>\n",
       "      <td>0</td>\n",
       "      <td>0</td>\n",
       "      <td>0</td>\n",
       "      <td>1</td>\n",
       "      <td>0</td>\n",
       "      <td>1</td>\n",
       "      <td>0</td>\n",
       "      <td>0</td>\n",
       "      <td>1</td>\n",
       "      <td>1</td>\n",
       "      <td>0</td>\n",
       "      <td>1</td>\n",
       "      <td>0</td>\n",
       "      <td>1</td>\n",
       "      <td>0</td>\n",
       "      <td>1</td>\n",
       "      <td>0</td>\n",
       "      <td>1</td>\n",
       "      <td>0</td>\n",
       "      <td>1</td>\n",
       "      <td>0</td>\n",
       "      <td>1</td>\n",
       "      <td>0</td>\n",
       "      <td>1</td>\n",
       "      <td>0</td>\n",
       "      <td>1</td>\n",
       "      <td>0</td>\n",
       "      <td>0</td>\n",
       "      <td>1</td>\n",
       "      <td>0</td>\n",
       "      <td>0</td>\n",
       "      <td>0</td>\n",
       "    </tr>\n",
       "    <tr>\n",
       "      <th>...</th>\n",
       "      <td>...</td>\n",
       "      <td>...</td>\n",
       "      <td>...</td>\n",
       "      <td>...</td>\n",
       "      <td>...</td>\n",
       "      <td>...</td>\n",
       "      <td>...</td>\n",
       "      <td>...</td>\n",
       "      <td>...</td>\n",
       "      <td>...</td>\n",
       "      <td>...</td>\n",
       "      <td>...</td>\n",
       "      <td>...</td>\n",
       "      <td>...</td>\n",
       "      <td>...</td>\n",
       "      <td>...</td>\n",
       "      <td>...</td>\n",
       "      <td>...</td>\n",
       "      <td>...</td>\n",
       "      <td>...</td>\n",
       "      <td>...</td>\n",
       "      <td>...</td>\n",
       "      <td>...</td>\n",
       "      <td>...</td>\n",
       "      <td>...</td>\n",
       "      <td>...</td>\n",
       "      <td>...</td>\n",
       "      <td>...</td>\n",
       "      <td>...</td>\n",
       "      <td>...</td>\n",
       "      <td>...</td>\n",
       "      <td>...</td>\n",
       "      <td>...</td>\n",
       "      <td>...</td>\n",
       "      <td>...</td>\n",
       "      <td>...</td>\n",
       "      <td>...</td>\n",
       "      <td>...</td>\n",
       "      <td>...</td>\n",
       "      <td>...</td>\n",
       "      <td>...</td>\n",
       "      <td>...</td>\n",
       "      <td>...</td>\n",
       "      <td>...</td>\n",
       "      <td>...</td>\n",
       "      <td>...</td>\n",
       "      <td>...</td>\n",
       "      <td>...</td>\n",
       "      <td>...</td>\n",
       "      <td>...</td>\n",
       "      <td>...</td>\n",
       "      <td>...</td>\n",
       "      <td>...</td>\n",
       "      <td>...</td>\n",
       "      <td>...</td>\n",
       "      <td>...</td>\n",
       "      <td>...</td>\n",
       "      <td>...</td>\n",
       "      <td>...</td>\n",
       "      <td>...</td>\n",
       "      <td>...</td>\n",
       "      <td>...</td>\n",
       "      <td>...</td>\n",
       "      <td>...</td>\n",
       "      <td>...</td>\n",
       "      <td>...</td>\n",
       "      <td>...</td>\n",
       "      <td>...</td>\n",
       "      <td>...</td>\n",
       "      <td>...</td>\n",
       "      <td>...</td>\n",
       "      <td>...</td>\n",
       "      <td>...</td>\n",
       "      <td>...</td>\n",
       "      <td>...</td>\n",
       "      <td>...</td>\n",
       "      <td>...</td>\n",
       "      <td>...</td>\n",
       "      <td>...</td>\n",
       "      <td>...</td>\n",
       "      <td>...</td>\n",
       "    </tr>\n",
       "    <tr>\n",
       "      <th>11284</th>\n",
       "      <td>-0.173956</td>\n",
       "      <td>-0.331113</td>\n",
       "      <td>-0.691415</td>\n",
       "      <td>-0.112588</td>\n",
       "      <td>-0.014054</td>\n",
       "      <td>0.137529</td>\n",
       "      <td>0.086837</td>\n",
       "      <td>-0.455902</td>\n",
       "      <td>0.557596</td>\n",
       "      <td>-0.974901</td>\n",
       "      <td>-0.935193</td>\n",
       "      <td>0.401204</td>\n",
       "      <td>0.020593</td>\n",
       "      <td>0.305707</td>\n",
       "      <td>0.425696</td>\n",
       "      <td>0.373753</td>\n",
       "      <td>1.532654</td>\n",
       "      <td>-0.333128</td>\n",
       "      <td>1.440218</td>\n",
       "      <td>1.126597</td>\n",
       "      <td>1.943405</td>\n",
       "      <td>2.632307</td>\n",
       "      <td>-0.582081</td>\n",
       "      <td>0.462207</td>\n",
       "      <td>3.093464</td>\n",
       "      <td>2.015272</td>\n",
       "      <td>-0.086026</td>\n",
       "      <td>-0.081794</td>\n",
       "      <td>-0.089562</td>\n",
       "      <td>0.420709</td>\n",
       "      <td>0.432173</td>\n",
       "      <td>0.407664</td>\n",
       "      <td>0.462053</td>\n",
       "      <td>0.436571</td>\n",
       "      <td>0.485429</td>\n",
       "      <td>0.869207</td>\n",
       "      <td>0.912657</td>\n",
       "      <td>0.845648</td>\n",
       "      <td>0.401204</td>\n",
       "      <td>0.417192</td>\n",
       "      <td>...</td>\n",
       "      <td>0</td>\n",
       "      <td>0</td>\n",
       "      <td>0</td>\n",
       "      <td>0</td>\n",
       "      <td>0</td>\n",
       "      <td>0</td>\n",
       "      <td>0</td>\n",
       "      <td>0</td>\n",
       "      <td>0</td>\n",
       "      <td>0</td>\n",
       "      <td>0</td>\n",
       "      <td>0</td>\n",
       "      <td>1</td>\n",
       "      <td>1</td>\n",
       "      <td>0</td>\n",
       "      <td>1</td>\n",
       "      <td>0</td>\n",
       "      <td>1</td>\n",
       "      <td>0</td>\n",
       "      <td>0</td>\n",
       "      <td>1</td>\n",
       "      <td>1</td>\n",
       "      <td>0</td>\n",
       "      <td>1</td>\n",
       "      <td>0</td>\n",
       "      <td>1</td>\n",
       "      <td>0</td>\n",
       "      <td>1</td>\n",
       "      <td>0</td>\n",
       "      <td>1</td>\n",
       "      <td>0</td>\n",
       "      <td>1</td>\n",
       "      <td>0</td>\n",
       "      <td>1</td>\n",
       "      <td>0</td>\n",
       "      <td>1</td>\n",
       "      <td>0</td>\n",
       "      <td>0</td>\n",
       "      <td>0</td>\n",
       "      <td>0</td>\n",
       "    </tr>\n",
       "    <tr>\n",
       "      <th>11964</th>\n",
       "      <td>-0.173956</td>\n",
       "      <td>0.631045</td>\n",
       "      <td>0.447055</td>\n",
       "      <td>-0.035480</td>\n",
       "      <td>-0.014636</td>\n",
       "      <td>-0.031056</td>\n",
       "      <td>-0.023486</td>\n",
       "      <td>2.364074</td>\n",
       "      <td>-1.296230</td>\n",
       "      <td>0.663406</td>\n",
       "      <td>-0.392818</td>\n",
       "      <td>-1.182545</td>\n",
       "      <td>0.014348</td>\n",
       "      <td>-1.365966</td>\n",
       "      <td>-1.192099</td>\n",
       "      <td>-0.000436</td>\n",
       "      <td>-1.374091</td>\n",
       "      <td>-0.333128</td>\n",
       "      <td>0.009822</td>\n",
       "      <td>-0.885184</td>\n",
       "      <td>-0.313416</td>\n",
       "      <td>-0.862166</td>\n",
       "      <td>-0.885208</td>\n",
       "      <td>-0.190397</td>\n",
       "      <td>-0.889312</td>\n",
       "      <td>-0.306701</td>\n",
       "      <td>-0.470281</td>\n",
       "      <td>-0.470914</td>\n",
       "      <td>-0.469590</td>\n",
       "      <td>-1.191210</td>\n",
       "      <td>-1.180316</td>\n",
       "      <td>-1.200450</td>\n",
       "      <td>-1.277147</td>\n",
       "      <td>-1.277216</td>\n",
       "      <td>-1.270124</td>\n",
       "      <td>-1.309843</td>\n",
       "      <td>-1.291521</td>\n",
       "      <td>-1.311703</td>\n",
       "      <td>-1.182545</td>\n",
       "      <td>-1.168475</td>\n",
       "      <td>...</td>\n",
       "      <td>0</td>\n",
       "      <td>0</td>\n",
       "      <td>0</td>\n",
       "      <td>0</td>\n",
       "      <td>0</td>\n",
       "      <td>0</td>\n",
       "      <td>0</td>\n",
       "      <td>0</td>\n",
       "      <td>0</td>\n",
       "      <td>0</td>\n",
       "      <td>0</td>\n",
       "      <td>1</td>\n",
       "      <td>0</td>\n",
       "      <td>1</td>\n",
       "      <td>0</td>\n",
       "      <td>1</td>\n",
       "      <td>0</td>\n",
       "      <td>1</td>\n",
       "      <td>0</td>\n",
       "      <td>1</td>\n",
       "      <td>0</td>\n",
       "      <td>1</td>\n",
       "      <td>0</td>\n",
       "      <td>0</td>\n",
       "      <td>1</td>\n",
       "      <td>1</td>\n",
       "      <td>0</td>\n",
       "      <td>1</td>\n",
       "      <td>0</td>\n",
       "      <td>1</td>\n",
       "      <td>0</td>\n",
       "      <td>1</td>\n",
       "      <td>0</td>\n",
       "      <td>1</td>\n",
       "      <td>0</td>\n",
       "      <td>0</td>\n",
       "      <td>0</td>\n",
       "      <td>1</td>\n",
       "      <td>0</td>\n",
       "      <td>0</td>\n",
       "    </tr>\n",
       "    <tr>\n",
       "      <th>5390</th>\n",
       "      <td>0.372267</td>\n",
       "      <td>2.020829</td>\n",
       "      <td>-1.070905</td>\n",
       "      <td>2.223883</td>\n",
       "      <td>-0.013782</td>\n",
       "      <td>0.137529</td>\n",
       "      <td>-0.198682</td>\n",
       "      <td>-0.285296</td>\n",
       "      <td>0.670670</td>\n",
       "      <td>-0.860108</td>\n",
       "      <td>-0.646149</td>\n",
       "      <td>0.514254</td>\n",
       "      <td>-0.020120</td>\n",
       "      <td>0.974377</td>\n",
       "      <td>0.370248</td>\n",
       "      <td>0.598916</td>\n",
       "      <td>1.241980</td>\n",
       "      <td>-0.333128</td>\n",
       "      <td>0.971076</td>\n",
       "      <td>0.456004</td>\n",
       "      <td>1.943405</td>\n",
       "      <td>3.391975</td>\n",
       "      <td>-0.278953</td>\n",
       "      <td>1.767417</td>\n",
       "      <td>0.158787</td>\n",
       "      <td>3.197367</td>\n",
       "      <td>-0.315339</td>\n",
       "      <td>-0.324710</td>\n",
       "      <td>-0.307349</td>\n",
       "      <td>0.443780</td>\n",
       "      <td>0.477121</td>\n",
       "      <td>0.407415</td>\n",
       "      <td>0.571651</td>\n",
       "      <td>0.604013</td>\n",
       "      <td>0.535640</td>\n",
       "      <td>1.039400</td>\n",
       "      <td>1.164626</td>\n",
       "      <td>0.978583</td>\n",
       "      <td>0.514254</td>\n",
       "      <td>0.548570</td>\n",
       "      <td>...</td>\n",
       "      <td>0</td>\n",
       "      <td>0</td>\n",
       "      <td>0</td>\n",
       "      <td>0</td>\n",
       "      <td>0</td>\n",
       "      <td>0</td>\n",
       "      <td>0</td>\n",
       "      <td>0</td>\n",
       "      <td>0</td>\n",
       "      <td>0</td>\n",
       "      <td>0</td>\n",
       "      <td>0</td>\n",
       "      <td>1</td>\n",
       "      <td>1</td>\n",
       "      <td>0</td>\n",
       "      <td>1</td>\n",
       "      <td>0</td>\n",
       "      <td>1</td>\n",
       "      <td>0</td>\n",
       "      <td>0</td>\n",
       "      <td>1</td>\n",
       "      <td>1</td>\n",
       "      <td>0</td>\n",
       "      <td>1</td>\n",
       "      <td>0</td>\n",
       "      <td>1</td>\n",
       "      <td>0</td>\n",
       "      <td>1</td>\n",
       "      <td>0</td>\n",
       "      <td>1</td>\n",
       "      <td>0</td>\n",
       "      <td>1</td>\n",
       "      <td>0</td>\n",
       "      <td>1</td>\n",
       "      <td>0</td>\n",
       "      <td>0</td>\n",
       "      <td>0</td>\n",
       "      <td>0</td>\n",
       "      <td>1</td>\n",
       "      <td>0</td>\n",
       "    </tr>\n",
       "    <tr>\n",
       "      <th>860</th>\n",
       "      <td>0.582353</td>\n",
       "      <td>-0.003063</td>\n",
       "      <td>0.067565</td>\n",
       "      <td>-0.035480</td>\n",
       "      <td>-0.014636</td>\n",
       "      <td>-0.031056</td>\n",
       "      <td>-0.023486</td>\n",
       "      <td>2.364074</td>\n",
       "      <td>-1.296230</td>\n",
       "      <td>0.663406</td>\n",
       "      <td>-0.392818</td>\n",
       "      <td>-1.182545</td>\n",
       "      <td>0.014348</td>\n",
       "      <td>-1.365966</td>\n",
       "      <td>-1.192099</td>\n",
       "      <td>-0.000436</td>\n",
       "      <td>-1.374091</td>\n",
       "      <td>-0.333128</td>\n",
       "      <td>0.009822</td>\n",
       "      <td>-0.885184</td>\n",
       "      <td>-0.313416</td>\n",
       "      <td>-0.862166</td>\n",
       "      <td>-0.885208</td>\n",
       "      <td>-0.190397</td>\n",
       "      <td>-0.889312</td>\n",
       "      <td>-0.306701</td>\n",
       "      <td>-0.470281</td>\n",
       "      <td>-0.470914</td>\n",
       "      <td>-0.469590</td>\n",
       "      <td>-1.191210</td>\n",
       "      <td>-1.180316</td>\n",
       "      <td>-1.200450</td>\n",
       "      <td>-1.277147</td>\n",
       "      <td>-1.277216</td>\n",
       "      <td>-1.270124</td>\n",
       "      <td>-1.309843</td>\n",
       "      <td>-1.291521</td>\n",
       "      <td>-1.311703</td>\n",
       "      <td>-1.182545</td>\n",
       "      <td>-1.168475</td>\n",
       "      <td>...</td>\n",
       "      <td>0</td>\n",
       "      <td>0</td>\n",
       "      <td>0</td>\n",
       "      <td>0</td>\n",
       "      <td>0</td>\n",
       "      <td>0</td>\n",
       "      <td>0</td>\n",
       "      <td>0</td>\n",
       "      <td>0</td>\n",
       "      <td>0</td>\n",
       "      <td>0</td>\n",
       "      <td>1</td>\n",
       "      <td>0</td>\n",
       "      <td>1</td>\n",
       "      <td>0</td>\n",
       "      <td>1</td>\n",
       "      <td>0</td>\n",
       "      <td>1</td>\n",
       "      <td>0</td>\n",
       "      <td>1</td>\n",
       "      <td>0</td>\n",
       "      <td>1</td>\n",
       "      <td>0</td>\n",
       "      <td>0</td>\n",
       "      <td>1</td>\n",
       "      <td>1</td>\n",
       "      <td>0</td>\n",
       "      <td>1</td>\n",
       "      <td>0</td>\n",
       "      <td>1</td>\n",
       "      <td>0</td>\n",
       "      <td>1</td>\n",
       "      <td>0</td>\n",
       "      <td>1</td>\n",
       "      <td>0</td>\n",
       "      <td>0</td>\n",
       "      <td>0</td>\n",
       "      <td>1</td>\n",
       "      <td>0</td>\n",
       "      <td>0</td>\n",
       "    </tr>\n",
       "    <tr>\n",
       "      <th>15795</th>\n",
       "      <td>-0.342025</td>\n",
       "      <td>-0.812192</td>\n",
       "      <td>0.636800</td>\n",
       "      <td>0.786055</td>\n",
       "      <td>-0.013959</td>\n",
       "      <td>-1.308894</td>\n",
       "      <td>0.051147</td>\n",
       "      <td>-0.259999</td>\n",
       "      <td>-0.103676</td>\n",
       "      <td>0.441620</td>\n",
       "      <td>-0.999593</td>\n",
       "      <td>-0.145161</td>\n",
       "      <td>-0.097372</td>\n",
       "      <td>0.974377</td>\n",
       "      <td>-0.078610</td>\n",
       "      <td>-0.224745</td>\n",
       "      <td>0.660631</td>\n",
       "      <td>-0.333128</td>\n",
       "      <td>0.009822</td>\n",
       "      <td>0.456004</td>\n",
       "      <td>-0.313416</td>\n",
       "      <td>1.112971</td>\n",
       "      <td>-0.582081</td>\n",
       "      <td>-0.190397</td>\n",
       "      <td>0.368407</td>\n",
       "      <td>-0.180048</td>\n",
       "      <td>-0.281227</td>\n",
       "      <td>-0.264997</td>\n",
       "      <td>-0.294800</td>\n",
       "      <td>-0.127669</td>\n",
       "      <td>-0.151207</td>\n",
       "      <td>-0.102390</td>\n",
       "      <td>-0.142365</td>\n",
       "      <td>-0.096719</td>\n",
       "      <td>-0.187987</td>\n",
       "      <td>0.029850</td>\n",
       "      <td>0.127799</td>\n",
       "      <td>-0.013947</td>\n",
       "      <td>-0.145161</td>\n",
       "      <td>-0.158538</td>\n",
       "      <td>...</td>\n",
       "      <td>0</td>\n",
       "      <td>0</td>\n",
       "      <td>0</td>\n",
       "      <td>0</td>\n",
       "      <td>0</td>\n",
       "      <td>0</td>\n",
       "      <td>0</td>\n",
       "      <td>0</td>\n",
       "      <td>0</td>\n",
       "      <td>0</td>\n",
       "      <td>0</td>\n",
       "      <td>1</td>\n",
       "      <td>0</td>\n",
       "      <td>1</td>\n",
       "      <td>0</td>\n",
       "      <td>1</td>\n",
       "      <td>0</td>\n",
       "      <td>1</td>\n",
       "      <td>0</td>\n",
       "      <td>1</td>\n",
       "      <td>0</td>\n",
       "      <td>1</td>\n",
       "      <td>0</td>\n",
       "      <td>1</td>\n",
       "      <td>0</td>\n",
       "      <td>1</td>\n",
       "      <td>0</td>\n",
       "      <td>0</td>\n",
       "      <td>1</td>\n",
       "      <td>1</td>\n",
       "      <td>0</td>\n",
       "      <td>1</td>\n",
       "      <td>0</td>\n",
       "      <td>1</td>\n",
       "      <td>0</td>\n",
       "      <td>0</td>\n",
       "      <td>1</td>\n",
       "      <td>0</td>\n",
       "      <td>0</td>\n",
       "      <td>0</td>\n",
       "    </tr>\n",
       "  </tbody>\n",
       "</table>\n",
       "<p>16000 rows × 451 columns</p>\n",
       "</div>\n",
       "      <button class=\"colab-df-convert\" onclick=\"convertToInteractive('df-ec27b79c-7ac3-4b7e-adc1-4dd63ae8c93a')\"\n",
       "              title=\"Convert this dataframe to an interactive table.\"\n",
       "              style=\"display:none;\">\n",
       "        \n",
       "  <svg xmlns=\"http://www.w3.org/2000/svg\" height=\"24px\"viewBox=\"0 0 24 24\"\n",
       "       width=\"24px\">\n",
       "    <path d=\"M0 0h24v24H0V0z\" fill=\"none\"/>\n",
       "    <path d=\"M18.56 5.44l.94 2.06.94-2.06 2.06-.94-2.06-.94-.94-2.06-.94 2.06-2.06.94zm-11 1L8.5 8.5l.94-2.06 2.06-.94-2.06-.94L8.5 2.5l-.94 2.06-2.06.94zm10 10l.94 2.06.94-2.06 2.06-.94-2.06-.94-.94-2.06-.94 2.06-2.06.94z\"/><path d=\"M17.41 7.96l-1.37-1.37c-.4-.4-.92-.59-1.43-.59-.52 0-1.04.2-1.43.59L10.3 9.45l-7.72 7.72c-.78.78-.78 2.05 0 2.83L4 21.41c.39.39.9.59 1.41.59.51 0 1.02-.2 1.41-.59l7.78-7.78 2.81-2.81c.8-.78.8-2.07 0-2.86zM5.41 20L4 18.59l7.72-7.72 1.47 1.35L5.41 20z\"/>\n",
       "  </svg>\n",
       "      </button>\n",
       "      \n",
       "  <style>\n",
       "    .colab-df-container {\n",
       "      display:flex;\n",
       "      flex-wrap:wrap;\n",
       "      gap: 12px;\n",
       "    }\n",
       "\n",
       "    .colab-df-convert {\n",
       "      background-color: #E8F0FE;\n",
       "      border: none;\n",
       "      border-radius: 50%;\n",
       "      cursor: pointer;\n",
       "      display: none;\n",
       "      fill: #1967D2;\n",
       "      height: 32px;\n",
       "      padding: 0 0 0 0;\n",
       "      width: 32px;\n",
       "    }\n",
       "\n",
       "    .colab-df-convert:hover {\n",
       "      background-color: #E2EBFA;\n",
       "      box-shadow: 0px 1px 2px rgba(60, 64, 67, 0.3), 0px 1px 3px 1px rgba(60, 64, 67, 0.15);\n",
       "      fill: #174EA6;\n",
       "    }\n",
       "\n",
       "    [theme=dark] .colab-df-convert {\n",
       "      background-color: #3B4455;\n",
       "      fill: #D2E3FC;\n",
       "    }\n",
       "\n",
       "    [theme=dark] .colab-df-convert:hover {\n",
       "      background-color: #434B5C;\n",
       "      box-shadow: 0px 1px 3px 1px rgba(0, 0, 0, 0.15);\n",
       "      filter: drop-shadow(0px 1px 2px rgba(0, 0, 0, 0.3));\n",
       "      fill: #FFFFFF;\n",
       "    }\n",
       "  </style>\n",
       "\n",
       "      <script>\n",
       "        const buttonEl =\n",
       "          document.querySelector('#df-ec27b79c-7ac3-4b7e-adc1-4dd63ae8c93a button.colab-df-convert');\n",
       "        buttonEl.style.display =\n",
       "          google.colab.kernel.accessAllowed ? 'block' : 'none';\n",
       "\n",
       "        async function convertToInteractive(key) {\n",
       "          const element = document.querySelector('#df-ec27b79c-7ac3-4b7e-adc1-4dd63ae8c93a');\n",
       "          const dataTable =\n",
       "            await google.colab.kernel.invokeFunction('convertToInteractive',\n",
       "                                                     [key], {});\n",
       "          if (!dataTable) return;\n",
       "\n",
       "          const docLinkHtml = 'Like what you see? Visit the ' +\n",
       "            '<a target=\"_blank\" href=https://colab.research.google.com/notebooks/data_table.ipynb>data table notebook</a>'\n",
       "            + ' to learn more about interactive tables.';\n",
       "          element.innerHTML = '';\n",
       "          dataTable['output_type'] = 'display_data';\n",
       "          await google.colab.output.renderOutput(dataTable, element);\n",
       "          const docLink = document.createElement('div');\n",
       "          docLink.innerHTML = docLinkHtml;\n",
       "          element.appendChild(docLink);\n",
       "        }\n",
       "      </script>\n",
       "    </div>\n",
       "  </div>\n",
       "  "
      ],
      "text/plain": [
       "        full_sq   life_sq  ...  ecology_poor  ecology_satisfactory\n",
       "5894   0.876474  3.303707  ...             0                     0\n",
       "3728   0.204198 -0.063847  ...             0                     0\n",
       "8958   0.393276  0.004453  ...             0                     0\n",
       "7671   0.120164  0.004453  ...             0                     0\n",
       "5999  -0.300008  0.004453  ...             0                     0\n",
       "...         ...       ...  ...           ...                   ...\n",
       "11284 -0.173956 -0.331113  ...             0                     0\n",
       "11964 -0.173956  0.631045  ...             0                     0\n",
       "5390   0.372267  2.020829  ...             1                     0\n",
       "860    0.582353 -0.003063  ...             0                     0\n",
       "15795 -0.342025 -0.812192  ...             0                     0\n",
       "\n",
       "[16000 rows x 451 columns]"
      ]
     },
     "execution_count": 42,
     "metadata": {},
     "output_type": "execute_result"
    }
   ],
   "source": [
    "X_train_norm = pd.DataFrame(X_train_norm)\n",
    "X_train_norm"
   ]
  },
  {
   "cell_type": "code",
   "execution_count": 43,
   "metadata": {
    "id": "K3ZxgJi94ZgJ"
   },
   "outputs": [],
   "source": [
    "X_test_norm = X_test.copy()\n",
    "X_test_norm[num_columns] = std.transform(X_test[num_columns]) # нормализуем тестовую выборку\n",
    "X_test_norm = pd.DataFrame(X_test_norm)"
   ]
  },
  {
   "cell_type": "markdown",
   "metadata": {
    "id": "rITpJI7Z5tiO"
   },
   "source": [
    "### Распределение таргета"
   ]
  },
  {
   "cell_type": "code",
   "execution_count": 44,
   "metadata": {
    "colab": {
     "base_uri": "https://localhost:8080/",
     "height": 290
    },
    "id": "oN-XLKyi5wq6",
    "outputId": "3d037704-69f5-494c-c193-988c959ae170"
   },
   "outputs": [
    {
     "data": {
      "image/png": "[encoded data removed]",
      "text/plain": [
       "<Figure size 432x288 with 1 Axes>"
      ]
     },
     "metadata": {
      "needs_background": "light"
     },
     "output_type": "display_data"
    }
   ],
   "source": [
    "sns.distplot(y_train); # длинный хвост"
   ]
  },
  {
   "cell_type": "code",
   "execution_count": 45,
   "metadata": {
    "colab": {
     "base_uri": "https://localhost:8080/",
     "height": 279
    },
    "id": "TXyYGKEk5ztx",
    "outputId": "678404c9-7758-4c6d-b4be-947cbb4449c8"
   },
   "outputs": [
    {
     "data": {
      "image/png": "[encoded data removed]",
      "text/plain": [
       "<Figure size 432x288 with 1 Axes>"
      ]
     },
     "metadata": {
      "needs_background": "light"
     },
     "output_type": "display_data"
    }
   ],
   "source": [
    "sns.distplot(np.log(y_train));"
   ]
  },
  {
   "cell_type": "code",
   "execution_count": 46,
   "metadata": {
    "id": "UDgYM3Uc54Qp"
   },
   "outputs": [],
   "source": [
    "y_test_norm = np.log(y_test)\n",
    "y_train_norm = np.log(y_train)"
   ]
  },
  {
   "cell_type": "code",
   "execution_count": 47,
   "metadata": {
    "colab": {
     "base_uri": "https://localhost:8080/"
    },
    "id": "93a8DLHNC4li",
    "outputId": "f64bbac1-9e79-4723-97f6-65e9799fc253"
   },
   "outputs": [
    {
     "name": "stdout",
     "output_type": "stream",
     "text": [
      "18.327096130501715\n"
     ]
    }
   ],
   "source": [
    "print(y_train_norm.max())"
   ]
  },
  {
   "cell_type": "code",
   "execution_count": 48,
   "metadata": {
    "colab": {
     "base_uri": "https://localhost:8080/"
    },
    "id": "mnDZP8gPCDx5",
    "outputId": "4da7e2ff-7147-48ef-bd97-f75129885a19"
   },
   "outputs": [
    {
     "name": "stdout",
     "output_type": "stream",
     "text": [
      "Линейная регрессия на нормализованных данных: 3229498.2876013517\n"
     ]
    }
   ],
   "source": [
    "#  значение моделей на нормализованных данных:\n",
    "lin_reg = LinearRegression()\n",
    "lin_reg.fit(X_train_norm, y_train)\n",
    "y_pred = lin_reg.predict(X_test_norm)\n",
    "print(f'Линейная регрессия на нормализованных данных: {RMSE(y_test, y_pred)}') # значение немного ухудшилось"
   ]
  },
  {
   "cell_type": "code",
   "execution_count": 49,
   "metadata": {
    "colab": {
     "base_uri": "https://localhost:8080/"
    },
    "id": "S8MPTymhIbEK",
    "outputId": "7b88a726-7a60-473f-9620-baa2aefab701"
   },
   "outputs": [
    {
     "name": "stdout",
     "output_type": "stream",
     "text": [
      "Дерево решений на нормализованных данных: 3919655.0854102164\n"
     ]
    }
   ],
   "source": [
    "clf = DecisionTreeRegressor(random_state=42)\n",
    "clf.fit(X_train_norm, y_train)\n",
    "y_pred = clf.predict(X_test_norm)\n",
    "print(f'Дерево решений на нормализованных данных: {RMSE(y_test, y_pred)}') # значение ухудшилось, значит нормализуя данные - мы теряем информацию"
   ]
  },
  {
   "cell_type": "markdown",
   "metadata": {
    "id": "c4gs5bQ180WE"
   },
   "source": [
    "### Отбор признаков с помощью L1 регуляризации"
   ]
  },
  {
   "cell_type": "code",
   "execution_count": 50,
   "metadata": {
    "colab": {
     "base_uri": "https://localhost:8080/"
    },
    "id": "F9bOrBFV8yX1",
    "outputId": "21b55995-ee84-4abd-8c87-a4d438427656"
   },
   "outputs": [
    {
     "name": "stderr",
     "output_type": "stream",
     "text": [
      "100%|██████████| 7/7 [01:53<00:00, 16.26s/it]\n"
     ]
    }
   ],
   "source": [
    "history = []\n",
    "cs = np.linspace(0.001, 1200, 7)\n",
    "for c in tqdm(cs):\n",
    "    log_reg = Lasso(alpha=c)\n",
    "    log_reg.fit(X_train_norm, y_train)\n",
    "    y_pred = log_reg.predict(X_test_norm)\n",
    "    history.append(mean_squared_error(y_test, y_pred, squared=False))"
   ]
  },
  {
   "cell_type": "code",
   "execution_count": 51,
   "metadata": {
    "colab": {
     "base_uri": "https://localhost:8080/",
     "height": 385
    },
    "id": "E3FJu3S59xes",
    "outputId": "a9ba552c-b48a-4650-c5b4-e5124d1ae785"
   },
   "outputs": [
    {
     "data": {
      "text/plain": [
       "Text(0, 0.5, 'RMSE')"
      ]
     },
     "execution_count": 51,
     "metadata": {},
     "output_type": "execute_result"
    },
    {
     "data": {
      "image/png": "[encoded data removed]",
      "text/plain": [
       "<Figure size 432x288 with 1 Axes>"
      ]
     },
     "metadata": {
      "needs_background": "light"
     },
     "output_type": "display_data"
    }
   ],
   "source": [
    "plt.plot(np.arange(len(history)), history)\n",
    "plt.xticks(np.arange(len(history)), cs, rotation=45)\n",
    "plt.xlabel('C regularization')\n",
    "plt.ylabel('RMSE')"
   ]
  },
  {
   "cell_type": "code",
   "execution_count": 52,
   "metadata": {
    "colab": {
     "base_uri": "https://localhost:8080/"
    },
    "id": "4efwS_r36loY",
    "outputId": "42652fb3-384c-478c-c1da-01b897c8be6e"
   },
   "outputs": [
    {
     "name": "stdout",
     "output_type": "stream",
     "text": [
      "лучший скор: 3222683.3005640176\n",
      "C = 1000.0001666666666\n"
     ]
    }
   ],
   "source": [
    "idx = np.argmin(history)\n",
    "print(f'лучший скор: {history[idx]}')\n",
    "print(f'C = {cs[idx]}')"
   ]
  },
  {
   "cell_type": "code",
   "execution_count": 53,
   "metadata": {
    "colab": {
     "base_uri": "https://localhost:8080/"
    },
    "id": "a4e8V-G4_536",
    "outputId": "325f30c1-dc59-4904-db6b-8f4772006896"
   },
   "outputs": [
    {
     "data": {
      "text/plain": [
       "Lasso(alpha=1000.0001666666666)"
      ]
     },
     "execution_count": 53,
     "metadata": {},
     "output_type": "execute_result"
    }
   ],
   "source": [
    "c = cs[idx]\n",
    "lin_reg = Lasso(alpha=c)\n",
    "lin_reg.fit(X_train_norm, y_train)"
   ]
  },
  {
   "cell_type": "code",
   "execution_count": 54,
   "metadata": {
    "id": "_cR2AR655W_F"
   },
   "outputs": [],
   "source": [
    "coefs = lin_reg.coef_"
   ]
  },
  {
   "cell_type": "code",
   "execution_count": 55,
   "metadata": {
    "colab": {
     "base_uri": "https://localhost:8080/"
    },
    "id": "JKZ5Fm3WAuty",
    "outputId": "5501daf9-70de-48bc-b7da-9e8c1e040347"
   },
   "outputs": [
    {
     "name": "stdout",
     "output_type": "stream",
     "text": [
      "[0.0, 0.0, -0.0, 0.0, 0.0, -0.0, -0.0, -0.0, -0.0, -0.0, 0.0, 0.0, 0.0, -0.0, 0.0, 0.0, 0.0, 0.0, 0.0, 0.0, -0.0, -0.0, 0.0, 0.0, 0.0, 0.0, 0.0, 0.0, -0.0, 0.0, -0.0, -0.0, 0.0, -0.0, 0.0, -0.0, -0.0, 0.0, -0.0, 0.0, -0.0, 0.0, -0.0, -0.0, -0.0, 0.0, 0.0, 0.0, 0.0, 0.0, -0.0, -0.0, -0.0, -0.0, 0.0, -0.0, 0.0, 0.0, 0.0, 0.0, -0.0, 0.0, 0.0, -0.0, -0.0, -0.0, 0.0, -0.0, 0.0, -0.0, -0.0, 0.0, -0.0, 0.0, 0.0, -0.0, -0.0, -0.0, 0.0, -0.0, -0.0, -0.0, 0.0, 0.0, -0.0, 0.0, -0.0, -0.0, -0.0, -0.0, -0.0, -0.0, 0.0, -0.0, 0.0, -0.0, -0.0, 0.0, -0.0, 0.0, -0.0, -0.0, -0.0, 0.0, 0.0, -0.0, -0.0, 0.0, 0.0, -0.0, 0.0, 0.0, 0.0, 0.0, 0.0, -0.0, -0.0, -0.0, 0.0, 0.0, 0.0, 0.0, 0.0, -0.0, -0.0, 0.0, 0.0, -0.0, 0.0, -0.0, -0.0, 0.0, -0.0, -0.0, -0.0, -0.0, 0.0, -0.0, 0.0, 0.0, 0.0, -0.0, -0.0, -0.0, 0.0, -0.0, -0.0, -0.0, 0.0, 0.0, -0.0, 0.0, -0.0, -0.0, -0.0, 3.248979333650869e-11, -5.38820898674537e-11, 5.665688113831023e-11, -1.7729822477560606e-10, 3.4505070250776887e-10, 4.60040957146179e-10, 4.4220054059882376e-08, 1.090040468846951e-07, -2.0353716317800923e-07, 4.708680638577788e-05, 740.310851729834, 1021.1571705426471, 1120.3468200136372, 1228.0707440170074, -1879.0730245704362, 2172.9334271959315, -2341.545470757709, 2944.6709302458103, 3263.7884075659326, -4962.5827286168, 6031.915902712775, 6436.577838304006, -6547.7584790091605, -7382.047279651775, 7731.193456809204, 7827.005938555373, 8686.087197221319, 9354.903987807103, -9743.319977272256, 9852.81168896097, -14928.117156248889, 15393.234451514058, 16613.01684501812, 18312.919294061234, 20325.459490806392, -21144.664141256348, -21544.28214968585, -23780.477870187733, 25959.32268783659, 26733.7888154035, -26928.975319090736, 28552.069239334043, -30093.88758699063, -30274.380704141793, -30551.27279879667, -31858.737322432455, -31879.224954081867, -32292.235544811367, -33391.250145673424, -33553.4044195188, 34256.45602569641, 35644.184932961805, -35788.63420503195, -36780.13348567867, -37140.21856158515, 39352.88842657382, 39403.17180807036, 39898.244586443696, 40909.1644727261, -43715.51193048809, -44738.803552700665, -46622.50653816041, 47620.89506097069, 47896.40348122064, -48872.559920125124, -49583.4493697894, 49888.52553047616, 53107.57564680037, 53302.93657700867, -56745.540028132105, -59540.879730059365, 64821.5421826028, 65056.73169244892, 66011.47480250834, -66327.68490557552, -68859.61518228683, -69346.03047076882, 69704.04702287354, -70882.31190395483, -73141.15554135741, 78006.8849637887, -78806.29044981698, -79780.06595001572, -80187.74434141719, -81963.10370942247, -83021.8712506621, -93265.17946924998, 94061.48624454951, -94087.67177921429, -95450.92065453493, 95885.34173531909, 98427.51313361716, 99931.17264535905, 100861.67991077463, -102119.79256253863, 102461.44470362019, 102641.15555752642, -103109.77145703186, 106258.50896554308, -108294.14147864857, 109471.11862301339, 110385.4070011263, -111144.08229909277, -111539.25084602574, -113498.29612981025, -115755.24741447356, -117689.13998588324, 118001.49438937187, -119002.67405521985, -124932.25547600086, -127803.01511808428, 130139.18528502066, 130734.4214178559, 131603.8876275834, -133278.3086658134, 134568.92145977434, 134710.83734449482, 136150.65949873382, 137077.28784996588, -141679.46876829918, 142840.86709986624, -144871.65331266512, 145563.22891620977, 151421.01069165205, 153052.7548082325, 153072.35590953383, -157391.86851862358, -157830.18955668824, -161814.54371824674, 162757.3986503965, 162870.81485733978, 166847.79632749103, 167503.65611975294, 170057.92273967457, -177616.45198967753, -180973.3434311007, 181562.03048739926, 182446.2022563708, -184618.3055569801, -187706.81616041288, -188088.082010424, -193780.5105001727, -195472.20425814067, -200145.81241041675, -201531.39339488832, 201579.6526440923, -205780.65543006518, -209889.07801302287, -212251.39767040362, 213116.8350369348, 213287.3039754787, 221634.37985543328, -221969.7202597324, -228542.3525604151, 230017.47848727627, -230721.20496814518, 231796.532608297, 234711.87864163995, -242264.73221282763, -244460.32780208197, 245680.89055273734, -246935.43555852753, 248236.0540225906, 250679.33058463238, -250977.43878599204, -252822.4710262492, 265776.76470362773, 268433.14529845223, 271878.3631061366, -272989.34566320915, -279551.0132702829, 281351.4766145951, 281624.5105322086, -284771.4203107987, -286541.9891231097, 288654.3437381549, -289776.8201264437, -301183.4631689288, 303200.59067831485, 303499.2433312109, -310250.0675579825, -311692.5376521749, -312092.53036261554, -318464.89171534876, -321804.417080138, 325067.16041038284, 326600.395936322, 331449.7689443212, 332197.63733858644, -340955.5315538161, -350996.1974706448, 351190.57838128076, 351501.5369136472, -351645.3444680572, 352697.04161324835, 355750.6507150374, -362770.0297923403, 369984.8075791187, 370105.704603643, -380527.150411613, -385336.4425306734, -389547.36987970746, -399192.7017630508, -405522.56042815454, 406806.821611788, -407154.73860327614, 407359.6740594252, 410126.99348010926, -419746.1981568255, 433204.5028505175, 439472.599594639, -446585.3270740354, 460090.9973842468, 471841.0544268299, 480809.25981752516, 482671.8386523433, 485161.2009322616, 504352.5346703483, -511565.32875928504, 518734.94970956014, -519833.87004869763, -522957.088448294, 523581.3467134718, 532233.5967806064, -543194.2872138413, -570431.1324324759, -573747.4250416622, -577742.4311142784, 584020.7659970385, 609886.4717414035, -615000.7049529392, 617755.1654880536, -621000.9691577187, -626307.7612234139, 627118.3717450985, -631342.7693317209, 633786.8055803347, 643041.4536505404, -645710.859905615, 659278.1374381335, 689697.9309345831, 693064.851390167, -704991.624141999, 710447.6030498138, -731528.9589919316, -733861.7196857082, -739601.3266365335, -742994.1244069815, 758616.4617693351, 769433.2127472993, 787347.8976946939, 796055.8582763053, 804806.364247307, 812799.1204897747, -826193.317215243, -835437.6198454965, 836377.5522814358, -849403.9800754256, 866196.7998300134, 886839.251670158, 889975.8153955742, -914088.303914573, 916726.1097646871, -936390.0287008589, -987649.1359110117, 1001175.7998067228, -1013093.5781166552, 1015140.0912630019, 1063307.1675239196, 1066753.6248840406, 1067312.9346303833, -1119395.1161488807, -1125685.8843750318, -1132521.2799593103, -1170278.927898034, -1241832.0559948043, -1316653.7628335077, -1355908.141608875, -1405224.9989804612, -1411204.7376052313, 1423438.3135065867, 1446201.358178395, 1522293.5681722416, -1600765.6490306412, 1653330.8775730678, 1656818.9296604707, 1710019.9048218552, 1734633.0233904414, 1748452.1895653796, 1767860.7159132964, 1819416.7587529637, 1922963.6444428263, -2057986.4965950302, 2792028.771252112, -2960147.84637206, 3095654.8531363676]\n"
     ]
    }
   ],
   "source": [
    "print(sorted(coefs, key=lambda x: abs(x))) # видим что L1 регуляризация занулила огромное кол-во коеффициентов"
   ]
  },
  {
   "cell_type": "code",
   "execution_count": 56,
   "metadata": {
    "colab": {
     "base_uri": "https://localhost:8080/",
     "height": 424
    },
    "id": "Ub9UpbxOeKc5",
    "outputId": "d533a209-7ea1-4313-a214-d180fe38263c"
   },
   "outputs": [
    {
     "data": {
      "text/html": [
       "\n",
       "  <div id=\"df-46a2b00b-636c-4576-8dc3-b64d26a27981\">\n",
       "    <div class=\"colab-df-container\">\n",
       "      <div>\n",
       "<style scoped>\n",
       "    .dataframe tbody tr th:only-of-type {\n",
       "        vertical-align: middle;\n",
       "    }\n",
       "\n",
       "    .dataframe tbody tr th {\n",
       "        vertical-align: top;\n",
       "    }\n",
       "\n",
       "    .dataframe thead th {\n",
       "        text-align: right;\n",
       "    }\n",
       "</style>\n",
       "<table border=\"1\" class=\"dataframe\">\n",
       "  <thead>\n",
       "    <tr style=\"text-align: right;\">\n",
       "      <th></th>\n",
       "      <th>w</th>\n",
       "      <th>abs_w</th>\n",
       "    </tr>\n",
       "  </thead>\n",
       "  <tbody>\n",
       "    <tr>\n",
       "      <th>450</th>\n",
       "      <td>-0.000000e+00</td>\n",
       "      <td>0.000000e+00</td>\n",
       "    </tr>\n",
       "    <tr>\n",
       "      <th>233</th>\n",
       "      <td>0.000000e+00</td>\n",
       "      <td>0.000000e+00</td>\n",
       "    </tr>\n",
       "    <tr>\n",
       "      <th>413</th>\n",
       "      <td>0.000000e+00</td>\n",
       "      <td>0.000000e+00</td>\n",
       "    </tr>\n",
       "    <tr>\n",
       "      <th>412</th>\n",
       "      <td>0.000000e+00</td>\n",
       "      <td>0.000000e+00</td>\n",
       "    </tr>\n",
       "    <tr>\n",
       "      <th>411</th>\n",
       "      <td>-0.000000e+00</td>\n",
       "      <td>0.000000e+00</td>\n",
       "    </tr>\n",
       "    <tr>\n",
       "      <th>...</th>\n",
       "      <td>...</td>\n",
       "      <td>...</td>\n",
       "    </tr>\n",
       "    <tr>\n",
       "      <th>358</th>\n",
       "      <td>1.922964e+06</td>\n",
       "      <td>1.922964e+06</td>\n",
       "    </tr>\n",
       "    <tr>\n",
       "      <th>188</th>\n",
       "      <td>-2.057986e+06</td>\n",
       "      <td>2.057986e+06</td>\n",
       "    </tr>\n",
       "    <tr>\n",
       "      <th>310</th>\n",
       "      <td>2.792029e+06</td>\n",
       "      <td>2.792029e+06</td>\n",
       "    </tr>\n",
       "    <tr>\n",
       "      <th>339</th>\n",
       "      <td>-2.960148e+06</td>\n",
       "      <td>2.960148e+06</td>\n",
       "    </tr>\n",
       "    <tr>\n",
       "      <th>327</th>\n",
       "      <td>3.095655e+06</td>\n",
       "      <td>3.095655e+06</td>\n",
       "    </tr>\n",
       "  </tbody>\n",
       "</table>\n",
       "<p>451 rows × 2 columns</p>\n",
       "</div>\n",
       "      <button class=\"colab-df-convert\" onclick=\"convertToInteractive('df-46a2b00b-636c-4576-8dc3-b64d26a27981')\"\n",
       "              title=\"Convert this dataframe to an interactive table.\"\n",
       "              style=\"display:none;\">\n",
       "        \n",
       "  <svg xmlns=\"http://www.w3.org/2000/svg\" height=\"24px\"viewBox=\"0 0 24 24\"\n",
       "       width=\"24px\">\n",
       "    <path d=\"M0 0h24v24H0V0z\" fill=\"none\"/>\n",
       "    <path d=\"M18.56 5.44l.94 2.06.94-2.06 2.06-.94-2.06-.94-.94-2.06-.94 2.06-2.06.94zm-11 1L8.5 8.5l.94-2.06 2.06-.94-2.06-.94L8.5 2.5l-.94 2.06-2.06.94zm10 10l.94 2.06.94-2.06 2.06-.94-2.06-.94-.94-2.06-.94 2.06-2.06.94z\"/><path d=\"M17.41 7.96l-1.37-1.37c-.4-.4-.92-.59-1.43-.59-.52 0-1.04.2-1.43.59L10.3 9.45l-7.72 7.72c-.78.78-.78 2.05 0 2.83L4 21.41c.39.39.9.59 1.41.59.51 0 1.02-.2 1.41-.59l7.78-7.78 2.81-2.81c.8-.78.8-2.07 0-2.86zM5.41 20L4 18.59l7.72-7.72 1.47 1.35L5.41 20z\"/>\n",
       "  </svg>\n",
       "      </button>\n",
       "      \n",
       "  <style>\n",
       "    .colab-df-container {\n",
       "      display:flex;\n",
       "      flex-wrap:wrap;\n",
       "      gap: 12px;\n",
       "    }\n",
       "\n",
       "    .colab-df-convert {\n",
       "      background-color: #E8F0FE;\n",
       "      border: none;\n",
       "      border-radius: 50%;\n",
       "      cursor: pointer;\n",
       "      display: none;\n",
       "      fill: #1967D2;\n",
       "      height: 32px;\n",
       "      padding: 0 0 0 0;\n",
       "      width: 32px;\n",
       "    }\n",
       "\n",
       "    .colab-df-convert:hover {\n",
       "      background-color: #E2EBFA;\n",
       "      box-shadow: 0px 1px 2px rgba(60, 64, 67, 0.3), 0px 1px 3px 1px rgba(60, 64, 67, 0.15);\n",
       "      fill: #174EA6;\n",
       "    }\n",
       "\n",
       "    [theme=dark] .colab-df-convert {\n",
       "      background-color: #3B4455;\n",
       "      fill: #D2E3FC;\n",
       "    }\n",
       "\n",
       "    [theme=dark] .colab-df-convert:hover {\n",
       "      background-color: #434B5C;\n",
       "      box-shadow: 0px 1px 3px 1px rgba(0, 0, 0, 0.15);\n",
       "      filter: drop-shadow(0px 1px 2px rgba(0, 0, 0, 0.3));\n",
       "      fill: #FFFFFF;\n",
       "    }\n",
       "  </style>\n",
       "\n",
       "      <script>\n",
       "        const buttonEl =\n",
       "          document.querySelector('#df-46a2b00b-636c-4576-8dc3-b64d26a27981 button.colab-df-convert');\n",
       "        buttonEl.style.display =\n",
       "          google.colab.kernel.accessAllowed ? 'block' : 'none';\n",
       "\n",
       "        async function convertToInteractive(key) {\n",
       "          const element = document.querySelector('#df-46a2b00b-636c-4576-8dc3-b64d26a27981');\n",
       "          const dataTable =\n",
       "            await google.colab.kernel.invokeFunction('convertToInteractive',\n",
       "                                                     [key], {});\n",
       "          if (!dataTable) return;\n",
       "\n",
       "          const docLinkHtml = 'Like what you see? Visit the ' +\n",
       "            '<a target=\"_blank\" href=https://colab.research.google.com/notebooks/data_table.ipynb>data table notebook</a>'\n",
       "            + ' to learn more about interactive tables.';\n",
       "          element.innerHTML = '';\n",
       "          dataTable['output_type'] = 'display_data';\n",
       "          await google.colab.output.renderOutput(dataTable, element);\n",
       "          const docLink = document.createElement('div');\n",
       "          docLink.innerHTML = docLinkHtml;\n",
       "          element.appendChild(docLink);\n",
       "        }\n",
       "      </script>\n",
       "    </div>\n",
       "  </div>\n",
       "  "
      ],
      "text/plain": [
       "                w         abs_w\n",
       "450 -0.000000e+00  0.000000e+00\n",
       "233  0.000000e+00  0.000000e+00\n",
       "413  0.000000e+00  0.000000e+00\n",
       "412  0.000000e+00  0.000000e+00\n",
       "411 -0.000000e+00  0.000000e+00\n",
       "..            ...           ...\n",
       "358  1.922964e+06  1.922964e+06\n",
       "188 -2.057986e+06  2.057986e+06\n",
       "310  2.792029e+06  2.792029e+06\n",
       "339 -2.960148e+06  2.960148e+06\n",
       "327  3.095655e+06  3.095655e+06\n",
       "\n",
       "[451 rows x 2 columns]"
      ]
     },
     "execution_count": 56,
     "metadata": {},
     "output_type": "execute_result"
    }
   ],
   "source": [
    "coefs_pd = pd.DataFrame({'w' : coefs, 'abs_w' : np.abs(coefs)}) # отсортируем коэффициенты по возрастанию их модуля\n",
    "coefs_pd.sort_values(by=['abs_w'])"
   ]
  },
  {
   "cell_type": "code",
   "execution_count": 57,
   "metadata": {
    "colab": {
     "base_uri": "https://localhost:8080/"
    },
    "id": "KcHzNQmGO9k1",
    "outputId": "6ce31a64-da71-49ce-cafa-051b803adc4d"
   },
   "outputs": [
    {
     "name": "stdout",
     "output_type": "stream",
     "text": [
      "165\n"
     ]
    }
   ],
   "source": [
    "print(len(coefs_pd[coefs_pd['abs_w'] < 1])) # ненужные признаки"
   ]
  },
  {
   "cell_type": "code",
   "execution_count": 58,
   "metadata": {
    "id": "S26345R7PRKA"
   },
   "outputs": [],
   "source": [
    "idxs = coefs_pd[coefs_pd['abs_w'] < 1].index"
   ]
  },
  {
   "cell_type": "code",
   "execution_count": 59,
   "metadata": {
    "id": "dtAlX9FkPgnO"
   },
   "outputs": [],
   "source": [
    "bad_columns = X_train.columns[idxs]\n",
    "X_train_r = X_train.drop(columns=bad_columns) # reduced X_train\n",
    "X_test_r = X_test.drop(columns = bad_columns)"
   ]
  },
  {
   "cell_type": "code",
   "execution_count": 60,
   "metadata": {
    "colab": {
     "base_uri": "https://localhost:8080/"
    },
    "id": "8WZvJ6fuQYuP",
    "outputId": "c869c08b-bd4d-42d5-d6dd-aab100350444"
   },
   "outputs": [
    {
     "name": "stdout",
     "output_type": "stream",
     "text": [
      "(16000, 286)\n",
      "(4000, 286)\n"
     ]
    }
   ],
   "source": [
    "print(X_train_r.shape)\n",
    "print(X_test_r.shape)"
   ]
  },
  {
   "cell_type": "code",
   "execution_count": 61,
   "metadata": {
    "colab": {
     "base_uri": "https://localhost:8080/"
    },
    "id": "nlQY8ZbtPuzw",
    "outputId": "3d6584a4-67b5-4254-e648-40f7630e1411"
   },
   "outputs": [
    {
     "name": "stdout",
     "output_type": "stream",
     "text": [
      "Линеная регрессия: с отбором признаков 3232438.1395197045\n"
     ]
    }
   ],
   "source": [
    "lin_reg = LinearRegression()\n",
    "lin_reg.fit(X_train_r, y_train)\n",
    "y_pred = lin_reg.predict(X_test_r)\n",
    "print(f'Линеная регрессия: с отбором признаков {RMSE(y_test, y_pred)}')"
   ]
  },
  {
   "cell_type": "code",
   "execution_count": 62,
   "metadata": {
    "colab": {
     "base_uri": "https://localhost:8080/"
    },
    "id": "D3cwEn_eQgch",
    "outputId": "2ab34a10-fb38-4e4e-d15a-ea2d29634899"
   },
   "outputs": [
    {
     "name": "stdout",
     "output_type": "stream",
     "text": [
      "Дерево решений c отбором признаков: 3755930.01382082\n"
     ]
    }
   ],
   "source": [
    "clf = DecisionTreeRegressor(random_state=42)\n",
    "clf.fit(X_train_r, y_train)\n",
    "y_pred = clf.predict(X_test_r)\n",
    "print(f'Дерево решений c отбором признаков: {RMSE(y_test, y_pred)}')"
   ]
  },
  {
   "cell_type": "markdown",
   "metadata": {
    "id": "XUC7NFhw1X41"
   },
   "source": [
    "Проверьте качество на отложенной выборке."
   ]
  },
  {
   "cell_type": "markdown",
   "metadata": {
    "id": "RYQVJcmMSV51"
   },
   "source": [
    "### Подберем признаки для решающего дерева"
   ]
  },
  {
   "cell_type": "code",
   "execution_count": 63,
   "metadata": {
    "colab": {
     "base_uri": "https://localhost:8080/"
    },
    "id": "PZhlMcnHSU3n",
    "outputId": "9c2abc7c-595b-4436-c364-688bd393c6a5"
   },
   "outputs": [
    {
     "name": "stderr",
     "output_type": "stream",
     "text": [
      "100%|██████████| 25/25 [01:09<00:00,  2.78s/it]\n"
     ]
    }
   ],
   "source": [
    "depths = np.linspace(50, 400, 25, dtype=int)\n",
    "hist1 = []\n",
    "for d in tqdm(depths): # подбор параметра max_depth\n",
    "    clf = DecisionTreeRegressor(max_depth=d)\n",
    "    clf.fit(X_train_r, y_train)\n",
    "    y_pred = clf.predict(X_test_r)\n",
    "    hist1.append(RMSE(y_test, y_pred))"
   ]
  },
  {
   "cell_type": "code",
   "execution_count": 64,
   "metadata": {
    "colab": {
     "base_uri": "https://localhost:8080/",
     "height": 302
    },
    "id": "0KsRm-7ydRJ3",
    "outputId": "c1a3c1fe-daa4-4d87-fb28-9deb1519299b"
   },
   "outputs": [
    {
     "data": {
      "image/png": "[encoded data removed]",
      "text/plain": [
       "<Figure size 432x288 with 1 Axes>"
      ]
     },
     "metadata": {
      "needs_background": "light"
     },
     "output_type": "display_data"
    }
   ],
   "source": [
    "plt.plot(np.arange(len(hist1)), hist1)\n",
    "plt.xlabel('max_depth')\n",
    "plt.ylabel('RMSE')\n",
    "plt.xticks(np.arange(len(hist1)), depths, rotation=45);"
   ]
  },
  {
   "cell_type": "code",
   "execution_count": 65,
   "metadata": {
    "colab": {
     "base_uri": "https://localhost:8080/"
    },
    "id": "opj-IVhagQhr",
    "outputId": "ed042a89-fedd-45d1-9ff0-59d4bd209b64"
   },
   "outputs": [
    {
     "name": "stdout",
     "output_type": "stream",
     "text": [
      "3813002.3975572465\n",
      "122\n"
     ]
    }
   ],
   "source": [
    "idx = 5\n",
    "print(hist1[idx])\n",
    "print(depths[idx])"
   ]
  },
  {
   "cell_type": "code",
   "execution_count": 66,
   "metadata": {
    "colab": {
     "base_uri": "https://localhost:8080/"
    },
    "id": "-QtfQJKhb3-G",
    "outputId": "31b59c6b-1e3e-45a4-8b70-c3ffe77eb69c"
   },
   "outputs": [
    {
     "name": "stderr",
     "output_type": "stream",
     "text": [
      "100%|██████████| 20/20 [00:28<00:00,  1.44s/it]\n"
     ]
    }
   ],
   "source": [
    "leafs = np.linspace(10, 100, 20, dtype=int)\n",
    "hist2 = []\n",
    "for leaf in tqdm(leafs): # подбор параметра min_samples_leaf\n",
    "    clf = DecisionTreeRegressor(min_samples_leaf=leaf)\n",
    "    clf.fit(X_train_r, y_train)\n",
    "    y_pred = clf.predict(X_test_r)\n",
    "    hist2.append(RMSE(y_test, y_pred))"
   ]
  },
  {
   "cell_type": "code",
   "execution_count": 67,
   "metadata": {
    "colab": {
     "base_uri": "https://localhost:8080/",
     "height": 302
    },
    "id": "O_LCiQIN1bzD",
    "outputId": "42482edb-8f88-43ef-b1de-cfca8ed66e10"
   },
   "outputs": [
    {
     "data": {
      "image/png": "[encoded data removed]",
      "text/plain": [
       "<Figure size 432x288 with 1 Axes>"
      ]
     },
     "metadata": {
      "needs_background": "light"
     },
     "output_type": "display_data"
    }
   ],
   "source": [
    "plt.plot(np.arange(len(leafs)), hist2)\n",
    "plt.xlabel('min_samples_leaf')\n",
    "plt.ylabel('RMSE')\n",
    "plt.xticks(np.arange(len(hist2)), leafs, rotation=45);"
   ]
  },
  {
   "cell_type": "code",
   "execution_count": 68,
   "metadata": {
    "colab": {
     "base_uri": "https://localhost:8080/"
    },
    "id": "IVoK_uSt48ne",
    "outputId": "6c576777-72d7-4e7f-8bdc-552c13c76687"
   },
   "outputs": [
    {
     "name": "stdout",
     "output_type": "stream",
     "text": [
      "2971821.3080791165\n",
      "76\n"
     ]
    }
   ],
   "source": [
    "idx = np.argmin(hist2)\n",
    "print(hist2[idx])\n",
    "print(leafs[idx])"
   ]
  },
  {
   "cell_type": "code",
   "execution_count": 69,
   "metadata": {
    "colab": {
     "base_uri": "https://localhost:8080/"
    },
    "id": "-7HtZfoXgmOd",
    "outputId": "517129e8-475d-4b85-dc23-88ecb6e49e01"
   },
   "outputs": [
    {
     "name": "stdout",
     "output_type": "stream",
     "text": [
      "2971821.3080791165\n"
     ]
    }
   ],
   "source": [
    "clf = DecisionTreeRegressor(max_depth=79, min_samples_leaf=76)\n",
    "clf.fit(X_train_r, y_train)\n",
    "y_pred = clf.predict(X_test_r)\n",
    "print(RMSE(y_test, y_pred))"
   ]
  },
  {
   "cell_type": "markdown",
   "metadata": {
    "id": "3bezBBI7u_oF"
   },
   "source": [
    "### Feature Engineering (2 балла)\n",
    "\n",
    "Часто улучшить модель можно с помощью аккуратного Feature Engineering.\n",
    "\n",
    "Добавим в модель дополнительные признаки:\n",
    "* \"Как часто в этот год и этот месяц появлились объявления\"\n",
    "* \"Как часто в этот год и эту неделю появлялись объявления\""
   ]
  },
  {
   "cell_type": "code",
   "execution_count": 70,
   "metadata": {
    "id": "_cJ6SBqUKC4C"
   },
   "outputs": [],
   "source": [
    "month_year = (df.timestamp.dt.month + df.timestamp.dt.year * 100) # хешируем год + месяц\n",
    "month_year_cnt_map = month_year.value_counts().to_dict()\n",
    "df[\"month_year_cnt\"] = month_year.map(month_year_cnt_map)\n",
    "\n",
    "week_year = (df.timestamp.dt.weekofyear + df.timestamp.dt.year * 100)\n",
    "week_year_cnt_map = week_year.value_counts().to_dict()\n",
    "df[\"week_year_cnt\"] = week_year.map(week_year_cnt_map)"
   ]
  },
  {
   "cell_type": "markdown",
   "metadata": {
    "id": "pCajk45_KDSz"
   },
   "source": [
    "Добавьте следюущие дополнительные признаки:\n",
    "* Месяц (из колонки `timestamp`)\n",
    "* День недели (из колонки `timestamp`)\n",
    "* Отношение \"этаж / максимальный этаж в здании\" (колонки `floor` и `max_floor`)\n",
    "* Отношение \"площадь кухни / площадь квартиры\" (колонки `kitch_sq` и `full_sq`)\n",
    "\n",
    "По желанию можно добавить и другие признаки."
   ]
  },
  {
   "cell_type": "code",
   "execution_count": 71,
   "metadata": {
    "id": "dXZkoUL8Kve6"
   },
   "outputs": [],
   "source": [
    "df['month'] = df.timestamp.dt.month\n",
    "df['weekday'] = df.timestamp.dt.weekday\n",
    "df['height%'] = df['floor'] / df['max_floor']\n",
    "df['kitchen%'] = df['kitch_sq'] / df['full_sq']"
   ]
  },
  {
   "cell_type": "code",
   "execution_count": 72,
   "metadata": {
    "colab": {
     "base_uri": "https://localhost:8080/"
    },
    "id": "k0pINe4mmp6B",
    "outputId": "b2b17bf1-68be-4e2a-c788-51ca364f9a05"
   },
   "outputs": [
    {
     "data": {
      "text/plain": [
       "month_year_cnt       0\n",
       "week_year_cnt        0\n",
       "month                0\n",
       "weekday              0\n",
       "height%           6305\n",
       "kitchen%          6304\n",
       "dtype: int64"
      ]
     },
     "execution_count": 72,
     "metadata": {},
     "output_type": "execute_result"
    }
   ],
   "source": [
    "feature_cols = ['month_year_cnt', 'week_year_cnt', 'month', 'weekday', 'height%', 'kitchen%']\n",
    "df[feature_cols].isna().sum()"
   ]
  },
  {
   "cell_type": "code",
   "execution_count": 73,
   "metadata": {
    "colab": {
     "base_uri": "https://localhost:8080/"
    },
    "id": "v526fe7opU-n",
    "outputId": "7ae6cf35-81e9-4dd8-ff58-0ef37c970622"
   },
   "outputs": [
    {
     "data": {
      "text/plain": [
       "Int64Index([ 5894,  3728,  8958,  7671,  5999,  5751,  1688,  6836,  6536,\n",
       "             4842,\n",
       "            ...\n",
       "            11363, 14423,  4426, 16850,  6265, 11284, 11964,  5390,   860,\n",
       "            15795],\n",
       "           dtype='int64', length=16000)"
      ]
     },
     "execution_count": 73,
     "metadata": {},
     "output_type": "execute_result"
    }
   ],
   "source": [
    "X_train_r.index"
   ]
  },
  {
   "cell_type": "markdown",
   "metadata": {
    "id": "_-jCowvWLiXZ"
   },
   "source": [
    "Разделите выборку на обучающую и тестовую еще раз (потому что дополнительные признаки созданы для исходной выборки)."
   ]
  },
  {
   "cell_type": "code",
   "execution_count": 74,
   "metadata": {
    "id": "H1uBRfAvsFf2"
   },
   "outputs": [],
   "source": [
    "eps = 1e-5"
   ]
  },
  {
   "cell_type": "code",
   "execution_count": 75,
   "metadata": {
    "id": "NfY6r1TesfaK"
   },
   "outputs": [],
   "source": [
    "X_train_r['max_floor'] += eps # чтобы не делить на нули\n",
    "X_train_r['full_sq'] += eps\n",
    "X_test_r['max_floor'] += eps\n",
    "X_test_r['full_sq'] += eps"
   ]
  },
  {
   "cell_type": "code",
   "execution_count": 76,
   "metadata": {
    "id": "0f-vO3LcLhdf"
   },
   "outputs": [],
   "source": [
    "X_train_r['height%'] = np.clip(X_train_r['floor'] / X_train_r['max_floor'], 0, 1) # преобразуем трейн и тест отдельно, чтобы не было мемори ликов\n",
    "X_train_r['kitchen%'] = np.clip(X_train_r['kitch_sq'] / X_train_r['full_sq'], 0, 1)\n",
    "X_train_r['month'] = df.loc[X_train_r.index]['month']\n",
    "X_train_r['weekday'] = df.loc[X_train_r.index]['weekday']\n",
    "\n",
    "X_test_r['height%'] = np.clip(X_test_r['floor'] / X_test_r['max_floor'], 0, 1)\n",
    "X_test_r['kitchen%'] = np.clip(X_test_r['kitch_sq'] / X_test_r['full_sq'], 0, 1)\n",
    "X_test_r['month'] = df.loc[X_test_r.index]['month']\n",
    "X_test_r['weekday'] = df.loc[X_test_r.index]['weekday']"
   ]
  },
  {
   "cell_type": "markdown",
   "metadata": {
    "id": "CPtzkpFEvBw9"
   },
   "source": [
    "### Model Selection (3 балла)\n",
    "\n",
    "Посмотрите, какого качества можно добиться если использовать разные модели:\n",
    "* `DecisionTreeRegressor` из `sklearn`\n",
    "* `RandomForestRegressor` из `sklearn`\n",
    "* `CatBoostRegressor`\n",
    "\n",
    "Также вы можете попробовать линейные модели, другие бустинги (`LigthGBM` и `XGBoost`).\n",
    "\n",
    "Почти все библиотеки поддерживают удобный способ подбора гиперпараметров: посмотрите как это делать в [sklearn](https://scikit-learn.org/stable/modules/generated/sklearn.model_selection.GridSearchCV.html) или в [catboost](https://catboost.ai/docs/concepts/python-reference_catboostregressor_grid_search.html).\n",
    "\n",
    "Проверяйте качество каждой модели на тестовой выборке и выберите наилучшую."
   ]
  },
  {
   "cell_type": "code",
   "execution_count": 77,
   "metadata": {
    "colab": {
     "base_uri": "https://localhost:8080/"
    },
    "id": "PZstXx6uNRfE",
    "outputId": "d31588ac-93c4-450f-d48b-1f449d753797"
   },
   "outputs": [
    {
     "name": "stdout",
     "output_type": "stream",
     "text": [
      "Линеная регрессия: с отбором признаков и feature инжинирингом 3229098.0433697538\n"
     ]
    }
   ],
   "source": [
    "lin_reg = LinearRegression() # Линейная регрессия\n",
    "lin_reg.fit(X_train_r, y_train)\n",
    "y_pred = lin_reg.predict(X_test_r)\n",
    "print(f'Линеная регрессия: с отбором признаков и feature инжинирингом {RMSE(y_test, y_pred)}') # стало чуть лучше"
   ]
  },
  {
   "cell_type": "code",
   "execution_count": 78,
   "metadata": {
    "colab": {
     "base_uri": "https://localhost:8080/"
    },
    "id": "S2M-6QztuCec",
    "outputId": "c8f4bdea-43d7-4eb2-8011-948fcb936b73"
   },
   "outputs": [
    {
     "name": "stdout",
     "output_type": "stream",
     "text": [
      "Дерево решений c отбором признаков и feature инжинирингом: 2976903.9330579336\n"
     ]
    }
   ],
   "source": [
    "clf = DecisionTreeRegressor(min_samples_leaf=76) # Дерево решений\n",
    "clf.fit(X_train_r, y_train)\n",
    "y_pred = clf.predict(X_test_r)\n",
    "print(f'Дерево решений c отбором признаков и feature инжинирингом: {RMSE(y_test, y_pred)}')"
   ]
  },
  {
   "cell_type": "code",
   "execution_count": 79,
   "metadata": {
    "colab": {
     "base_uri": "https://localhost:8080/"
    },
    "id": "OWBp9RHCHTdC",
    "outputId": "cf9bc3ae-6c76-4935-da4f-2e21bdf50d59"
   },
   "outputs": [
    {
     "name": "stdout",
     "output_type": "stream",
     "text": [
      " Случайный лес с отбором признаков и feature инжиннирингом: 2622298.2445838535\n"
     ]
    }
   ],
   "source": [
    "clf = RandomForestRegressor(n_estimators=100, max_features = X_train.shape[1]//3, max_samples=0.5)\n",
    "clf.fit(X_train_r, y_train)\n",
    "y_pred = clf.predict(X_test_r)\n",
    "print(f' Случайный лес с отбором признаков и feature инжиннирингом: {RMSE(y_test, y_pred)}')"
   ]
  },
  {
   "cell_type": "code",
   "execution_count": 82,
   "metadata": {
    "colab": {
     "base_uri": "https://localhost:8080/"
    },
    "id": "UW9VPZ8HhdOa",
    "outputId": "fb642690-33d6-48cf-c75a-8074a266e37e"
   },
   "outputs": [
    {
     "name": "stdout",
     "output_type": "stream",
     "text": [
      "Градиентный бустинг с отбором признаков и feature инжиннирингом: 2528349.0040742285\n"
     ]
    }
   ],
   "source": [
    "cat = CatBoostRegressor(verbose=0, n_estimators = 500)\n",
    "cat.fit(X_train_r, y_train)\n",
    "y_pred = cat.predict(X_test_r)\n",
    "print(f'Градиентный бустинг с отбором признаков и feature инжиннирингом: {RMSE(y_test, y_pred)}')"
   ]
  },
  {
   "cell_type": "code",
   "execution_count": 86,
   "metadata": {
    "colab": {
     "base_uri": "https://localhost:8080/"
    },
    "id": "HhF3LyJZNO04",
    "outputId": "78496429-ffc2-4737-cd21-8629842d6032"
   },
   "outputs": [
    {
     "name": "stdout",
     "output_type": "stream",
     "text": [
      "Другой градиентный бустинг с отбором признаков и feature инжиннирингом: 2659004.717902067\n"
     ]
    }
   ],
   "source": [
    "xgb = xgboost.XGBRegressor(n_estimators = 500, objective ='reg:squarederror')\n",
    "xgb.fit(X_train_r, y_train)\n",
    "y_pred = xgb.predict(X_test_r)\n",
    "print(f'Другой градиентный бустинг с отбором признаков и feature инжиннирингом: {RMSE(y_test, y_pred)}')"
   ]
  },
  {
   "cell_type": "code",
   "execution_count": 96,
   "metadata": {
    "colab": {
     "base_uri": "https://localhost:8080/"
    },
    "id": "CPQL5ndKNPfZ",
    "outputId": "6e64a2bb-ce21-4c37-ce40-3fab284bb7c2"
   },
   "outputs": [
    {
     "name": "stdout",
     "output_type": "stream",
     "text": [
      "lightGBM градиентный бустинг с отбором признаков и feature инжиннирингом: 2601250.7611257746\n"
     ]
    }
   ],
   "source": [
    "lgbm = lightgbm.LGBMRegressor(n_estimators=500)\n",
    "lgbm.fit(X_train_r, y_train)\n",
    "y_pred = lgbm.predict(X_test_r)\n",
    "print(f'lightGBM градиентный бустинг с отбором признаков и feature инжиннирингом: {RMSE(y_test, y_pred)}')"
   ]
  },
  {
   "cell_type": "markdown",
   "metadata": {
    "id": "JxQnozbtvD6x"
   },
   "source": [
    "### Ensemble v.1 (3 балла)\n",
    "\n",
    "Ансамбли иногда оказываются лучше чем одна большая модель.\n",
    "\n",
    "В колонке `product_type` содержится информация о том, каким является объявление: `Investment` (продажа квартиры как инвестиции) или `OwnerOccupier` (продажа квартиры для жилья). Логично предположить, что если сделать по модели на каждый из этих типов, то качество будет выше.\n",
    "\n",
    "Обучите свои лучшие модели на отдельно на `Investment` и `OwnerOccupier` (т.е. у вас будет `model_invest`, обученная на `(invest_train_X, invest_train_Y)` и `model_owner`, обученная на `(owner_train_X, owner_train_Y)`) и проверьте качество на отложенной выборке (т.е. на исходном `test_split`)."
   ]
  },
  {
   "cell_type": "code",
   "execution_count": 102,
   "metadata": {
    "colab": {
     "base_uri": "https://localhost:8080/"
    },
    "id": "HeJOCYa-O_VE",
    "outputId": "24d8a795-d9c2-435d-9622-126a7d138528"
   },
   "outputs": [
    {
     "name": "stdout",
     "output_type": "stream",
     "text": [
      "Index(['product_type_Investment'], dtype='object')\n"
     ]
    }
   ],
   "source": [
    "mask = np.char.startswith(list(X_train_r.columns),'product_type')\n",
    "print(X_train_r.columns[mask])"
   ]
  },
  {
   "cell_type": "code",
   "execution_count": 124,
   "metadata": {
    "id": "Y1LJ1EjyA0JW"
   },
   "outputs": [],
   "source": [
    "X_train_inv = X_train_r[X_train_r['product_type_Investment'] == 1] # разделение всех выборок\n",
    "y_train_inv = y_train.loc[X_train_inv.index]\n",
    "X_train_own = X_train_r[X_train_r['product_type_Investment'] == 0]\n",
    "y_train_own = y_train.loc[X_train_own.index]\n",
    "\n",
    "X_test_inv = X_test_r[X_test_r['product_type_Investment'] == 1]\n",
    "X_test_own = X_test_r[X_test_r['product_type_Investment'] == 0]"
   ]
  },
  {
   "cell_type": "code",
   "execution_count": 125,
   "metadata": {
    "colab": {
     "base_uri": "https://localhost:8080/"
    },
    "id": "MyfXoknvEZoi",
    "outputId": "4f49ca29-9e2b-4e1d-ab5e-0da84bacf42b"
   },
   "outputs": [
    {
     "data": {
      "text/plain": [
       "<catboost.core.CatBoostRegressor at 0x7fcb4de26150>"
      ]
     },
     "execution_count": 125,
     "metadata": {},
     "output_type": "execute_result"
    }
   ],
   "source": [
    "cat_inv = CatBoostRegressor(verbose=0, n_estimators = 500) # оубучение моделей\n",
    "cat_inv.fit(X_train_inv, y_train_inv)\n",
    "cat_own = CatBoostRegressor(verbose=0, n_estimators = 500)\n",
    "cat_own.fit(X_train_own, y_train_own)"
   ]
  },
  {
   "cell_type": "code",
   "execution_count": 136,
   "metadata": {
    "id": "pRy4xAWTHUtO"
   },
   "outputs": [],
   "source": [
    "y_inv_idxs = np.where(X_test_r['product_type_Investment'] == 1) # индексы\n",
    "y_own_idxs = np.where(X_test_r['product_type_Investment'] == 0)"
   ]
  },
  {
   "cell_type": "code",
   "execution_count": 137,
   "metadata": {
    "id": "uncwUKY6GSEj"
   },
   "outputs": [],
   "source": [
    "y_inv = cat_inv.predict(X_test_inv)  # ответы для индексов\n",
    "y_own = cat_own.predict(X_test_own)"
   ]
  },
  {
   "cell_type": "code",
   "execution_count": 142,
   "metadata": {
    "id": "uuLrxRPFGfNt"
   },
   "outputs": [],
   "source": [
    "y_pred = np.zeros_like(y_test) # единый массив ответов\n",
    "y_pred[y_inv_idxs] = y_inv\n",
    "y_pred[y_own_idxs] = y_own"
   ]
  },
  {
   "cell_type": "code",
   "execution_count": 143,
   "metadata": {
    "colab": {
     "base_uri": "https://localhost:8080/"
    },
    "id": "XGwAWdGKON_6",
    "outputId": "da2c8469-576c-40c3-e229-c730dd546241"
   },
   "outputs": [
    {
     "name": "stdout",
     "output_type": "stream",
     "text": [
      "Ансамбль из двух catboost для разных типов жилья RMSE = 2491412.515572773\n"
     ]
    }
   ],
   "source": [
    "print(f'Ансамбль из двух catboost для разных типов жилья RMSE = {RMSE(y_test, y_pred)}')"
   ]
  },
  {
   "cell_type": "code",
   "execution_count": 148,
   "metadata": {
    "colab": {
     "base_uri": "https://localhost:8080/"
    },
    "id": "WWVSzLs5Ovm1",
    "outputId": "61feb42d-1895-4081-e493-c4977d69ec7e"
   },
   "outputs": [
    {
     "name": "stdout",
     "output_type": "stream",
     "text": [
      "средняя абсолютная ошибка: 1392836.81275\n",
      "средняя цена: 7140915.0145\n"
     ]
    }
   ],
   "source": [
    "print(f'средняя абсолютная ошибка: {mean_absolute_error(y_test, y_pred)}')\n",
    "print(f'средняя цена: {np.mean(y_test)}')"
   ]
  },
  {
   "cell_type": "markdown",
   "metadata": {
    "id": "J8t-klaK2A6s"
   },
   "source": [
    "### (*) Ensemble v.2 (дополнительно, 2 балла)\n",
    "\n",
    "Попробуйте сделать для `Investment` более сложную модель: обучите `CatBoostRegressor` и `HuberRegressor` из `sklearn`, а затем сложите их предсказания с весами `w_1` и `w_2` (выберите веса сами; сумма весов равняется 1)."
   ]
  },
  {
   "cell_type": "code",
   "execution_count": 153,
   "metadata": {
    "id": "G47BhnjoQeYl"
   },
   "outputs": [],
   "source": [
    "y_inv_test = np.array(y_test)[y_inv_idxs] # истинные ответы для двух типов жилья\n",
    "y_own_test = np.array(y_test)[y_own_idxs]"
   ]
  },
  {
   "cell_type": "code",
   "execution_count": 154,
   "metadata": {
    "colab": {
     "base_uri": "https://localhost:8080/"
    },
    "id": "JOKD-l8HuOgM",
    "outputId": "f7627d04-68ce-4cc0-a38f-2b8de0ba3113"
   },
   "outputs": [
    {
     "name": "stdout",
     "output_type": "stream",
     "text": [
      "Investment предсказания RMSE = 2986175.0463391463\n",
      "Owner предсказания RMSE = 1091165.1002023178\n"
     ]
    }
   ],
   "source": [
    "print(f'Investment предсказания RMSE = {RMSE(y_inv_test, y_inv)}')\n",
    "print(f'Owner предсказания RMSE = {RMSE(y_own_test, y_own)}')"
   ]
  },
  {
   "cell_type": "code",
   "execution_count": 157,
   "metadata": {
    "colab": {
     "base_uri": "https://localhost:8080/"
    },
    "id": "TPyQx8ZjQyvd",
    "outputId": "24d56025-5845-4cb7-f78b-ba9a808ff339"
   },
   "outputs": [
    {
     "name": "stderr",
     "output_type": "stream",
     "text": [
      "Custom logger is already specified. Specify more than one logger at same time is not thread safe."
     ]
    }
   ],
   "source": [
    "cat = CatBoostRegressor(n_estimators=500, verbose=0)\n",
    "cat.fit(X_train_inv, y_train_inv)\n",
    "y_inv_cat = cat.predict(X_test_inv)"
   ]
  },
  {
   "cell_type": "code",
   "execution_count": 170,
   "metadata": {
    "id": "FlzM-4JQReF8"
   },
   "outputs": [],
   "source": [
    "hub_reg = HuberRegressor()\n",
    "hub_reg.fit(X_train_inv, y_train_inv)\n",
    "y_inv_hub = hub_reg.predict(X_test_inv)"
   ]
  },
  {
   "cell_type": "code",
   "execution_count": 171,
   "metadata": {
    "colab": {
     "base_uri": "https://localhost:8080/"
    },
    "id": "XRmHOJifR0nw",
    "outputId": "f3f90994-a40b-4d25-d985-998a0795179e"
   },
   "outputs": [
    {
     "name": "stdout",
     "output_type": "stream",
     "text": [
      "4865521.848348602\n"
     ]
    }
   ],
   "source": [
    "print(RMSE(y_inv_test, y_inv_hub))"
   ]
  },
  {
   "cell_type": "code",
   "execution_count": 178,
   "metadata": {
    "colab": {
     "base_uri": "https://localhost:8080/"
    },
    "id": "TlDVsI9LSW3S",
    "outputId": "2bd6f0c2-b261-450b-eccc-23d11c0dbb9b"
   },
   "outputs": [
    {
     "name": "stderr",
     "output_type": "stream",
     "text": [
      "100%|██████████| 100/100 [00:00<00:00, 1673.12it/s]\n"
     ]
    }
   ],
   "source": [
    "ws = np.linspace(0, 1, 100)\n",
    "h = []\n",
    "for w in tqdm(ws):\n",
    "    y_pred = y_inv_cat * w + y_inv_hub * (1 - w)\n",
    "    h.append(RMSE(y_inv_test, y_pred))"
   ]
  },
  {
   "cell_type": "code",
   "execution_count": 182,
   "metadata": {
    "colab": {
     "base_uri": "https://localhost:8080/",
     "height": 308
    },
    "id": "ftZ9B9DtTKX5",
    "outputId": "7dc322d8-9da8-45b5-9139-97fe4194bca8"
   },
   "outputs": [
    {
     "data": {
      "text/plain": [
       "Text(0, 0.5, 'RMSE')"
      ]
     },
     "execution_count": 182,
     "metadata": {},
     "output_type": "execute_result"
    },
    {
     "data": {
      "image/png": "[encoded data removed]",
      "text/plain": [
       "<Figure size 432x288 with 1 Axes>"
      ]
     },
     "metadata": {
      "needs_background": "light"
     },
     "output_type": "display_data"
    }
   ],
   "source": [
    "plt.plot(ws, h)\n",
    "plt.xlabel('weight of CatBoost')\n",
    "plt.ylabel('RMSE')"
   ]
  },
  {
   "cell_type": "markdown",
   "metadata": {
    "id": "xvbkoCdaUCMC"
   },
   "source": [
    "Более сложная модель, не стала лучше, чем просто catboost"
   ]
  },
  {
   "cell_type": "markdown",
   "metadata": {
    "id": "QD51FMvAUKoY"
   },
   "source": [
    "### Выводы:\n",
    "Лучший скор дал ансамбль из двух catboost отдельно для двух типов объявлений: \n",
    "`Investment` и `OwnerOccupier`. Также мы произвели отбор признаков с помощью L1 линейной регрессии, очистили данные от пропусков с помощью техники KFold, и покрафтили фичи.\n",
    "\n",
    "**Итоговый RMSE = 2491412.5**"
   ]
  }
 ],
 "metadata": {
  "colab": {
   "collapsed_sections": [],
   "name": "Копия_блокнота__Task_ipynb_.ipynb",
   "provenance": []
  },
  "kernelspec": {
   "display_name": "Python 3 (ipykernel)",
   "language": "python",
   "name": "python3"
  },
  "language_info": {
   "codemirror_mode": {
    "name": "ipython",
    "version": 3
   },
   "file_extension": ".py",
   "mimetype": "text/x-python",
   "name": "python",
   "nbconvert_exporter": "python",
   "pygments_lexer": "ipython3",
   "version": "3.8.10"
  }
 },
 "nbformat": 4,
 "nbformat_minor": 1
}
