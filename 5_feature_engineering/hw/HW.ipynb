{
 "cells": [
  {
   "cell_type": "code",
   "execution_count": 329,
   "id": "859706be",
   "metadata": {},
   "outputs": [],
   "source": [
    "# Data\n",
    "import numpy as np\n",
    "import pandas as pd\n",
    "import matplotlib.pyplot as plt\n",
    "import seaborn as sns\n",
    "sns.set_theme(style=\"darkgrid\")\n",
    "import warnings\n",
    "warnings.filterwarnings(\"ignore\")\n",
    "import plotly\n",
    "import plotly.graph_objs as go\n",
    "from collections import Counter\n",
    "from tqdm import tqdm\n",
    "\n",
    "# ML\n",
    "from sklearn.preprocessing import StandardScaler\n",
    "from sklearn.preprocessing import MinMaxScaler\n",
    "from sklearn.model_selection import cross_val_score\n",
    "from sklearn.linear_model import LogisticRegression\n",
    "from sklearn.neighbors import KNeighborsClassifier\n",
    "from sklearn.model_selection import GridSearchCV\n",
    "from sklearn.preprocessing import PolynomialFeatures\n",
    "from sklearn.feature_selection import SelectKBest, f_classif\n",
    "from mlxtend.feature_selection import SequentialFeatureSelector"
   ]
  },
  {
   "cell_type": "markdown",
   "id": "c4085fd6",
   "metadata": {},
   "source": [
    "###  Просмотр данных"
   ]
  },
  {
   "cell_type": "code",
   "execution_count": 330,
   "id": "8d22c048",
   "metadata": {},
   "outputs": [],
   "source": [
    "df = pd.read_csv('train-2.csv') # считываем данные"
   ]
  },
  {
   "cell_type": "code",
   "execution_count": 331,
   "id": "21ea2bda",
   "metadata": {
    "scrolled": false
   },
   "outputs": [
    {
     "data": {
      "text/html": [
       "<div>\n",
       "<style scoped>\n",
       "    .dataframe tbody tr th:only-of-type {\n",
       "        vertical-align: middle;\n",
       "    }\n",
       "\n",
       "    .dataframe tbody tr th {\n",
       "        vertical-align: top;\n",
       "    }\n",
       "\n",
       "    .dataframe thead th {\n",
       "        text-align: right;\n",
       "    }\n",
       "</style>\n",
       "<table border=\"1\" class=\"dataframe\">\n",
       "  <thead>\n",
       "    <tr style=\"text-align: right;\">\n",
       "      <th></th>\n",
       "      <th>Id</th>\n",
       "      <th>bathrooms</th>\n",
       "      <th>bedrooms</th>\n",
       "      <th>building_id</th>\n",
       "      <th>created</th>\n",
       "      <th>description</th>\n",
       "      <th>display_address</th>\n",
       "      <th>features</th>\n",
       "      <th>latitude</th>\n",
       "      <th>listing_id</th>\n",
       "      <th>longitude</th>\n",
       "      <th>manager_id</th>\n",
       "      <th>photos</th>\n",
       "      <th>price</th>\n",
       "      <th>street_address</th>\n",
       "      <th>TARGET</th>\n",
       "    </tr>\n",
       "  </thead>\n",
       "  <tbody>\n",
       "    <tr>\n",
       "      <th>0</th>\n",
       "      <td>57094</td>\n",
       "      <td>1.0</td>\n",
       "      <td>3</td>\n",
       "      <td>0</td>\n",
       "      <td>2016-05-19 18:06:27</td>\n",
       "      <td>A FABULOUS 3BR IN MIDTOWN WEST!   PERFECT APAR...</td>\n",
       "      <td>HOW AMAZING IS THIS MIDTOWN WEST STEAL!! NO FE...</td>\n",
       "      <td>['Laundry In Unit', 'No Fee', 'Elevator']</td>\n",
       "      <td>40.7647</td>\n",
       "      <td>7039994</td>\n",
       "      <td>-73.9918</td>\n",
       "      <td>4bdc3d8c1aaa90d997ce2cb77680679b</td>\n",
       "      <td>['https://photos.renthop.com/2/7039994_07be01b...</td>\n",
       "      <td>4495</td>\n",
       "      <td>W 50 &amp; AVE 10</td>\n",
       "      <td>medium</td>\n",
       "    </tr>\n",
       "    <tr>\n",
       "      <th>1</th>\n",
       "      <td>33389</td>\n",
       "      <td>1.0</td>\n",
       "      <td>1</td>\n",
       "      <td>9225efdfb57a50bf3ec17ebab082f94a</td>\n",
       "      <td>2016-06-16 02:01:49</td>\n",
       "      <td>Renovated Kitchen and Bathroom!</td>\n",
       "      <td>55 River Drive South</td>\n",
       "      <td>['Dogs Allowed', 'Cats Allowed', 'No Fee']</td>\n",
       "      <td>40.7275</td>\n",
       "      <td>7166774</td>\n",
       "      <td>-74.0322</td>\n",
       "      <td>e5808a5e6cc13988fe596704428d38d5</td>\n",
       "      <td>['https://photos.renthop.com/2/7166774_03cf63a...</td>\n",
       "      <td>2570</td>\n",
       "      <td>55 River Drive South</td>\n",
       "      <td>medium</td>\n",
       "    </tr>\n",
       "    <tr>\n",
       "      <th>2</th>\n",
       "      <td>60458</td>\n",
       "      <td>1.0</td>\n",
       "      <td>0</td>\n",
       "      <td>320de7d3cc88e50a7fbbcfde1e825d21</td>\n",
       "      <td>2016-05-04 02:42:50</td>\n",
       "      <td>RARE AND BEST DEAL ON THE MARKET!!!! PERFECT S...</td>\n",
       "      <td>W 77 Street</td>\n",
       "      <td>['Elevator', 'Hardwood Floors']</td>\n",
       "      <td>40.7798</td>\n",
       "      <td>6962716</td>\n",
       "      <td>-73.9751</td>\n",
       "      <td>d69d4e111612dd12ef864031c1148543</td>\n",
       "      <td>['https://photos.renthop.com/2/6962716_ec7f56f...</td>\n",
       "      <td>1795</td>\n",
       "      <td>22 W 77 Street</td>\n",
       "      <td>low</td>\n",
       "    </tr>\n",
       "    <tr>\n",
       "      <th>3</th>\n",
       "      <td>53048</td>\n",
       "      <td>1.0</td>\n",
       "      <td>2</td>\n",
       "      <td>ce6d18bf3238e668b2bf23f4110b7b67</td>\n",
       "      <td>2016-05-12 05:57:56</td>\n",
       "      <td>Newly renovated flex 2 apartment offers the ne...</td>\n",
       "      <td>John Street</td>\n",
       "      <td>['Swimming Pool', 'Doorman', 'Elevator', 'Fitn...</td>\n",
       "      <td>40.7081</td>\n",
       "      <td>7002458</td>\n",
       "      <td>-74.0065</td>\n",
       "      <td>e6472c7237327dd3903b3d6f6a94515a</td>\n",
       "      <td>['https://photos.renthop.com/2/7002458_93f4010...</td>\n",
       "      <td>3400</td>\n",
       "      <td>100 John Street</td>\n",
       "      <td>low</td>\n",
       "    </tr>\n",
       "    <tr>\n",
       "      <th>4</th>\n",
       "      <td>592</td>\n",
       "      <td>1.0</td>\n",
       "      <td>3</td>\n",
       "      <td>fee4d465932160318364d9d48d272879</td>\n",
       "      <td>2016-06-16 06:06:15</td>\n",
       "      <td>LOW FEE apartments do not come around like thi...</td>\n",
       "      <td>West 16th Street</td>\n",
       "      <td>['Laundry in Building', 'Laundry in Unit', 'Di...</td>\n",
       "      <td>40.7416</td>\n",
       "      <td>7170465</td>\n",
       "      <td>-74.0025</td>\n",
       "      <td>6fba9b3a8327c607b8b043716efee684</td>\n",
       "      <td>['https://photos.renthop.com/2/7170465_9c3f173...</td>\n",
       "      <td>5695</td>\n",
       "      <td>321 West 16th Street</td>\n",
       "      <td>low</td>\n",
       "    </tr>\n",
       "  </tbody>\n",
       "</table>\n",
       "</div>"
      ],
      "text/plain": [
       "      Id  bathrooms  bedrooms                       building_id  \\\n",
       "0  57094        1.0         3                                 0   \n",
       "1  33389        1.0         1  9225efdfb57a50bf3ec17ebab082f94a   \n",
       "2  60458        1.0         0  320de7d3cc88e50a7fbbcfde1e825d21   \n",
       "3  53048        1.0         2  ce6d18bf3238e668b2bf23f4110b7b67   \n",
       "4    592        1.0         3  fee4d465932160318364d9d48d272879   \n",
       "\n",
       "               created                                        description  \\\n",
       "0  2016-05-19 18:06:27  A FABULOUS 3BR IN MIDTOWN WEST!   PERFECT APAR...   \n",
       "1  2016-06-16 02:01:49                    Renovated Kitchen and Bathroom!   \n",
       "2  2016-05-04 02:42:50  RARE AND BEST DEAL ON THE MARKET!!!! PERFECT S...   \n",
       "3  2016-05-12 05:57:56  Newly renovated flex 2 apartment offers the ne...   \n",
       "4  2016-06-16 06:06:15  LOW FEE apartments do not come around like thi...   \n",
       "\n",
       "                                     display_address  \\\n",
       "0  HOW AMAZING IS THIS MIDTOWN WEST STEAL!! NO FE...   \n",
       "1                               55 River Drive South   \n",
       "2                                        W 77 Street   \n",
       "3                                        John Street   \n",
       "4                                   West 16th Street   \n",
       "\n",
       "                                            features  latitude  listing_id  \\\n",
       "0          ['Laundry In Unit', 'No Fee', 'Elevator']   40.7647     7039994   \n",
       "1         ['Dogs Allowed', 'Cats Allowed', 'No Fee']   40.7275     7166774   \n",
       "2                    ['Elevator', 'Hardwood Floors']   40.7798     6962716   \n",
       "3  ['Swimming Pool', 'Doorman', 'Elevator', 'Fitn...   40.7081     7002458   \n",
       "4  ['Laundry in Building', 'Laundry in Unit', 'Di...   40.7416     7170465   \n",
       "\n",
       "   longitude                        manager_id  \\\n",
       "0   -73.9918  4bdc3d8c1aaa90d997ce2cb77680679b   \n",
       "1   -74.0322  e5808a5e6cc13988fe596704428d38d5   \n",
       "2   -73.9751  d69d4e111612dd12ef864031c1148543   \n",
       "3   -74.0065  e6472c7237327dd3903b3d6f6a94515a   \n",
       "4   -74.0025  6fba9b3a8327c607b8b043716efee684   \n",
       "\n",
       "                                              photos  price  \\\n",
       "0  ['https://photos.renthop.com/2/7039994_07be01b...   4495   \n",
       "1  ['https://photos.renthop.com/2/7166774_03cf63a...   2570   \n",
       "2  ['https://photos.renthop.com/2/6962716_ec7f56f...   1795   \n",
       "3  ['https://photos.renthop.com/2/7002458_93f4010...   3400   \n",
       "4  ['https://photos.renthop.com/2/7170465_9c3f173...   5695   \n",
       "\n",
       "         street_address  TARGET  \n",
       "0         W 50 & AVE 10  medium  \n",
       "1  55 River Drive South  medium  \n",
       "2        22 W 77 Street     low  \n",
       "3       100 John Street     low  \n",
       "4  321 West 16th Street     low  "
      ]
     },
     "execution_count": 331,
     "metadata": {},
     "output_type": "execute_result"
    }
   ],
   "source": [
    "df.head()"
   ]
  },
  {
   "cell_type": "code",
   "execution_count": 332,
   "id": "ec6b09df",
   "metadata": {},
   "outputs": [],
   "source": [
    "n = len(df)\n",
    "useless_cols = ['Id', 'listing_id', 'building_id', 'manager_id'] # удалим ненужные колонки\n",
    "df.drop(columns=useless_cols, inplace=True)"
   ]
  },
  {
   "cell_type": "code",
   "execution_count": 333,
   "id": "4bc52064",
   "metadata": {},
   "outputs": [
    {
     "name": "stdout",
     "output_type": "stream",
     "text": [
      "<class 'pandas.core.frame.DataFrame'>\n",
      "RangeIndex: 34546 entries, 0 to 34545\n",
      "Data columns (total 12 columns):\n",
      " #   Column           Non-Null Count  Dtype  \n",
      "---  ------           --------------  -----  \n",
      " 0   bathrooms        34546 non-null  float64\n",
      " 1   bedrooms         34546 non-null  int64  \n",
      " 2   created          34546 non-null  object \n",
      " 3   description      33509 non-null  object \n",
      " 4   display_address  34458 non-null  object \n",
      " 5   features         34546 non-null  object \n",
      " 6   latitude         34546 non-null  float64\n",
      " 7   longitude        34546 non-null  float64\n",
      " 8   photos           34546 non-null  object \n",
      " 9   price            34546 non-null  int64  \n",
      " 10  street_address   34542 non-null  object \n",
      " 11  TARGET           34546 non-null  object \n",
      "dtypes: float64(3), int64(2), object(7)\n",
      "memory usage: 3.2+ MB\n"
     ]
    }
   ],
   "source": [
    "df.info(); # информация по типам и пропускам"
   ]
  },
  {
   "cell_type": "code",
   "execution_count": 334,
   "id": "9f168d21",
   "metadata": {},
   "outputs": [
    {
     "data": {
      "text/html": [
       "<div>\n",
       "<style scoped>\n",
       "    .dataframe tbody tr th:only-of-type {\n",
       "        vertical-align: middle;\n",
       "    }\n",
       "\n",
       "    .dataframe tbody tr th {\n",
       "        vertical-align: top;\n",
       "    }\n",
       "\n",
       "    .dataframe thead th {\n",
       "        text-align: right;\n",
       "    }\n",
       "</style>\n",
       "<table border=\"1\" class=\"dataframe\">\n",
       "  <thead>\n",
       "    <tr style=\"text-align: right;\">\n",
       "      <th></th>\n",
       "      <th>bathrooms</th>\n",
       "      <th>bedrooms</th>\n",
       "      <th>latitude</th>\n",
       "      <th>longitude</th>\n",
       "      <th>price</th>\n",
       "    </tr>\n",
       "  </thead>\n",
       "  <tbody>\n",
       "    <tr>\n",
       "      <th>count</th>\n",
       "      <td>34546.000000</td>\n",
       "      <td>34546.000000</td>\n",
       "      <td>34546.000000</td>\n",
       "      <td>34546.000000</td>\n",
       "      <td>3.454600e+04</td>\n",
       "    </tr>\n",
       "    <tr>\n",
       "      <th>mean</th>\n",
       "      <td>1.211182</td>\n",
       "      <td>1.540815</td>\n",
       "      <td>40.741878</td>\n",
       "      <td>-73.954803</td>\n",
       "      <td>3.888823e+03</td>\n",
       "    </tr>\n",
       "    <tr>\n",
       "      <th>std</th>\n",
       "      <td>0.496217</td>\n",
       "      <td>1.116735</td>\n",
       "      <td>0.622257</td>\n",
       "      <td>1.126953</td>\n",
       "      <td>2.630662e+04</td>\n",
       "    </tr>\n",
       "    <tr>\n",
       "      <th>min</th>\n",
       "      <td>0.000000</td>\n",
       "      <td>0.000000</td>\n",
       "      <td>0.000000</td>\n",
       "      <td>-75.521400</td>\n",
       "      <td>4.500000e+01</td>\n",
       "    </tr>\n",
       "    <tr>\n",
       "      <th>25%</th>\n",
       "      <td>1.000000</td>\n",
       "      <td>1.000000</td>\n",
       "      <td>40.728000</td>\n",
       "      <td>-73.991700</td>\n",
       "      <td>2.500000e+03</td>\n",
       "    </tr>\n",
       "    <tr>\n",
       "      <th>50%</th>\n",
       "      <td>1.000000</td>\n",
       "      <td>1.000000</td>\n",
       "      <td>40.751600</td>\n",
       "      <td>-73.977900</td>\n",
       "      <td>3.150000e+03</td>\n",
       "    </tr>\n",
       "    <tr>\n",
       "      <th>75%</th>\n",
       "      <td>1.000000</td>\n",
       "      <td>2.000000</td>\n",
       "      <td>40.774000</td>\n",
       "      <td>-73.954900</td>\n",
       "      <td>4.100000e+03</td>\n",
       "    </tr>\n",
       "    <tr>\n",
       "      <th>max</th>\n",
       "      <td>6.000000</td>\n",
       "      <td>8.000000</td>\n",
       "      <td>44.603800</td>\n",
       "      <td>0.000000</td>\n",
       "      <td>4.490000e+06</td>\n",
       "    </tr>\n",
       "  </tbody>\n",
       "</table>\n",
       "</div>"
      ],
      "text/plain": [
       "          bathrooms      bedrooms      latitude     longitude         price\n",
       "count  34546.000000  34546.000000  34546.000000  34546.000000  3.454600e+04\n",
       "mean       1.211182      1.540815     40.741878    -73.954803  3.888823e+03\n",
       "std        0.496217      1.116735      0.622257      1.126953  2.630662e+04\n",
       "min        0.000000      0.000000      0.000000    -75.521400  4.500000e+01\n",
       "25%        1.000000      1.000000     40.728000    -73.991700  2.500000e+03\n",
       "50%        1.000000      1.000000     40.751600    -73.977900  3.150000e+03\n",
       "75%        1.000000      2.000000     40.774000    -73.954900  4.100000e+03\n",
       "max        6.000000      8.000000     44.603800      0.000000  4.490000e+06"
      ]
     },
     "execution_count": 334,
     "metadata": {},
     "output_type": "execute_result"
    }
   ],
   "source": [
    "df.describe() # статистики по колонкам"
   ]
  },
  {
   "cell_type": "code",
   "execution_count": 335,
   "id": "dc61f666",
   "metadata": {},
   "outputs": [
    {
     "data": {
      "text/plain": [
       "object     7\n",
       "float64    3\n",
       "int64      2\n",
       "dtype: int64"
      ]
     },
     "execution_count": 335,
     "metadata": {},
     "output_type": "execute_result"
    }
   ],
   "source": [
    "df.dtypes.value_counts() # типы колонок"
   ]
  },
  {
   "cell_type": "code",
   "execution_count": 336,
   "id": "6da9eed3",
   "metadata": {},
   "outputs": [
    {
     "data": {
      "text/html": [
       "<div>\n",
       "<style scoped>\n",
       "    .dataframe tbody tr th:only-of-type {\n",
       "        vertical-align: middle;\n",
       "    }\n",
       "\n",
       "    .dataframe tbody tr th {\n",
       "        vertical-align: top;\n",
       "    }\n",
       "\n",
       "    .dataframe thead th {\n",
       "        text-align: right;\n",
       "    }\n",
       "</style>\n",
       "<table border=\"1\" class=\"dataframe\">\n",
       "  <thead>\n",
       "    <tr style=\"text-align: right;\">\n",
       "      <th></th>\n",
       "      <th>bathrooms</th>\n",
       "      <th>bedrooms</th>\n",
       "      <th>latitude</th>\n",
       "      <th>longitude</th>\n",
       "      <th>price</th>\n",
       "    </tr>\n",
       "  </thead>\n",
       "  <tbody>\n",
       "    <tr>\n",
       "      <th>0</th>\n",
       "      <td>1.0</td>\n",
       "      <td>3</td>\n",
       "      <td>40.7647</td>\n",
       "      <td>-73.9918</td>\n",
       "      <td>4495</td>\n",
       "    </tr>\n",
       "    <tr>\n",
       "      <th>1</th>\n",
       "      <td>1.0</td>\n",
       "      <td>1</td>\n",
       "      <td>40.7275</td>\n",
       "      <td>-74.0322</td>\n",
       "      <td>2570</td>\n",
       "    </tr>\n",
       "    <tr>\n",
       "      <th>2</th>\n",
       "      <td>1.0</td>\n",
       "      <td>0</td>\n",
       "      <td>40.7798</td>\n",
       "      <td>-73.9751</td>\n",
       "      <td>1795</td>\n",
       "    </tr>\n",
       "    <tr>\n",
       "      <th>3</th>\n",
       "      <td>1.0</td>\n",
       "      <td>2</td>\n",
       "      <td>40.7081</td>\n",
       "      <td>-74.0065</td>\n",
       "      <td>3400</td>\n",
       "    </tr>\n",
       "    <tr>\n",
       "      <th>4</th>\n",
       "      <td>1.0</td>\n",
       "      <td>3</td>\n",
       "      <td>40.7416</td>\n",
       "      <td>-74.0025</td>\n",
       "      <td>5695</td>\n",
       "    </tr>\n",
       "  </tbody>\n",
       "</table>\n",
       "</div>"
      ],
      "text/plain": [
       "   bathrooms  bedrooms  latitude  longitude  price\n",
       "0        1.0         3   40.7647   -73.9918   4495\n",
       "1        1.0         1   40.7275   -74.0322   2570\n",
       "2        1.0         0   40.7798   -73.9751   1795\n",
       "3        1.0         2   40.7081   -74.0065   3400\n",
       "4        1.0         3   40.7416   -74.0025   5695"
      ]
     },
     "execution_count": 336,
     "metadata": {},
     "output_type": "execute_result"
    }
   ],
   "source": [
    "df.select_dtypes(include=['float64', 'int64']).head() # числовые данные"
   ]
  },
  {
   "cell_type": "code",
   "execution_count": 337,
   "id": "d894ab49",
   "metadata": {
    "scrolled": true
   },
   "outputs": [
    {
     "data": {
      "text/html": [
       "<div>\n",
       "<style scoped>\n",
       "    .dataframe tbody tr th:only-of-type {\n",
       "        vertical-align: middle;\n",
       "    }\n",
       "\n",
       "    .dataframe tbody tr th {\n",
       "        vertical-align: top;\n",
       "    }\n",
       "\n",
       "    .dataframe thead th {\n",
       "        text-align: right;\n",
       "    }\n",
       "</style>\n",
       "<table border=\"1\" class=\"dataframe\">\n",
       "  <thead>\n",
       "    <tr style=\"text-align: right;\">\n",
       "      <th></th>\n",
       "      <th>created</th>\n",
       "      <th>description</th>\n",
       "      <th>display_address</th>\n",
       "      <th>features</th>\n",
       "      <th>photos</th>\n",
       "      <th>street_address</th>\n",
       "      <th>TARGET</th>\n",
       "    </tr>\n",
       "  </thead>\n",
       "  <tbody>\n",
       "    <tr>\n",
       "      <th>0</th>\n",
       "      <td>2016-05-19 18:06:27</td>\n",
       "      <td>A FABULOUS 3BR IN MIDTOWN WEST!   PERFECT APAR...</td>\n",
       "      <td>HOW AMAZING IS THIS MIDTOWN WEST STEAL!! NO FE...</td>\n",
       "      <td>['Laundry In Unit', 'No Fee', 'Elevator']</td>\n",
       "      <td>['https://photos.renthop.com/2/7039994_07be01b...</td>\n",
       "      <td>W 50 &amp; AVE 10</td>\n",
       "      <td>medium</td>\n",
       "    </tr>\n",
       "    <tr>\n",
       "      <th>1</th>\n",
       "      <td>2016-06-16 02:01:49</td>\n",
       "      <td>Renovated Kitchen and Bathroom!</td>\n",
       "      <td>55 River Drive South</td>\n",
       "      <td>['Dogs Allowed', 'Cats Allowed', 'No Fee']</td>\n",
       "      <td>['https://photos.renthop.com/2/7166774_03cf63a...</td>\n",
       "      <td>55 River Drive South</td>\n",
       "      <td>medium</td>\n",
       "    </tr>\n",
       "    <tr>\n",
       "      <th>2</th>\n",
       "      <td>2016-05-04 02:42:50</td>\n",
       "      <td>RARE AND BEST DEAL ON THE MARKET!!!! PERFECT S...</td>\n",
       "      <td>W 77 Street</td>\n",
       "      <td>['Elevator', 'Hardwood Floors']</td>\n",
       "      <td>['https://photos.renthop.com/2/6962716_ec7f56f...</td>\n",
       "      <td>22 W 77 Street</td>\n",
       "      <td>low</td>\n",
       "    </tr>\n",
       "    <tr>\n",
       "      <th>3</th>\n",
       "      <td>2016-05-12 05:57:56</td>\n",
       "      <td>Newly renovated flex 2 apartment offers the ne...</td>\n",
       "      <td>John Street</td>\n",
       "      <td>['Swimming Pool', 'Doorman', 'Elevator', 'Fitn...</td>\n",
       "      <td>['https://photos.renthop.com/2/7002458_93f4010...</td>\n",
       "      <td>100 John Street</td>\n",
       "      <td>low</td>\n",
       "    </tr>\n",
       "    <tr>\n",
       "      <th>4</th>\n",
       "      <td>2016-06-16 06:06:15</td>\n",
       "      <td>LOW FEE apartments do not come around like thi...</td>\n",
       "      <td>West 16th Street</td>\n",
       "      <td>['Laundry in Building', 'Laundry in Unit', 'Di...</td>\n",
       "      <td>['https://photos.renthop.com/2/7170465_9c3f173...</td>\n",
       "      <td>321 West 16th Street</td>\n",
       "      <td>low</td>\n",
       "    </tr>\n",
       "  </tbody>\n",
       "</table>\n",
       "</div>"
      ],
      "text/plain": [
       "               created                                        description  \\\n",
       "0  2016-05-19 18:06:27  A FABULOUS 3BR IN MIDTOWN WEST!   PERFECT APAR...   \n",
       "1  2016-06-16 02:01:49                    Renovated Kitchen and Bathroom!   \n",
       "2  2016-05-04 02:42:50  RARE AND BEST DEAL ON THE MARKET!!!! PERFECT S...   \n",
       "3  2016-05-12 05:57:56  Newly renovated flex 2 apartment offers the ne...   \n",
       "4  2016-06-16 06:06:15  LOW FEE apartments do not come around like thi...   \n",
       "\n",
       "                                     display_address  \\\n",
       "0  HOW AMAZING IS THIS MIDTOWN WEST STEAL!! NO FE...   \n",
       "1                               55 River Drive South   \n",
       "2                                        W 77 Street   \n",
       "3                                        John Street   \n",
       "4                                   West 16th Street   \n",
       "\n",
       "                                            features  \\\n",
       "0          ['Laundry In Unit', 'No Fee', 'Elevator']   \n",
       "1         ['Dogs Allowed', 'Cats Allowed', 'No Fee']   \n",
       "2                    ['Elevator', 'Hardwood Floors']   \n",
       "3  ['Swimming Pool', 'Doorman', 'Elevator', 'Fitn...   \n",
       "4  ['Laundry in Building', 'Laundry in Unit', 'Di...   \n",
       "\n",
       "                                              photos        street_address  \\\n",
       "0  ['https://photos.renthop.com/2/7039994_07be01b...         W 50 & AVE 10   \n",
       "1  ['https://photos.renthop.com/2/7166774_03cf63a...  55 River Drive South   \n",
       "2  ['https://photos.renthop.com/2/6962716_ec7f56f...        22 W 77 Street   \n",
       "3  ['https://photos.renthop.com/2/7002458_93f4010...       100 John Street   \n",
       "4  ['https://photos.renthop.com/2/7170465_9c3f173...  321 West 16th Street   \n",
       "\n",
       "   TARGET  \n",
       "0  medium  \n",
       "1  medium  \n",
       "2     low  \n",
       "3     low  \n",
       "4     low  "
      ]
     },
     "execution_count": 337,
     "metadata": {},
     "output_type": "execute_result"
    }
   ],
   "source": [
    "df.select_dtypes(include=['object']).head()"
   ]
  },
  {
   "cell_type": "markdown",
   "id": "3becd147",
   "metadata": {},
   "source": [
    "### Обработка пропусков"
   ]
  },
  {
   "cell_type": "code",
   "execution_count": 338,
   "id": "23d99669",
   "metadata": {},
   "outputs": [
    {
     "data": {
      "text/plain": [
       "bathrooms          False\n",
       "bedrooms           False\n",
       "created            False\n",
       "description         True\n",
       "display_address     True\n",
       "features           False\n",
       "latitude           False\n",
       "longitude          False\n",
       "photos             False\n",
       "price              False\n",
       "street_address      True\n",
       "TARGET             False\n",
       "dtype: bool"
      ]
     },
     "execution_count": 338,
     "metadata": {},
     "output_type": "execute_result"
    }
   ],
   "source": [
    "df.isna().any()"
   ]
  },
  {
   "cell_type": "code",
   "execution_count": 339,
   "id": "3b0cbe6c",
   "metadata": {
    "scrolled": true
   },
   "outputs": [
    {
     "data": {
      "text/plain": [
       "bathrooms             0\n",
       "bedrooms              0\n",
       "created               0\n",
       "description        1037\n",
       "display_address      88\n",
       "features              0\n",
       "latitude              0\n",
       "longitude             0\n",
       "photos                0\n",
       "price                 0\n",
       "street_address        4\n",
       "TARGET                0\n",
       "dtype: int64"
      ]
     },
     "execution_count": 339,
     "metadata": {},
     "output_type": "execute_result"
    }
   ],
   "source": [
    "df.isna().sum()"
   ]
  },
  {
   "cell_type": "code",
   "execution_count": 340,
   "id": "60129488",
   "metadata": {},
   "outputs": [],
   "source": [
    "df.drop(columns=np.array(['display_address', 'street_address']), inplace=True) # удалим строковые адреса"
   ]
  },
  {
   "cell_type": "code",
   "execution_count": 341,
   "id": "f074657f",
   "metadata": {},
   "outputs": [
    {
     "data": {
      "text/plain": [
       "<AxesSubplot:xlabel='TARGET', ylabel='count'>"
      ]
     },
     "execution_count": 341,
     "metadata": {},
     "output_type": "execute_result"
    },
    {
     "data": {
      "image/png": "[encoded data removed]",
      "text/plain": [
       "<Figure size 432x288 with 1 Axes>"
      ]
     },
     "metadata": {},
     "output_type": "display_data"
    }
   ],
   "source": [
    "sns.countplot(x=\"TARGET\", data=df, order = ['low', 'medium', 'high'])"
   ]
  },
  {
   "cell_type": "code",
   "execution_count": 342,
   "id": "9f7b8143",
   "metadata": {},
   "outputs": [],
   "source": [
    "df['TARGET'] = df['TARGET'].map({'low' : 0, 'medium' : 1, 'high' : 2}) # преобразование целевого признака"
   ]
  },
  {
   "cell_type": "code",
   "execution_count": 343,
   "id": "356861f4",
   "metadata": {
    "scrolled": true
   },
   "outputs": [
    {
     "data": {
      "text/html": [
       "<div>\n",
       "<style scoped>\n",
       "    .dataframe tbody tr th:only-of-type {\n",
       "        vertical-align: middle;\n",
       "    }\n",
       "\n",
       "    .dataframe tbody tr th {\n",
       "        vertical-align: top;\n",
       "    }\n",
       "\n",
       "    .dataframe thead th {\n",
       "        text-align: right;\n",
       "    }\n",
       "</style>\n",
       "<table border=\"1\" class=\"dataframe\">\n",
       "  <thead>\n",
       "    <tr style=\"text-align: right;\">\n",
       "      <th></th>\n",
       "      <th>bathrooms</th>\n",
       "      <th>bedrooms</th>\n",
       "      <th>created</th>\n",
       "      <th>description</th>\n",
       "      <th>features</th>\n",
       "      <th>latitude</th>\n",
       "      <th>longitude</th>\n",
       "      <th>photos</th>\n",
       "      <th>price</th>\n",
       "      <th>TARGET</th>\n",
       "    </tr>\n",
       "  </thead>\n",
       "  <tbody>\n",
       "    <tr>\n",
       "      <th>0</th>\n",
       "      <td>1.0</td>\n",
       "      <td>3</td>\n",
       "      <td>2016-05-19 18:06:27</td>\n",
       "      <td>A FABULOUS 3BR IN MIDTOWN WEST!   PERFECT APAR...</td>\n",
       "      <td>['Laundry In Unit', 'No Fee', 'Elevator']</td>\n",
       "      <td>40.7647</td>\n",
       "      <td>-73.9918</td>\n",
       "      <td>['https://photos.renthop.com/2/7039994_07be01b...</td>\n",
       "      <td>4495</td>\n",
       "      <td>1</td>\n",
       "    </tr>\n",
       "    <tr>\n",
       "      <th>1</th>\n",
       "      <td>1.0</td>\n",
       "      <td>1</td>\n",
       "      <td>2016-06-16 02:01:49</td>\n",
       "      <td>Renovated Kitchen and Bathroom!</td>\n",
       "      <td>['Dogs Allowed', 'Cats Allowed', 'No Fee']</td>\n",
       "      <td>40.7275</td>\n",
       "      <td>-74.0322</td>\n",
       "      <td>['https://photos.renthop.com/2/7166774_03cf63a...</td>\n",
       "      <td>2570</td>\n",
       "      <td>1</td>\n",
       "    </tr>\n",
       "    <tr>\n",
       "      <th>2</th>\n",
       "      <td>1.0</td>\n",
       "      <td>0</td>\n",
       "      <td>2016-05-04 02:42:50</td>\n",
       "      <td>RARE AND BEST DEAL ON THE MARKET!!!! PERFECT S...</td>\n",
       "      <td>['Elevator', 'Hardwood Floors']</td>\n",
       "      <td>40.7798</td>\n",
       "      <td>-73.9751</td>\n",
       "      <td>['https://photos.renthop.com/2/6962716_ec7f56f...</td>\n",
       "      <td>1795</td>\n",
       "      <td>0</td>\n",
       "    </tr>\n",
       "    <tr>\n",
       "      <th>3</th>\n",
       "      <td>1.0</td>\n",
       "      <td>2</td>\n",
       "      <td>2016-05-12 05:57:56</td>\n",
       "      <td>Newly renovated flex 2 apartment offers the ne...</td>\n",
       "      <td>['Swimming Pool', 'Doorman', 'Elevator', 'Fitn...</td>\n",
       "      <td>40.7081</td>\n",
       "      <td>-74.0065</td>\n",
       "      <td>['https://photos.renthop.com/2/7002458_93f4010...</td>\n",
       "      <td>3400</td>\n",
       "      <td>0</td>\n",
       "    </tr>\n",
       "    <tr>\n",
       "      <th>4</th>\n",
       "      <td>1.0</td>\n",
       "      <td>3</td>\n",
       "      <td>2016-06-16 06:06:15</td>\n",
       "      <td>LOW FEE apartments do not come around like thi...</td>\n",
       "      <td>['Laundry in Building', 'Laundry in Unit', 'Di...</td>\n",
       "      <td>40.7416</td>\n",
       "      <td>-74.0025</td>\n",
       "      <td>['https://photos.renthop.com/2/7170465_9c3f173...</td>\n",
       "      <td>5695</td>\n",
       "      <td>0</td>\n",
       "    </tr>\n",
       "  </tbody>\n",
       "</table>\n",
       "</div>"
      ],
      "text/plain": [
       "   bathrooms  bedrooms              created  \\\n",
       "0        1.0         3  2016-05-19 18:06:27   \n",
       "1        1.0         1  2016-06-16 02:01:49   \n",
       "2        1.0         0  2016-05-04 02:42:50   \n",
       "3        1.0         2  2016-05-12 05:57:56   \n",
       "4        1.0         3  2016-06-16 06:06:15   \n",
       "\n",
       "                                         description  \\\n",
       "0  A FABULOUS 3BR IN MIDTOWN WEST!   PERFECT APAR...   \n",
       "1                    Renovated Kitchen and Bathroom!   \n",
       "2  RARE AND BEST DEAL ON THE MARKET!!!! PERFECT S...   \n",
       "3  Newly renovated flex 2 apartment offers the ne...   \n",
       "4  LOW FEE apartments do not come around like thi...   \n",
       "\n",
       "                                            features  latitude  longitude  \\\n",
       "0          ['Laundry In Unit', 'No Fee', 'Elevator']   40.7647   -73.9918   \n",
       "1         ['Dogs Allowed', 'Cats Allowed', 'No Fee']   40.7275   -74.0322   \n",
       "2                    ['Elevator', 'Hardwood Floors']   40.7798   -73.9751   \n",
       "3  ['Swimming Pool', 'Doorman', 'Elevator', 'Fitn...   40.7081   -74.0065   \n",
       "4  ['Laundry in Building', 'Laundry in Unit', 'Di...   40.7416   -74.0025   \n",
       "\n",
       "                                              photos  price  TARGET  \n",
       "0  ['https://photos.renthop.com/2/7039994_07be01b...   4495       1  \n",
       "1  ['https://photos.renthop.com/2/7166774_03cf63a...   2570       1  \n",
       "2  ['https://photos.renthop.com/2/6962716_ec7f56f...   1795       0  \n",
       "3  ['https://photos.renthop.com/2/7002458_93f4010...   3400       0  \n",
       "4  ['https://photos.renthop.com/2/7170465_9c3f173...   5695       0  "
      ]
     },
     "execution_count": 343,
     "metadata": {},
     "output_type": "execute_result"
    }
   ],
   "source": [
    "df.head()"
   ]
  },
  {
   "cell_type": "markdown",
   "id": "e04a0561",
   "metadata": {},
   "source": [
    "### Дата и время"
   ]
  },
  {
   "cell_type": "code",
   "execution_count": 344,
   "id": "dc4ab336",
   "metadata": {},
   "outputs": [],
   "source": [
    "X_train = df.drop(columns=['TARGET'])\n",
    "y_train = df['TARGET']"
   ]
  },
  {
   "cell_type": "code",
   "execution_count": 345,
   "id": "8c0fbfff",
   "metadata": {},
   "outputs": [],
   "source": [
    "def date_parser(datestr):\n",
    "    return pd.datetime.strptime(datestr, '%Y-%m-%d %H:%M:%S')"
   ]
  },
  {
   "cell_type": "code",
   "execution_count": 346,
   "id": "79b7f723",
   "metadata": {
    "scrolled": false
   },
   "outputs": [
    {
     "data": {
      "text/plain": [
       "0       2016-05-19 18:06:27\n",
       "1       2016-06-16 02:01:49\n",
       "2       2016-05-04 02:42:50\n",
       "3       2016-05-12 05:57:56\n",
       "4       2016-06-16 06:06:15\n",
       "                ...        \n",
       "34541   2016-06-16 02:12:57\n",
       "34542   2016-05-10 03:17:32\n",
       "34543   2016-04-21 03:29:35\n",
       "34544   2016-05-14 02:27:47\n",
       "34545   2016-04-05 03:35:52\n",
       "Name: created, Length: 34546, dtype: datetime64[ns]"
      ]
     },
     "execution_count": 346,
     "metadata": {},
     "output_type": "execute_result"
    }
   ],
   "source": [
    "X_train['created'].apply(date_parser)"
   ]
  },
  {
   "cell_type": "code",
   "execution_count": 347,
   "id": "e4b5c424",
   "metadata": {},
   "outputs": [],
   "source": [
    "X_train['created'] = pd.to_datetime(X_train['created'], infer_datetime_format=True)"
   ]
  },
  {
   "cell_type": "code",
   "execution_count": 348,
   "id": "8fd45198",
   "metadata": {
    "scrolled": true
   },
   "outputs": [
    {
     "data": {
      "image/png": "[encoded data removed]",
      "text/plain": [
       "<Figure size 1080x360 with 3 Axes>"
      ]
     },
     "metadata": {},
     "output_type": "display_data"
    }
   ],
   "source": [
    "plt.figure(figsize=(15, 5))\n",
    "plt.subplot(1, 3, 1)\n",
    "plt.title('Year')\n",
    "sns.countplot(x=X_train['created'].dt.year)\n",
    "plt.subplot(1, 3, 2)\n",
    "plt.title('Month')\n",
    "sns.countplot(x=X_train['created'].dt.month)\n",
    "plt.subplot(1, 3, 3)\n",
    "plt.title('Day')\n",
    "sns.countplot(y=X_train['created'].dt.day);"
   ]
  },
  {
   "cell_type": "code",
   "execution_count": 349,
   "id": "b9567431",
   "metadata": {},
   "outputs": [
    {
     "name": "stdout",
     "output_type": "stream",
     "text": [
      "2016-04-01 22:56:00\n",
      "27\n"
     ]
    }
   ],
   "source": [
    "min_day = X_train['created'].min()\n",
    "print(min_day)\n",
    "day1 = X_train['created'][0]\n",
    "day2 = X_train['created'][1]\n",
    "dif = day2 - day1\n",
    "print(dif.days)"
   ]
  },
  {
   "cell_type": "code",
   "execution_count": 350,
   "id": "650ef380",
   "metadata": {},
   "outputs": [],
   "source": [
    "min_day = X_train['created'].min() # саммый ранний день в нашем датасете\n",
    "X_train.insert(0, 'month', X_train['created'].dt.month) # создания колонок месяца\n",
    "X_train.insert(1, 'day', (X_train['created'] - min_day).dt.days) # создания колонок дня дней\n",
    "# Является ли этот день выходным\n",
    "X_train['is_weekend'] = X_train['created'].apply(lambda x: 1 if x.date().weekday() in (5, 6) else 0)\n",
    "X_train.drop(columns=['created'], inplace=True) # удаление полной даты"
   ]
  },
  {
   "cell_type": "code",
   "execution_count": 351,
   "id": "e3e0d690",
   "metadata": {},
   "outputs": [],
   "source": [
    "X_train.fillna(value='', inplace=True) # заполнение пропусков в description"
   ]
  },
  {
   "cell_type": "code",
   "execution_count": 352,
   "id": "0c2e210d",
   "metadata": {},
   "outputs": [],
   "source": [
    "X_train['num_features'] = X_train['features'].apply(lambda x : x.count('\\'') / 2) # количество \"свойств\"\n",
    "X_train['num_photos'] = X_train['photos'].apply(lambda x : x.count('\\'') / 2) # количество фотографий\n",
    "X_train['len_description'] = X_train['description'].apply(lambda x : len(x)) # длина описания\n",
    "X_train['description_NA'] = (X_train['description'] == '')"
   ]
  },
  {
   "cell_type": "code",
   "execution_count": 353,
   "id": "536decc2",
   "metadata": {},
   "outputs": [],
   "source": [
    "X_train.drop(columns=['features', 'photos', 'description'], inplace=True)"
   ]
  },
  {
   "cell_type": "code",
   "execution_count": 354,
   "id": "54d35a8e",
   "metadata": {},
   "outputs": [],
   "source": [
    "X_train['price_per_room'] = X_train['price'] / (X_train['bedrooms'] + X_train['bathrooms'])\n",
    "X_train['price_per_room'][X_train['price_per_room'] == np.inf] = -1\n",
    "X_train['price_per_room'][X_train['price_per_room'] == -1] = X_train['price_per_room'].max() * 2"
   ]
  },
  {
   "cell_type": "code",
   "execution_count": 355,
   "id": "c23bc563",
   "metadata": {},
   "outputs": [
    {
     "data": {
      "text/html": [
       "<div>\n",
       "<style scoped>\n",
       "    .dataframe tbody tr th:only-of-type {\n",
       "        vertical-align: middle;\n",
       "    }\n",
       "\n",
       "    .dataframe tbody tr th {\n",
       "        vertical-align: top;\n",
       "    }\n",
       "\n",
       "    .dataframe thead th {\n",
       "        text-align: right;\n",
       "    }\n",
       "</style>\n",
       "<table border=\"1\" class=\"dataframe\">\n",
       "  <thead>\n",
       "    <tr style=\"text-align: right;\">\n",
       "      <th></th>\n",
       "      <th>month</th>\n",
       "      <th>day</th>\n",
       "      <th>bathrooms</th>\n",
       "      <th>bedrooms</th>\n",
       "      <th>latitude</th>\n",
       "      <th>longitude</th>\n",
       "      <th>price</th>\n",
       "      <th>is_weekend</th>\n",
       "      <th>num_features</th>\n",
       "      <th>num_photos</th>\n",
       "      <th>len_description</th>\n",
       "      <th>description_NA</th>\n",
       "      <th>price_per_room</th>\n",
       "    </tr>\n",
       "  </thead>\n",
       "  <tbody>\n",
       "    <tr>\n",
       "      <th>0</th>\n",
       "      <td>5</td>\n",
       "      <td>47</td>\n",
       "      <td>1.0</td>\n",
       "      <td>3</td>\n",
       "      <td>40.7647</td>\n",
       "      <td>-73.9918</td>\n",
       "      <td>4495</td>\n",
       "      <td>0</td>\n",
       "      <td>3.0</td>\n",
       "      <td>3.0</td>\n",
       "      <td>476</td>\n",
       "      <td>False</td>\n",
       "      <td>1123.750000</td>\n",
       "    </tr>\n",
       "    <tr>\n",
       "      <th>1</th>\n",
       "      <td>6</td>\n",
       "      <td>75</td>\n",
       "      <td>1.0</td>\n",
       "      <td>1</td>\n",
       "      <td>40.7275</td>\n",
       "      <td>-74.0322</td>\n",
       "      <td>2570</td>\n",
       "      <td>0</td>\n",
       "      <td>3.0</td>\n",
       "      <td>13.0</td>\n",
       "      <td>31</td>\n",
       "      <td>False</td>\n",
       "      <td>1285.000000</td>\n",
       "    </tr>\n",
       "    <tr>\n",
       "      <th>2</th>\n",
       "      <td>5</td>\n",
       "      <td>32</td>\n",
       "      <td>1.0</td>\n",
       "      <td>0</td>\n",
       "      <td>40.7798</td>\n",
       "      <td>-73.9751</td>\n",
       "      <td>1795</td>\n",
       "      <td>0</td>\n",
       "      <td>2.0</td>\n",
       "      <td>6.0</td>\n",
       "      <td>280</td>\n",
       "      <td>False</td>\n",
       "      <td>1795.000000</td>\n",
       "    </tr>\n",
       "    <tr>\n",
       "      <th>3</th>\n",
       "      <td>5</td>\n",
       "      <td>40</td>\n",
       "      <td>1.0</td>\n",
       "      <td>2</td>\n",
       "      <td>40.7081</td>\n",
       "      <td>-74.0065</td>\n",
       "      <td>3400</td>\n",
       "      <td>0</td>\n",
       "      <td>8.0</td>\n",
       "      <td>4.0</td>\n",
       "      <td>1158</td>\n",
       "      <td>False</td>\n",
       "      <td>1133.333333</td>\n",
       "    </tr>\n",
       "    <tr>\n",
       "      <th>4</th>\n",
       "      <td>6</td>\n",
       "      <td>75</td>\n",
       "      <td>1.0</td>\n",
       "      <td>3</td>\n",
       "      <td>40.7416</td>\n",
       "      <td>-74.0025</td>\n",
       "      <td>5695</td>\n",
       "      <td>0</td>\n",
       "      <td>4.0</td>\n",
       "      <td>3.0</td>\n",
       "      <td>785</td>\n",
       "      <td>False</td>\n",
       "      <td>1423.750000</td>\n",
       "    </tr>\n",
       "  </tbody>\n",
       "</table>\n",
       "</div>"
      ],
      "text/plain": [
       "   month  day  bathrooms  bedrooms  latitude  longitude  price  is_weekend  \\\n",
       "0      5   47        1.0         3   40.7647   -73.9918   4495           0   \n",
       "1      6   75        1.0         1   40.7275   -74.0322   2570           0   \n",
       "2      5   32        1.0         0   40.7798   -73.9751   1795           0   \n",
       "3      5   40        1.0         2   40.7081   -74.0065   3400           0   \n",
       "4      6   75        1.0         3   40.7416   -74.0025   5695           0   \n",
       "\n",
       "   num_features  num_photos  len_description  description_NA  price_per_room  \n",
       "0           3.0         3.0              476           False     1123.750000  \n",
       "1           3.0        13.0               31           False     1285.000000  \n",
       "2           2.0         6.0              280           False     1795.000000  \n",
       "3           8.0         4.0             1158           False     1133.333333  \n",
       "4           4.0         3.0              785           False     1423.750000  "
      ]
     },
     "execution_count": 355,
     "metadata": {},
     "output_type": "execute_result"
    }
   ],
   "source": [
    "X_train.head()"
   ]
  },
  {
   "cell_type": "markdown",
   "id": "b64f9a3a",
   "metadata": {},
   "source": [
    "### Визуализация"
   ]
  },
  {
   "cell_type": "code",
   "execution_count": 356,
   "id": "f0de274d",
   "metadata": {
    "scrolled": true
   },
   "outputs": [
    {
     "data": {
      "image/png": "[encoded data removed]",
      "text/plain": [
       "<Figure size 1080x288 with 2 Axes>"
      ]
     },
     "metadata": {},
     "output_type": "display_data"
    }
   ],
   "source": [
    "# категориальные данные\n",
    "#took from https://stackoverflow.com/questions/28931224/adding-value-labels-on-a-matplotlib-bar-chart\n",
    "plt.figure(figsize=(15, 4))\n",
    "plt.subplot(1, 2, 1)\n",
    "ax = sns.countplot(x=X_train['bathrooms'])\n",
    "ax.bar_label(ax.containers[0], label_type='edge')\n",
    "plt.subplot(1, 2, 2)\n",
    "ax = sns.countplot(x=X_train['bedrooms'])\n",
    "ax.bar_label(ax.containers[0], label_type='edge');"
   ]
  },
  {
   "cell_type": "code",
   "execution_count": 357,
   "id": "d1d22cdd",
   "metadata": {},
   "outputs": [
    {
     "data": {
      "image/png": "[encoded data removed]",
      "text/plain": [
       "<Figure size 1080x576 with 4 Axes>"
      ]
     },
     "metadata": {},
     "output_type": "display_data"
    }
   ],
   "source": [
    "# числовые данные\n",
    "plt.figure(figsize=(15, 8))\n",
    "plt.subplot(2, 2, 1)\n",
    "sns.distplot(X_train['price'], hist=False)\n",
    "plt.subplot(2, 2, 2)\n",
    "sns.distplot(X_train['num_features'], hist=False)\n",
    "plt.subplot(2, 2, 3)\n",
    "sns.distplot(X_train['num_photos'], hist=False)\n",
    "plt.subplot(2, 2, 4)\n",
    "sns.distplot(X_train['len_description'], hist=False);"
   ]
  },
  {
   "cell_type": "code",
   "execution_count": 358,
   "id": "45130dc3",
   "metadata": {
    "scrolled": false
   },
   "outputs": [
    {
     "data": {
      "image/png": "[encoded data removed]",
      "text/plain": [
       "<Figure size 1080x288 with 2 Axes>"
      ]
     },
     "metadata": {},
     "output_type": "display_data"
    }
   ],
   "source": [
    "plt.figure(figsize=(15, 4))\n",
    "plt.subplot(1, 2, 1)\n",
    "sns.distplot(X_train['latitude'], hist=False)\n",
    "plt.subplot(1, 2, 2)\n",
    "sns.distplot(X_train['longitude'], hist=False);"
   ]
  },
  {
   "cell_type": "code",
   "execution_count": 359,
   "id": "8c081993",
   "metadata": {},
   "outputs": [
    {
     "data": {
      "image/png": "[encoded data removed]",
      "text/plain": [
       "<Figure size 432x288 with 1 Axes>"
      ]
     },
     "metadata": {},
     "output_type": "display_data"
    }
   ],
   "source": [
    "sns.distplot(X_train['price_per_room'], hist=False);"
   ]
  },
  {
   "cell_type": "markdown",
   "id": "aee400ed",
   "metadata": {},
   "source": [
    "# Обучение моделей"
   ]
  },
  {
   "cell_type": "markdown",
   "id": "c76e0a8d",
   "metadata": {},
   "source": [
    "### Функция потерь"
   ]
  },
  {
   "cell_type": "code",
   "execution_count": 398,
   "id": "77a63c91",
   "metadata": {},
   "outputs": [],
   "source": [
    "metric = \"balanced_accuracy\""
   ]
  },
  {
   "cell_type": "markdown",
   "id": "de6ea344",
   "metadata": {},
   "source": [
    "### Бейзлайн"
   ]
  },
  {
   "cell_type": "code",
   "execution_count": 399,
   "id": "ee6ec520",
   "metadata": {},
   "outputs": [
    {
     "name": "stdout",
     "output_type": "stream",
     "text": [
      "0.4624692897920009\n"
     ]
    }
   ],
   "source": [
    "print(cross_val_score(LogisticRegression(class_weight={0:0.3276, 1:1.0, 2:2.9245}), X_train, y_train, scoring=metric).mean())"
   ]
  },
  {
   "cell_type": "markdown",
   "id": "e985449a",
   "metadata": {},
   "source": [
    "### Убираем длинные хвосты"
   ]
  },
  {
   "cell_type": "code",
   "execution_count": 400,
   "id": "0f38ce0c",
   "metadata": {},
   "outputs": [
    {
     "data": {
      "text/plain": [
       "array([[-0.02411625,  0.10978967, -0.42559027, ..., -0.32035931,\n",
       "        -0.17591734, -0.05797927],\n",
       "       [ 1.19034425,  1.19278199, -0.42559027, ..., -1.45372473,\n",
       "        -0.17591734, -0.05700169],\n",
       "       [-0.02411625, -0.47038479, -0.42559027, ..., -0.81954947,\n",
       "        -0.17591734, -0.0539098 ],\n",
       "       ...,\n",
       "       [-1.23857675, -0.97320265,  1.58968511, ..., -0.49609462,\n",
       "        -0.17591734, -0.05704716],\n",
       "       [-0.02411625, -0.08360182, -0.42559027, ...,  1.76808935,\n",
       "        -0.17591734, -0.05792117],\n",
       "       [-1.23857675, -1.59205541, -0.42559027, ..., -0.4782664 ,\n",
       "        -0.17591734, -0.05883055]])"
      ]
     },
     "execution_count": 400,
     "metadata": {},
     "output_type": "execute_result"
    }
   ],
   "source": [
    "std = StandardScaler()\n",
    "X_train_std = std.fit_transform(X_train)\n",
    "X_train_std"
   ]
  },
  {
   "cell_type": "code",
   "execution_count": 401,
   "id": "f695a146",
   "metadata": {},
   "outputs": [
    {
     "name": "stdout",
     "output_type": "stream",
     "text": [
      "0.510891587228028\n"
     ]
    }
   ],
   "source": [
    "print(cross_val_score(LogisticRegression(class_weight={0:0.3276, 1:1.0, 2:2.9245}), X_train_std, y_train, scoring=metric).mean())"
   ]
  },
  {
   "cell_type": "markdown",
   "id": "d4b4e436",
   "metadata": {},
   "source": [
    "### Подбор параметров"
   ]
  },
  {
   "cell_type": "code",
   "execution_count": 402,
   "id": "16c9569d",
   "metadata": {},
   "outputs": [
    {
     "data": {
      "text/plain": [
       "GridSearchCV(estimator=LogisticRegression(),\n",
       "             param_grid={'C': array([ 0.1,  1.2,  2.3,  3.4,  4.5,  5.6,  6.7,  7.8,  8.9, 10. ]),\n",
       "                         'class_weight': [{0: 0.3276, 1: 1.0, 2: 2.9245}],\n",
       "                         'penalty': ['l1', 'l2']},\n",
       "             scoring='balanced_accuracy')"
      ]
     },
     "execution_count": 402,
     "metadata": {},
     "output_type": "execute_result"
    }
   ],
   "source": [
    "grid = {\"class_weight\" : [{0:0.3276, 1:1.0, 2:2.9245}], \"C\" : np.linspace(0.1, 10, 10), \"penalty\" : [\"l1\", \"l2\"]}\n",
    "logreg_cv = GridSearchCV(LogisticRegression(), grid, scoring=metric)\n",
    "logreg_cv.fit(X_train_std, y_train)"
   ]
  },
  {
   "cell_type": "code",
   "execution_count": 403,
   "id": "341447ad",
   "metadata": {},
   "outputs": [
    {
     "name": "stdout",
     "output_type": "stream",
     "text": [
      "0.5148891287847167\n",
      "{'C': 5.6, 'class_weight': {0: 0.3276, 1: 1.0, 2: 2.9245}, 'penalty': 'l2'}\n"
     ]
    }
   ],
   "source": [
    "print(logreg_cv.best_score_)\n",
    "print(logreg_cv.best_params_)"
   ]
  },
  {
   "cell_type": "code",
   "execution_count": 404,
   "id": "ebd873df",
   "metadata": {},
   "outputs": [
    {
     "data": {
      "text/plain": [
       "LogisticRegression(C=5.6, class_weight={0: 0.3276, 1: 1.0, 2: 2.9245})"
      ]
     },
     "execution_count": 404,
     "metadata": {},
     "output_type": "execute_result"
    }
   ],
   "source": [
    "log_reg = LogisticRegression(class_weight= {0: 0.3276, 1: 1.0, 2: 2.9245}, C=5.6, penalty='l2')\n",
    "log_reg.fit(X_train_std, y_train)"
   ]
  },
  {
   "cell_type": "code",
   "execution_count": 413,
   "id": "f82314c1",
   "metadata": {},
   "outputs": [],
   "source": [
    "poly = PolynomialFeatures(2)\n",
    "X_train_std_2 = poly.fit_transform(X_train_std)"
   ]
  },
  {
   "cell_type": "code",
   "execution_count": 414,
   "id": "ac877ffe",
   "metadata": {},
   "outputs": [
    {
     "name": "stderr",
     "output_type": "stream",
     "text": [
      "100%|███████████████████████████████████████████| 10/10 [00:57<00:00,  5.78s/it]\n"
     ]
    }
   ],
   "source": [
    "scores = []\n",
    "le = 15\n",
    "re = 25\n",
    "for i in tqdm(range(le, re)):\n",
    "    X_data_kbest = SelectKBest(f_classif, k=i).fit_transform(X_train_std_2, y_train)\n",
    "    scores.append(cross_val_score(log_reg, X_data_kbest, y_train, scoring=metric).mean())\n",
    "    "
   ]
  },
  {
   "cell_type": "code",
   "execution_count": 415,
   "id": "68e83316",
   "metadata": {
    "scrolled": true
   },
   "outputs": [
    {
     "data": {
      "image/png": "[encoded data removed]",
      "text/plain": [
       "<Figure size 432x288 with 1 Axes>"
      ]
     },
     "metadata": {},
     "output_type": "display_data"
    }
   ],
   "source": [
    "plt.plot(np.arange(le, re), scores)\n",
    "plt.xlabel('number of features')\n",
    "plt.ylabel('accuracy')\n",
    "plt.title('ANOVA testing');"
   ]
  },
  {
   "cell_type": "code",
   "execution_count": 416,
   "id": "55abcc60",
   "metadata": {},
   "outputs": [
    {
     "name": "stdout",
     "output_type": "stream",
     "text": [
      "0.42980593732345795\n",
      "20\n"
     ]
    }
   ],
   "source": [
    "#лучший результат ановы\n",
    "print(max(scores))\n",
    "print(le + np.argmax(scores))"
   ]
  },
  {
   "cell_type": "code",
   "execution_count": 453,
   "id": "6042c7e0",
   "metadata": {},
   "outputs": [],
   "source": [
    "log_reg = LogisticRegression(class_weight= {0: 0.3276, 1: 1.0, 2: 2.9245}, C=5.6, penalty='l2', max_iter=1000)"
   ]
  },
  {
   "cell_type": "code",
   "execution_count": 454,
   "id": "2e32f732",
   "metadata": {},
   "outputs": [
    {
     "name": "stderr",
     "output_type": "stream",
     "text": [
      "[Parallel(n_jobs=-1)]: Using backend LokyBackend with 8 concurrent workers.\n",
      "[Parallel(n_jobs=-1)]: Done   5 out of  13 | elapsed:    0.7s remaining:    1.1s\n",
      "[Parallel(n_jobs=-1)]: Done  13 out of  13 | elapsed:    1.6s finished\n",
      "\n",
      "[2022-02-08 23:15:30] Features: 1/5 -- score: 0.440953203402562[Parallel(n_jobs=-1)]: Using backend LokyBackend with 8 concurrent workers.\n",
      "[Parallel(n_jobs=-1)]: Done   4 out of  12 | elapsed:    2.1s remaining:    4.2s\n",
      "[Parallel(n_jobs=-1)]: Done  12 out of  12 | elapsed:    4.1s finished\n",
      "\n",
      "[2022-02-08 23:15:34] Features: 2/5 -- score: 0.4909277078678664[Parallel(n_jobs=-1)]: Using backend LokyBackend with 8 concurrent workers.\n",
      "[Parallel(n_jobs=-1)]: Done   2 out of  11 | elapsed:    2.4s remaining:   10.6s\n",
      "[Parallel(n_jobs=-1)]: Done   8 out of  11 | elapsed:    3.4s remaining:    1.3s\n",
      "[Parallel(n_jobs=-1)]: Done  11 out of  11 | elapsed:    4.8s finished\n",
      "\n",
      "[2022-02-08 23:15:39] Features: 3/5 -- score: 0.5053987173493388[Parallel(n_jobs=-1)]: Using backend LokyBackend with 8 concurrent workers.\n",
      "[Parallel(n_jobs=-1)]: Done   7 out of  10 | elapsed:    3.4s remaining:    1.5s\n",
      "[Parallel(n_jobs=-1)]: Done  10 out of  10 | elapsed:    5.3s finished\n",
      "\n",
      "[2022-02-08 23:15:44] Features: 4/5 -- score: 0.5090778790381115[Parallel(n_jobs=-1)]: Using backend LokyBackend with 8 concurrent workers.\n",
      "[Parallel(n_jobs=-1)]: Done   4 out of   9 | elapsed:    3.0s remaining:    3.7s\n",
      "[Parallel(n_jobs=-1)]: Done   9 out of   9 | elapsed:    5.3s remaining:    0.0s\n",
      "[Parallel(n_jobs=-1)]: Done   9 out of   9 | elapsed:    5.3s finished\n",
      "\n",
      "[2022-02-08 23:15:50] Features: 5/5 -- score: 0.5107144016940117"
     ]
    },
    {
     "data": {
      "text/plain": [
       "SequentialFeatureSelector(estimator=LogisticRegression(C=5.6,\n",
       "                                                       class_weight={0: 0.3276,\n",
       "                                                                     1: 1.0,\n",
       "                                                                     2: 2.9245},\n",
       "                                                       max_iter=1000),\n",
       "                          k_features=5, n_jobs=-1, scoring='balanced_accuracy',\n",
       "                          verbose=2)"
      ]
     },
     "execution_count": 454,
     "metadata": {},
     "output_type": "execute_result"
    }
   ],
   "source": [
    "selector1 = SequentialFeatureSelector(log_reg, scoring=metric,\n",
    "                                     verbose=2, k_features=5, forward=True, n_jobs=-1) # жадный алгоритм\n",
    "selector1.fit(X_train_std, y_train)"
   ]
  },
  {
   "cell_type": "code",
   "execution_count": 456,
   "id": "3bc31206",
   "metadata": {},
   "outputs": [
    {
     "data": {
      "text/html": [
       "<div>\n",
       "<style scoped>\n",
       "    .dataframe tbody tr th:only-of-type {\n",
       "        vertical-align: middle;\n",
       "    }\n",
       "\n",
       "    .dataframe tbody tr th {\n",
       "        vertical-align: top;\n",
       "    }\n",
       "\n",
       "    .dataframe thead th {\n",
       "        text-align: right;\n",
       "    }\n",
       "</style>\n",
       "<table border=\"1\" class=\"dataframe\">\n",
       "  <thead>\n",
       "    <tr style=\"text-align: right;\">\n",
       "      <th></th>\n",
       "      <th>0</th>\n",
       "      <th>1</th>\n",
       "      <th>2</th>\n",
       "      <th>3</th>\n",
       "      <th>4</th>\n",
       "    </tr>\n",
       "  </thead>\n",
       "  <tbody>\n",
       "    <tr>\n",
       "      <th>0</th>\n",
       "      <td>-0.425590</td>\n",
       "      <td>1.306672</td>\n",
       "      <td>-0.032830</td>\n",
       "      <td>0.023043</td>\n",
       "      <td>-0.623017</td>\n",
       "    </tr>\n",
       "    <tr>\n",
       "      <th>1</th>\n",
       "      <td>-0.425590</td>\n",
       "      <td>-0.484290</td>\n",
       "      <td>-0.068679</td>\n",
       "      <td>-0.050133</td>\n",
       "      <td>-0.623017</td>\n",
       "    </tr>\n",
       "    <tr>\n",
       "      <th>2</th>\n",
       "      <td>-0.425590</td>\n",
       "      <td>-1.379770</td>\n",
       "      <td>-0.018011</td>\n",
       "      <td>-0.079594</td>\n",
       "      <td>-0.878333</td>\n",
       "    </tr>\n",
       "    <tr>\n",
       "      <th>3</th>\n",
       "      <td>-0.425590</td>\n",
       "      <td>0.411191</td>\n",
       "      <td>-0.045874</td>\n",
       "      <td>-0.018582</td>\n",
       "      <td>0.653562</td>\n",
       "    </tr>\n",
       "    <tr>\n",
       "      <th>4</th>\n",
       "      <td>-0.425590</td>\n",
       "      <td>1.306672</td>\n",
       "      <td>-0.042325</td>\n",
       "      <td>0.068660</td>\n",
       "      <td>-0.367701</td>\n",
       "    </tr>\n",
       "    <tr>\n",
       "      <th>...</th>\n",
       "      <td>...</td>\n",
       "      <td>...</td>\n",
       "      <td>...</td>\n",
       "      <td>...</td>\n",
       "      <td>...</td>\n",
       "    </tr>\n",
       "    <tr>\n",
       "      <th>34541</th>\n",
       "      <td>-0.425590</td>\n",
       "      <td>-0.484290</td>\n",
       "      <td>0.026623</td>\n",
       "      <td>-0.073702</td>\n",
       "      <td>-1.133649</td>\n",
       "    </tr>\n",
       "    <tr>\n",
       "      <th>34542</th>\n",
       "      <td>-0.425590</td>\n",
       "      <td>-1.379770</td>\n",
       "      <td>-0.031321</td>\n",
       "      <td>-0.048993</td>\n",
       "      <td>0.653562</td>\n",
       "    </tr>\n",
       "    <tr>\n",
       "      <th>34543</th>\n",
       "      <td>1.589685</td>\n",
       "      <td>0.411191</td>\n",
       "      <td>-0.003281</td>\n",
       "      <td>0.046422</td>\n",
       "      <td>-1.388965</td>\n",
       "    </tr>\n",
       "    <tr>\n",
       "      <th>34544</th>\n",
       "      <td>-0.425590</td>\n",
       "      <td>0.411191</td>\n",
       "      <td>-0.028216</td>\n",
       "      <td>-0.018582</td>\n",
       "      <td>-0.367701</td>\n",
       "    </tr>\n",
       "    <tr>\n",
       "      <th>34545</th>\n",
       "      <td>-0.425590</td>\n",
       "      <td>0.411191</td>\n",
       "      <td>-0.002039</td>\n",
       "      <td>-0.035688</td>\n",
       "      <td>-1.388965</td>\n",
       "    </tr>\n",
       "  </tbody>\n",
       "</table>\n",
       "<p>34546 rows × 5 columns</p>\n",
       "</div>"
      ],
      "text/plain": [
       "              0         1         2         3         4\n",
       "0     -0.425590  1.306672 -0.032830  0.023043 -0.623017\n",
       "1     -0.425590 -0.484290 -0.068679 -0.050133 -0.623017\n",
       "2     -0.425590 -1.379770 -0.018011 -0.079594 -0.878333\n",
       "3     -0.425590  0.411191 -0.045874 -0.018582  0.653562\n",
       "4     -0.425590  1.306672 -0.042325  0.068660 -0.367701\n",
       "...         ...       ...       ...       ...       ...\n",
       "34541 -0.425590 -0.484290  0.026623 -0.073702 -1.133649\n",
       "34542 -0.425590 -1.379770 -0.031321 -0.048993  0.653562\n",
       "34543  1.589685  0.411191 -0.003281  0.046422 -1.388965\n",
       "34544 -0.425590  0.411191 -0.028216 -0.018582 -0.367701\n",
       "34545 -0.425590  0.411191 -0.002039 -0.035688 -1.388965\n",
       "\n",
       "[34546 rows x 5 columns]"
      ]
     },
     "execution_count": 456,
     "metadata": {},
     "output_type": "execute_result"
    }
   ],
   "source": [
    "X_train_forward = selector1.transform(X_train_std)\n",
    "pd.DataFrame(X_train_forward)"
   ]
  },
  {
   "cell_type": "code",
   "execution_count": 457,
   "id": "d8c50203",
   "metadata": {},
   "outputs": [],
   "source": [
    "X_train_forward_2 = poly.fit_transform(X_train_forward) # добавим полиномиальных фичей"
   ]
  },
  {
   "cell_type": "code",
   "execution_count": 458,
   "id": "c499be71",
   "metadata": {
    "scrolled": true
   },
   "outputs": [
    {
     "data": {
      "text/plain": [
       "(34546, 21)"
      ]
     },
     "execution_count": 458,
     "metadata": {},
     "output_type": "execute_result"
    }
   ],
   "source": [
    "X_train_forward_2.shape"
   ]
  },
  {
   "cell_type": "code",
   "execution_count": null,
   "id": "b7a24500",
   "metadata": {},
   "outputs": [],
   "source": [
    "selector2 = SequentialFeatureSelector(log_reg, scoring=metric,\n",
    "                                     verbose=2, k_features=10, forward=True, n_jobs=-1) # жадный алгоритм\n",
    "selector2.fit(X_train_forward_2, y_train)"
   ]
  },
  {
   "cell_type": "code",
   "execution_count": 470,
   "id": "29374f61",
   "metadata": {},
   "outputs": [],
   "source": [
    "X_train_forward_2 = selector2.transform(X_train_forward_2)"
   ]
  },
  {
   "cell_type": "code",
   "execution_count": 471,
   "id": "0a90da21",
   "metadata": {},
   "outputs": [
    {
     "data": {
      "text/plain": [
       "LogisticRegression(C=5.6, class_weight={0: 0.3276, 1: 1.0, 2: 2.9245},\n",
       "                   max_iter=1000)"
      ]
     },
     "execution_count": 471,
     "metadata": {},
     "output_type": "execute_result"
    }
   ],
   "source": [
    "log_reg.fit(X_train_forward_2, y_train)"
   ]
  },
  {
   "cell_type": "markdown",
   "id": "a648594b",
   "metadata": {},
   "source": [
    "### Преобразование тест датасета"
   ]
  },
  {
   "cell_type": "code",
   "execution_count": 472,
   "id": "8d00cfb3",
   "metadata": {},
   "outputs": [],
   "source": [
    "df = pd.read_csv('test-2.csv') # считываем данные\n",
    "ids =  df['Id']\n",
    "useless_cols = ['Id', 'listing_id', 'building_id', 'manager_id'] # удалим ненужные колонки\n",
    "df.drop(columns=useless_cols, inplace=True)\n",
    "df.drop(columns=np.array(['display_address', 'street_address']), inplace=True) # удалим строковые адреса\n",
    "X_test = df.copy()\n",
    "X_test['created'] = pd.to_datetime(X_test['created'], infer_datetime_format=True) # to date format\n",
    "min_day = X_test['created'].min() # саммый ранний день в датасете\n",
    "min_day = X_test['created'].min() # саммый ранний день в нашем датасете\n",
    "X_test.insert(0, 'month', X_test['created'].dt.month) # создания колонок месяца\n",
    "X_test.insert(1, 'day', (X_test['created'] - min_day).dt.days) # создания колонок дня дней\n",
    "# Является ли этот день выходным\n",
    "X_test['is_weekend'] = X_test['created'].apply(lambda x: 1 if x.date().weekday() in (5, 6) else 0)\n",
    "X_test.drop(columns=['created'], inplace=True) # удаление полной даты\n",
    "X_test.fillna(value='', inplace=True) # заполнение пропусков в discription\n",
    "X_test['num_features'] = X_test['features'].apply(lambda x : x.count('\\'') / 2) # количество \"свойств\"\n",
    "X_test['num_photos'] = X_test['photos'].apply(lambda x : x.count('\\'') / 2) # количество фотографий\n",
    "X_test['len_description'] = X_test['description'].apply(lambda x : len(x)) # длина описания\n",
    "X_test['description_NA'] = (X_test['description'] == '') # колонка есть ли описание\n",
    "X_test.drop(columns=['features', 'photos', 'description'], inplace=True) # удаление замененных колонок\n",
    "X_test['price_per_room'] = X_test['price'] / (X_test['bedrooms'] + X_test['bathrooms'])\n",
    "X_test['price_per_room'][X_test['price_per_room'] == np.inf] = -1\n",
    "X_test['price_per_room'][X_test['price_per_room'] == -1] = X_test['price_per_room'].max() * 2\n",
    "X_test_std = std.transform(X_test) # нормализация данных"
   ]
  },
  {
   "cell_type": "code",
   "execution_count": 477,
   "id": "1a706687",
   "metadata": {},
   "outputs": [],
   "source": [
    "#X_test_std_2 = poly.transform(X_test_std) # добавим полиномиальные фичи\n",
    "X_test_forward = selector1.transform(X_test_std)\n",
    "X_test_forward_2 = poly.transform(X_test_forward)\n",
    "X_test_forward_2 = selector2.transform(X_test_forward_2)"
   ]
  },
  {
   "cell_type": "code",
   "execution_count": 478,
   "id": "c62d213e",
   "metadata": {},
   "outputs": [
    {
     "data": {
      "text/plain": [
       "(14806, 10)"
      ]
     },
     "execution_count": 478,
     "metadata": {},
     "output_type": "execute_result"
    }
   ],
   "source": [
    "X_test_forward_2.shape"
   ]
  },
  {
   "cell_type": "code",
   "execution_count": 479,
   "id": "51e45164",
   "metadata": {},
   "outputs": [],
   "source": [
    "y_pred = log_reg.predict(X_test_forward_2)"
   ]
  },
  {
   "cell_type": "code",
   "execution_count": 481,
   "id": "40a326d0",
   "metadata": {},
   "outputs": [
    {
     "data": {
      "text/plain": [
       "Counter({0: 7268, 2: 4206, 1: 3332})"
      ]
     },
     "execution_count": 481,
     "metadata": {},
     "output_type": "execute_result"
    }
   ],
   "source": [
    "Counter(y_pred)"
   ]
  },
  {
   "cell_type": "code",
   "execution_count": 482,
   "id": "5c05c53a",
   "metadata": {},
   "outputs": [
    {
     "data": {
      "text/html": [
       "<div>\n",
       "<style scoped>\n",
       "    .dataframe tbody tr th:only-of-type {\n",
       "        vertical-align: middle;\n",
       "    }\n",
       "\n",
       "    .dataframe tbody tr th {\n",
       "        vertical-align: top;\n",
       "    }\n",
       "\n",
       "    .dataframe thead th {\n",
       "        text-align: right;\n",
       "    }\n",
       "</style>\n",
       "<table border=\"1\" class=\"dataframe\">\n",
       "  <thead>\n",
       "    <tr style=\"text-align: right;\">\n",
       "      <th></th>\n",
       "      <th>Id</th>\n",
       "      <th>TARGET</th>\n",
       "    </tr>\n",
       "  </thead>\n",
       "  <tbody>\n",
       "    <tr>\n",
       "      <th>0</th>\n",
       "      <td>19477</td>\n",
       "      <td>0</td>\n",
       "    </tr>\n",
       "    <tr>\n",
       "      <th>1</th>\n",
       "      <td>29937</td>\n",
       "      <td>2</td>\n",
       "    </tr>\n",
       "    <tr>\n",
       "      <th>2</th>\n",
       "      <td>109148</td>\n",
       "      <td>2</td>\n",
       "    </tr>\n",
       "    <tr>\n",
       "      <th>3</th>\n",
       "      <td>65728</td>\n",
       "      <td>0</td>\n",
       "    </tr>\n",
       "    <tr>\n",
       "      <th>4</th>\n",
       "      <td>33623</td>\n",
       "      <td>1</td>\n",
       "    </tr>\n",
       "  </tbody>\n",
       "</table>\n",
       "</div>"
      ],
      "text/plain": [
       "       Id  TARGET\n",
       "0   19477       0\n",
       "1   29937       2\n",
       "2  109148       2\n",
       "3   65728       0\n",
       "4   33623       1"
      ]
     },
     "execution_count": 482,
     "metadata": {},
     "output_type": "execute_result"
    }
   ],
   "source": [
    "ans = pd.DataFrame({'Id' : ids, 'TARGET' : y_pred})\n",
    "ans.head()"
   ]
  },
  {
   "cell_type": "code",
   "execution_count": 483,
   "id": "6f2942a8",
   "metadata": {
    "scrolled": true
   },
   "outputs": [
    {
     "data": {
      "text/html": [
       "<div>\n",
       "<style scoped>\n",
       "    .dataframe tbody tr th:only-of-type {\n",
       "        vertical-align: middle;\n",
       "    }\n",
       "\n",
       "    .dataframe tbody tr th {\n",
       "        vertical-align: top;\n",
       "    }\n",
       "\n",
       "    .dataframe thead th {\n",
       "        text-align: right;\n",
       "    }\n",
       "</style>\n",
       "<table border=\"1\" class=\"dataframe\">\n",
       "  <thead>\n",
       "    <tr style=\"text-align: right;\">\n",
       "      <th></th>\n",
       "      <th>Id</th>\n",
       "      <th>TARGET</th>\n",
       "    </tr>\n",
       "  </thead>\n",
       "  <tbody>\n",
       "    <tr>\n",
       "      <th>0</th>\n",
       "      <td>19477</td>\n",
       "      <td>low</td>\n",
       "    </tr>\n",
       "    <tr>\n",
       "      <th>1</th>\n",
       "      <td>29937</td>\n",
       "      <td>high</td>\n",
       "    </tr>\n",
       "    <tr>\n",
       "      <th>2</th>\n",
       "      <td>109148</td>\n",
       "      <td>high</td>\n",
       "    </tr>\n",
       "    <tr>\n",
       "      <th>3</th>\n",
       "      <td>65728</td>\n",
       "      <td>low</td>\n",
       "    </tr>\n",
       "    <tr>\n",
       "      <th>4</th>\n",
       "      <td>33623</td>\n",
       "      <td>medium</td>\n",
       "    </tr>\n",
       "  </tbody>\n",
       "</table>\n",
       "</div>"
      ],
      "text/plain": [
       "       Id  TARGET\n",
       "0   19477     low\n",
       "1   29937    high\n",
       "2  109148    high\n",
       "3   65728     low\n",
       "4   33623  medium"
      ]
     },
     "execution_count": 483,
     "metadata": {},
     "output_type": "execute_result"
    }
   ],
   "source": [
    "ans['TARGET'] = ans['TARGET'].map({0 : 'low', 1 : 'medium', 2 : 'high'})\n",
    "ans.head()"
   ]
  },
  {
   "cell_type": "code",
   "execution_count": 484,
   "id": "2779e61e",
   "metadata": {},
   "outputs": [],
   "source": [
    "ans.to_csv('forward.csv', index=False)"
   ]
  }
 ],
 "metadata": {
  "kernelspec": {
   "display_name": "Python 3 (ipykernel)",
   "language": "python",
   "name": "python3"
  },
  "language_info": {
   "codemirror_mode": {
    "name": "ipython",
    "version": 3
   },
   "file_extension": ".py",
   "mimetype": "text/x-python",
   "name": "python",
   "nbconvert_exporter": "python",
   "pygments_lexer": "ipython3",
   "version": "3.8.10"
  }
 },
 "nbformat": 4,
 "nbformat_minor": 5
}
